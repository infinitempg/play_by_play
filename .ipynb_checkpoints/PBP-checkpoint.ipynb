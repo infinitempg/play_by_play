{
 "cells": [
  {
   "cell_type": "markdown",
   "metadata": {},
   "source": [
    "# Play by Play Gatherer - ISFL"
   ]
  },
  {
   "cell_type": "code",
   "execution_count": 1,
   "metadata": {},
   "outputs": [
    {
     "name": "stdout",
     "output_type": "stream",
     "text": [
      "The history saving thread hit an unexpected error (DatabaseError('database disk image is malformed')).History will not be written to the database.\n"
     ]
    }
   ],
   "source": [
    "import pandas as pd\n",
    "import numpy as np\n",
    "from tqdm.notebook import tqdm\n",
    "from simFootballPBP import *\n",
    "import warnings\n",
    "warnings.filterwarnings('ignore')"
   ]
  },
  {
   "cell_type": "code",
   "execution_count": 2,
   "metadata": {},
   "outputs": [
    {
     "data": {
      "text/plain": [
       "{'3205': 1,\n",
       " '3206': 1,\n",
       " '3207': 1,\n",
       " '3208': 1,\n",
       " '3209': 2,\n",
       " '3210': 2,\n",
       " '3211': 2,\n",
       " '3212': 2,\n",
       " '3213': 3,\n",
       " '3214': 3,\n",
       " '3215': 3,\n",
       " '3216': 3,\n",
       " '3217': 4,\n",
       " '3218': 4,\n",
       " '3219': 4,\n",
       " '3220': 4,\n",
       " '3221': 5,\n",
       " '3222': 5,\n",
       " '3223': 5,\n",
       " '3224': 5,\n",
       " '3225': 6,\n",
       " '3226': 6,\n",
       " '3227': 6,\n",
       " '3228': 6,\n",
       " '3229': 7,\n",
       " '3230': 7,\n",
       " '3231': 7,\n",
       " '3232': 7,\n",
       " '3233': 8,\n",
       " '3234': 8,\n",
       " '3235': 8,\n",
       " '3236': 8,\n",
       " '3237': 9,\n",
       " '3238': 9,\n",
       " '3239': 9,\n",
       " '3240': 9,\n",
       " '3241': 10,\n",
       " '3242': 10,\n",
       " '3243': 10,\n",
       " '3244': 10,\n",
       " '3245': 11,\n",
       " '3246': 11,\n",
       " '3247': 11,\n",
       " '3248': 11,\n",
       " '3249': 12,\n",
       " '3250': 12,\n",
       " '3251': 12,\n",
       " '3252': 12,\n",
       " '3253': 13,\n",
       " '3254': 13,\n",
       " '3255': 13,\n",
       " '3256': 13,\n",
       " '3257': 14,\n",
       " '3258': 14,\n",
       " '3259': 14,\n",
       " '3260': 14,\n",
       " '3261': 15,\n",
       " '3262': 15,\n",
       " '3263': 15}"
      ]
     },
     "execution_count": 2,
     "metadata": {},
     "output_type": "execute_result"
    }
   ],
   "source": [
    "getSeasonIDs(14)[1]"
   ]
  },
  {
   "cell_type": "code",
   "execution_count": 3,
   "metadata": {},
   "outputs": [],
   "source": [
    "indexList = range(1,26)\n",
    "# indexList = [25]"
   ]
  },
  {
   "cell_type": "code",
   "execution_count": 5,
   "metadata": {},
   "outputs": [
    {
     "data": {
      "application/vnd.jupyter.widget-view+json": {
       "model_id": "ee44f0aa147d44a1977350af35d93744",
       "version_major": 2,
       "version_minor": 0
      },
      "text/plain": [
       "HBox(children=(FloatProgress(value=0.0, description='S', max=25.0, style=ProgressStyle(description_width='init…"
      ]
     },
     "metadata": {},
     "output_type": "display_data"
    },
    {
     "data": {
      "application/vnd.jupyter.widget-view+json": {
       "model_id": "db193beef75149caaefcbe8be1ebb7db",
       "version_major": 2,
       "version_minor": 0
      },
      "text/plain": [
       "HBox(children=(FloatProgress(value=0.0, description='id', max=45.0, style=ProgressStyle(description_width='ini…"
      ]
     },
     "metadata": {},
     "output_type": "display_data"
    },
    {
     "data": {
      "application/vnd.jupyter.widget-view+json": {
       "model_id": "ea61a9309e0f42398aed7af7a3be73d0",
       "version_major": 2,
       "version_minor": 0
      },
      "text/plain": [
       "HBox(children=(FloatProgress(value=0.0, description='id', max=59.0, style=ProgressStyle(description_width='ini…"
      ]
     },
     "metadata": {},
     "output_type": "display_data"
    },
    {
     "data": {
      "application/vnd.jupyter.widget-view+json": {
       "model_id": "6a211d2f41954bb0b14be25c4e94189f",
       "version_major": 2,
       "version_minor": 0
      },
      "text/plain": [
       "HBox(children=(FloatProgress(value=0.0, description='id', max=59.0, style=ProgressStyle(description_width='ini…"
      ]
     },
     "metadata": {},
     "output_type": "display_data"
    },
    {
     "data": {
      "application/vnd.jupyter.widget-view+json": {
       "model_id": "d73cf50ac6724caca31ac3a99e4c342a",
       "version_major": 2,
       "version_minor": 0
      },
      "text/plain": [
       "HBox(children=(FloatProgress(value=0.0, description='id', max=59.0, style=ProgressStyle(description_width='ini…"
      ]
     },
     "metadata": {},
     "output_type": "display_data"
    },
    {
     "data": {
      "application/vnd.jupyter.widget-view+json": {
       "model_id": "47a3c1b1ce014cdda23e321a2128318a",
       "version_major": 2,
       "version_minor": 0
      },
      "text/plain": [
       "HBox(children=(FloatProgress(value=0.0, description='id', max=59.0, style=ProgressStyle(description_width='ini…"
      ]
     },
     "metadata": {},
     "output_type": "display_data"
    },
    {
     "data": {
      "application/vnd.jupyter.widget-view+json": {
       "model_id": "28abbda416264d12aef8c2f281ac2297",
       "version_major": 2,
       "version_minor": 0
      },
      "text/plain": [
       "HBox(children=(FloatProgress(value=0.0, description='id', max=59.0, style=ProgressStyle(description_width='ini…"
      ]
     },
     "metadata": {},
     "output_type": "display_data"
    },
    {
     "data": {
      "application/vnd.jupyter.widget-view+json": {
       "model_id": "62a452e6aaa545c9ba9af93d7a809ed7",
       "version_major": 2,
       "version_minor": 0
      },
      "text/plain": [
       "HBox(children=(FloatProgress(value=0.0, description='id', max=59.0, style=ProgressStyle(description_width='ini…"
      ]
     },
     "metadata": {},
     "output_type": "display_data"
    },
    {
     "data": {
      "application/vnd.jupyter.widget-view+json": {
       "model_id": "4cb4ea5138cf455580e82cef5d2e58a1",
       "version_major": 2,
       "version_minor": 0
      },
      "text/plain": [
       "HBox(children=(FloatProgress(value=0.0, description='id', max=59.0, style=ProgressStyle(description_width='ini…"
      ]
     },
     "metadata": {},
     "output_type": "display_data"
    },
    {
     "data": {
      "application/vnd.jupyter.widget-view+json": {
       "model_id": "d7f106550bcf47979523757681d0c5a4",
       "version_major": 2,
       "version_minor": 0
      },
      "text/plain": [
       "HBox(children=(FloatProgress(value=0.0, description='id', max=59.0, style=ProgressStyle(description_width='ini…"
      ]
     },
     "metadata": {},
     "output_type": "display_data"
    },
    {
     "data": {
      "application/vnd.jupyter.widget-view+json": {
       "model_id": "27295c10a7e64865b86966828c93202a",
       "version_major": 2,
       "version_minor": 0
      },
      "text/plain": [
       "HBox(children=(FloatProgress(value=0.0, description='id', max=59.0, style=ProgressStyle(description_width='ini…"
      ]
     },
     "metadata": {},
     "output_type": "display_data"
    },
    {
     "data": {
      "application/vnd.jupyter.widget-view+json": {
       "model_id": "8526fcd54e254dd0add1e49800193ab8",
       "version_major": 2,
       "version_minor": 0
      },
      "text/plain": [
       "HBox(children=(FloatProgress(value=0.0, description='id', max=59.0, style=ProgressStyle(description_width='ini…"
      ]
     },
     "metadata": {},
     "output_type": "display_data"
    },
    {
     "data": {
      "application/vnd.jupyter.widget-view+json": {
       "model_id": "65c18dd776f94e00ae77faefb643ba21",
       "version_major": 2,
       "version_minor": 0
      },
      "text/plain": [
       "HBox(children=(FloatProgress(value=0.0, description='id', max=59.0, style=ProgressStyle(description_width='ini…"
      ]
     },
     "metadata": {},
     "output_type": "display_data"
    },
    {
     "data": {
      "application/vnd.jupyter.widget-view+json": {
       "model_id": "abed32cbf3274d8aa54ad9090f750fbd",
       "version_major": 2,
       "version_minor": 0
      },
      "text/plain": [
       "HBox(children=(FloatProgress(value=0.0, description='id', max=59.0, style=ProgressStyle(description_width='ini…"
      ]
     },
     "metadata": {},
     "output_type": "display_data"
    },
    {
     "data": {
      "application/vnd.jupyter.widget-view+json": {
       "model_id": "2d8d9da86cd6428ababb6ddff6d662b9",
       "version_major": 2,
       "version_minor": 0
      },
      "text/plain": [
       "HBox(children=(FloatProgress(value=0.0, description='id', max=59.0, style=ProgressStyle(description_width='ini…"
      ]
     },
     "metadata": {},
     "output_type": "display_data"
    },
    {
     "data": {
      "application/vnd.jupyter.widget-view+json": {
       "model_id": "a296c0f043c24ea19edc31ba0c79c62b",
       "version_major": 2,
       "version_minor": 0
      },
      "text/plain": [
       "HBox(children=(FloatProgress(value=0.0, description='id', max=59.0, style=ProgressStyle(description_width='ini…"
      ]
     },
     "metadata": {},
     "output_type": "display_data"
    },
    {
     "data": {
      "application/vnd.jupyter.widget-view+json": {
       "model_id": "1223fb3d69664210bb274503bae93aff",
       "version_major": 2,
       "version_minor": 0
      },
      "text/plain": [
       "HBox(children=(FloatProgress(value=0.0, description='id', max=72.0, style=ProgressStyle(description_width='ini…"
      ]
     },
     "metadata": {},
     "output_type": "display_data"
    },
    {
     "data": {
      "application/vnd.jupyter.widget-view+json": {
       "model_id": "16429634c0d249aca905ea29240d7b90",
       "version_major": 2,
       "version_minor": 0
      },
      "text/plain": [
       "HBox(children=(FloatProgress(value=0.0, description='id', max=72.0, style=ProgressStyle(description_width='ini…"
      ]
     },
     "metadata": {},
     "output_type": "display_data"
    },
    {
     "data": {
      "application/vnd.jupyter.widget-view+json": {
       "model_id": "7bc206418328450ebb0129dcb0c2596c",
       "version_major": 2,
       "version_minor": 0
      },
      "text/plain": [
       "HBox(children=(FloatProgress(value=0.0, description='id', max=72.0, style=ProgressStyle(description_width='ini…"
      ]
     },
     "metadata": {},
     "output_type": "display_data"
    },
    {
     "data": {
      "application/vnd.jupyter.widget-view+json": {
       "model_id": "11c9d73d97de4fccb3bc0a4521bd7617",
       "version_major": 2,
       "version_minor": 0
      },
      "text/plain": [
       "HBox(children=(FloatProgress(value=0.0, description='id', max=72.0, style=ProgressStyle(description_width='ini…"
      ]
     },
     "metadata": {},
     "output_type": "display_data"
    },
    {
     "data": {
      "application/vnd.jupyter.widget-view+json": {
       "model_id": "cf96cff7327343f4b0494c308eefa2ac",
       "version_major": 2,
       "version_minor": 0
      },
      "text/plain": [
       "HBox(children=(FloatProgress(value=0.0, description='id', max=71.0, style=ProgressStyle(description_width='ini…"
      ]
     },
     "metadata": {},
     "output_type": "display_data"
    },
    {
     "data": {
      "application/vnd.jupyter.widget-view+json": {
       "model_id": "189c7da8c7e141d49983a36aad3100fa",
       "version_major": 2,
       "version_minor": 0
      },
      "text/plain": [
       "HBox(children=(FloatProgress(value=0.0, description='id', max=72.0, style=ProgressStyle(description_width='ini…"
      ]
     },
     "metadata": {},
     "output_type": "display_data"
    },
    {
     "data": {
      "application/vnd.jupyter.widget-view+json": {
       "model_id": "f7b1e81a51f84b079650700aa7a9e436",
       "version_major": 2,
       "version_minor": 0
      },
      "text/plain": [
       "HBox(children=(FloatProgress(value=0.0, description='id', max=85.0, style=ProgressStyle(description_width='ini…"
      ]
     },
     "metadata": {},
     "output_type": "display_data"
    },
    {
     "data": {
      "application/vnd.jupyter.widget-view+json": {
       "model_id": "9d9b0d2cf8ee41e3bac03eeab1beebb0",
       "version_major": 2,
       "version_minor": 0
      },
      "text/plain": [
       "HBox(children=(FloatProgress(value=0.0, description='id', max=103.0, style=ProgressStyle(description_width='in…"
      ]
     },
     "metadata": {},
     "output_type": "display_data"
    },
    {
     "data": {
      "application/vnd.jupyter.widget-view+json": {
       "model_id": "7db89e8de43e42d5961cc27a494c12de",
       "version_major": 2,
       "version_minor": 0
      },
      "text/plain": [
       "HBox(children=(FloatProgress(value=0.0, description='id', max=103.0, style=ProgressStyle(description_width='in…"
      ]
     },
     "metadata": {},
     "output_type": "display_data"
    },
    {
     "data": {
      "application/vnd.jupyter.widget-view+json": {
       "model_id": "c804ca5f4c0a468c810bfdbee5ea3a98",
       "version_major": 2,
       "version_minor": 0
      },
      "text/plain": [
       "HBox(children=(FloatProgress(value=0.0, description='id', max=14.0, style=ProgressStyle(description_width='ini…"
      ]
     },
     "metadata": {},
     "output_type": "display_data"
    }
   ],
   "source": [
    "sBar = tqdm(total=len(indexList),desc='S')\n",
    "for s in indexList:\n",
    "    sData = []\n",
    "    sBar.set_description('S'+str(s))\n",
    "    idList, idDict = getSeasonIDs(s)\n",
    "    idBar = tqdm(total=len(idList),desc='id')\n",
    "    for i in idList:\n",
    "        idBar.set_description(i)\n",
    "        sData.append(getGameData(s,i,idDict))\n",
    "        idBar.update(1)\n",
    "    sDF = pd.concat(sData)\n",
    "    sDF.to_csv('PBP/S%sPBP.csv'%s)\n",
    "    sBar.update(1)"
   ]
  },
  {
   "cell_type": "code",
   "execution_count": 8,
   "metadata": {},
   "outputs": [],
   "source": [
    "import os\n",
    "allDF = pd.concat([pd.read_csv('PBP/%s'%p) for p in next(os.walk('PBP'))[2] if '.csv' in p])\n",
    "allDF = allDF.reset_index().sort_values('S')\n",
    "allDF.to_csv('allPBP.csv')"
   ]
  },
  {
   "cell_type": "code",
   "execution_count": 9,
   "metadata": {},
   "outputs": [
    {
     "data": {
      "text/html": [
       "<div>\n",
       "<style scoped>\n",
       "    .dataframe tbody tr th:only-of-type {\n",
       "        vertical-align: middle;\n",
       "    }\n",
       "\n",
       "    .dataframe tbody tr th {\n",
       "        vertical-align: top;\n",
       "    }\n",
       "\n",
       "    .dataframe thead th {\n",
       "        text-align: right;\n",
       "    }\n",
       "</style>\n",
       "<table border=\"1\" class=\"dataframe\">\n",
       "  <thead>\n",
       "    <tr style=\"text-align: right;\">\n",
       "      <th></th>\n",
       "      <th>index</th>\n",
       "      <th>Unnamed: 0</th>\n",
       "      <th>teamID</th>\n",
       "      <th>Q</th>\n",
       "      <th>time</th>\n",
       "      <th>totTime</th>\n",
       "      <th>down</th>\n",
       "      <th>distance</th>\n",
       "      <th>side</th>\n",
       "      <th>yard</th>\n",
       "      <th>play</th>\n",
       "      <th>gameID</th>\n",
       "      <th>S</th>\n",
       "      <th>homeTeam</th>\n",
       "      <th>awayTeam</th>\n",
       "      <th>teamPoss</th>\n",
       "      <th>dist2goal</th>\n",
       "      <th>awayScore</th>\n",
       "      <th>homeScore</th>\n",
       "    </tr>\n",
       "  </thead>\n",
       "  <tbody>\n",
       "    <tr>\n",
       "      <th>136062</th>\n",
       "      <td>0</td>\n",
       "      <td>0</td>\n",
       "      <td>2</td>\n",
       "      <td>1</td>\n",
       "      <td>15:00</td>\n",
       "      <td>3600</td>\n",
       "      <td>NaN</td>\n",
       "      <td>NaN</td>\n",
       "      <td>YKW</td>\n",
       "      <td>30.0</td>\n",
       "      <td>Booter, A. kicks off.</td>\n",
       "      <td>17</td>\n",
       "      <td>1</td>\n",
       "      <td>YKW</td>\n",
       "      <td>SJS</td>\n",
       "      <td>YKW</td>\n",
       "      <td>70.0</td>\n",
       "      <td>0</td>\n",
       "      <td>0</td>\n",
       "    </tr>\n",
       "    <tr>\n",
       "      <th>142085</th>\n",
       "      <td>6023</td>\n",
       "      <td>42</td>\n",
       "      <td>1</td>\n",
       "      <td>1</td>\n",
       "      <td>0:38</td>\n",
       "      <td>2738</td>\n",
       "      <td>2.0</td>\n",
       "      <td>6.0</td>\n",
       "      <td>YKW</td>\n",
       "      <td>29.0</td>\n",
       "      <td>Rush by Robinson, M. for 7 yds. Tackle by Shel...</td>\n",
       "      <td>14</td>\n",
       "      <td>1</td>\n",
       "      <td>YKW</td>\n",
       "      <td>BAL</td>\n",
       "      <td>BAL</td>\n",
       "      <td>29.0</td>\n",
       "      <td>0</td>\n",
       "      <td>6</td>\n",
       "    </tr>\n",
       "    <tr>\n",
       "      <th>142084</th>\n",
       "      <td>6022</td>\n",
       "      <td>41</td>\n",
       "      <td>1</td>\n",
       "      <td>1</td>\n",
       "      <td>0:57</td>\n",
       "      <td>2757</td>\n",
       "      <td>1.0</td>\n",
       "      <td>10.0</td>\n",
       "      <td>YKW</td>\n",
       "      <td>33.0</td>\n",
       "      <td>Rush by Novel, L. for 4 yds. Tackle by Shelton...</td>\n",
       "      <td>14</td>\n",
       "      <td>1</td>\n",
       "      <td>YKW</td>\n",
       "      <td>BAL</td>\n",
       "      <td>BAL</td>\n",
       "      <td>33.0</td>\n",
       "      <td>0</td>\n",
       "      <td>6</td>\n",
       "    </tr>\n",
       "    <tr>\n",
       "      <th>142083</th>\n",
       "      <td>6021</td>\n",
       "      <td>40</td>\n",
       "      <td>1</td>\n",
       "      <td>1</td>\n",
       "      <td>1:36</td>\n",
       "      <td>2796</td>\n",
       "      <td>3.0</td>\n",
       "      <td>2.0</td>\n",
       "      <td>BAL</td>\n",
       "      <td>50.0</td>\n",
       "      <td>Pass by Kyubee, S., complete to Christmas, C. ...</td>\n",
       "      <td>14</td>\n",
       "      <td>1</td>\n",
       "      <td>YKW</td>\n",
       "      <td>BAL</td>\n",
       "      <td>BAL</td>\n",
       "      <td>50.0</td>\n",
       "      <td>0</td>\n",
       "      <td>6</td>\n",
       "    </tr>\n",
       "    <tr>\n",
       "      <th>142082</th>\n",
       "      <td>6020</td>\n",
       "      <td>39</td>\n",
       "      <td>1</td>\n",
       "      <td>1</td>\n",
       "      <td>2:06</td>\n",
       "      <td>2826</td>\n",
       "      <td>2.0</td>\n",
       "      <td>5.0</td>\n",
       "      <td>BAL</td>\n",
       "      <td>47.0</td>\n",
       "      <td>Pass by Kyubee, S., complete to Piper, W. for ...</td>\n",
       "      <td>14</td>\n",
       "      <td>1</td>\n",
       "      <td>YKW</td>\n",
       "      <td>BAL</td>\n",
       "      <td>BAL</td>\n",
       "      <td>53.0</td>\n",
       "      <td>0</td>\n",
       "      <td>6</td>\n",
       "    </tr>\n",
       "    <tr>\n",
       "      <th>...</th>\n",
       "      <td>...</td>\n",
       "      <td>...</td>\n",
       "      <td>...</td>\n",
       "      <td>...</td>\n",
       "      <td>...</td>\n",
       "      <td>...</td>\n",
       "      <td>...</td>\n",
       "      <td>...</td>\n",
       "      <td>...</td>\n",
       "      <td>...</td>\n",
       "      <td>...</td>\n",
       "      <td>...</td>\n",
       "      <td>...</td>\n",
       "      <td>...</td>\n",
       "      <td>...</td>\n",
       "      <td>...</td>\n",
       "      <td>...</td>\n",
       "      <td>...</td>\n",
       "      <td>...</td>\n",
       "    </tr>\n",
       "    <tr>\n",
       "      <th>236929</th>\n",
       "      <td>1269</td>\n",
       "      <td>9</td>\n",
       "      <td>10</td>\n",
       "      <td>1</td>\n",
       "      <td>12:11</td>\n",
       "      <td>3431</td>\n",
       "      <td>3.0</td>\n",
       "      <td>6.0</td>\n",
       "      <td>AUS</td>\n",
       "      <td>38.0</td>\n",
       "      <td>Pass by Cole (C), E., complete to Jeeta, E. fo...</td>\n",
       "      <td>6371</td>\n",
       "      <td>25</td>\n",
       "      <td>AUS</td>\n",
       "      <td>HON</td>\n",
       "      <td>AUS</td>\n",
       "      <td>62.0</td>\n",
       "      <td>0</td>\n",
       "      <td>0</td>\n",
       "    </tr>\n",
       "    <tr>\n",
       "      <th>236930</th>\n",
       "      <td>1270</td>\n",
       "      <td>10</td>\n",
       "      <td>10</td>\n",
       "      <td>1</td>\n",
       "      <td>11:31</td>\n",
       "      <td>3391</td>\n",
       "      <td>1.0</td>\n",
       "      <td>10.0</td>\n",
       "      <td>HON</td>\n",
       "      <td>44.0</td>\n",
       "      <td>Pass by Cole (C), E., complete to Videl-San (R...</td>\n",
       "      <td>6371</td>\n",
       "      <td>25</td>\n",
       "      <td>AUS</td>\n",
       "      <td>HON</td>\n",
       "      <td>AUS</td>\n",
       "      <td>44.0</td>\n",
       "      <td>0</td>\n",
       "      <td>0</td>\n",
       "    </tr>\n",
       "    <tr>\n",
       "      <th>236931</th>\n",
       "      <td>1271</td>\n",
       "      <td>11</td>\n",
       "      <td>10</td>\n",
       "      <td>1</td>\n",
       "      <td>10:30</td>\n",
       "      <td>3330</td>\n",
       "      <td>1.0</td>\n",
       "      <td>2.0</td>\n",
       "      <td>HON</td>\n",
       "      <td>2.0</td>\n",
       "      <td>Rush by Zoe Watts (R) for 2 yds.</td>\n",
       "      <td>6371</td>\n",
       "      <td>25</td>\n",
       "      <td>AUS</td>\n",
       "      <td>HON</td>\n",
       "      <td>AUS</td>\n",
       "      <td>2.0</td>\n",
       "      <td>0</td>\n",
       "      <td>0</td>\n",
       "    </tr>\n",
       "    <tr>\n",
       "      <th>236919</th>\n",
       "      <td>1259</td>\n",
       "      <td>199</td>\n",
       "      <td>4</td>\n",
       "      <td>4</td>\n",
       "      <td>0:22</td>\n",
       "      <td>22</td>\n",
       "      <td>1.0</td>\n",
       "      <td>10.0</td>\n",
       "      <td>NO</td>\n",
       "      <td>21.0</td>\n",
       "      <td>Pass by Cue (C), J., complete to Evans, H. for...</td>\n",
       "      <td>6370</td>\n",
       "      <td>25</td>\n",
       "      <td>NO</td>\n",
       "      <td>AZ</td>\n",
       "      <td>AZ</td>\n",
       "      <td>21.0</td>\n",
       "      <td>16</td>\n",
       "      <td>24</td>\n",
       "    </tr>\n",
       "    <tr>\n",
       "      <th>239456</th>\n",
       "      <td>3796</td>\n",
       "      <td>215</td>\n",
       "      <td>1</td>\n",
       "      <td>4</td>\n",
       "      <td>0:57</td>\n",
       "      <td>57</td>\n",
       "      <td>4.0</td>\n",
       "      <td>4.0</td>\n",
       "      <td>BAL</td>\n",
       "      <td>39.0</td>\n",
       "      <td>Punt by Kokot (R), B. of 39 yards. Touchback.</td>\n",
       "      <td>6382</td>\n",
       "      <td>25</td>\n",
       "      <td>YKW</td>\n",
       "      <td>BAL</td>\n",
       "      <td>YKW</td>\n",
       "      <td>39.0</td>\n",
       "      <td>6</td>\n",
       "      <td>23</td>\n",
       "    </tr>\n",
       "  </tbody>\n",
       "</table>\n",
       "<p>342142 rows × 19 columns</p>\n",
       "</div>"
      ],
      "text/plain": [
       "        index  Unnamed: 0  teamID  Q   time  totTime  down  distance side  \\\n",
       "136062      0           0       2  1  15:00     3600   NaN       NaN  YKW   \n",
       "142085   6023          42       1  1   0:38     2738   2.0       6.0  YKW   \n",
       "142084   6022          41       1  1   0:57     2757   1.0      10.0  YKW   \n",
       "142083   6021          40       1  1   1:36     2796   3.0       2.0  BAL   \n",
       "142082   6020          39       1  1   2:06     2826   2.0       5.0  BAL   \n",
       "...       ...         ...     ... ..    ...      ...   ...       ...  ...   \n",
       "236929   1269           9      10  1  12:11     3431   3.0       6.0  AUS   \n",
       "236930   1270          10      10  1  11:31     3391   1.0      10.0  HON   \n",
       "236931   1271          11      10  1  10:30     3330   1.0       2.0  HON   \n",
       "236919   1259         199       4  4   0:22       22   1.0      10.0   NO   \n",
       "239456   3796         215       1  4   0:57       57   4.0       4.0  BAL   \n",
       "\n",
       "        yard                                               play  gameID   S  \\\n",
       "136062  30.0                              Booter, A. kicks off.      17   1   \n",
       "142085  29.0  Rush by Robinson, M. for 7 yds. Tackle by Shel...      14   1   \n",
       "142084  33.0  Rush by Novel, L. for 4 yds. Tackle by Shelton...      14   1   \n",
       "142083  50.0  Pass by Kyubee, S., complete to Christmas, C. ...      14   1   \n",
       "142082  47.0  Pass by Kyubee, S., complete to Piper, W. for ...      14   1   \n",
       "...      ...                                                ...     ...  ..   \n",
       "236929  38.0  Pass by Cole (C), E., complete to Jeeta, E. fo...    6371  25   \n",
       "236930  44.0  Pass by Cole (C), E., complete to Videl-San (R...    6371  25   \n",
       "236931   2.0                   Rush by Zoe Watts (R) for 2 yds.    6371  25   \n",
       "236919  21.0  Pass by Cue (C), J., complete to Evans, H. for...    6370  25   \n",
       "239456  39.0      Punt by Kokot (R), B. of 39 yards. Touchback.    6382  25   \n",
       "\n",
       "       homeTeam awayTeam teamPoss  dist2goal  awayScore  homeScore  \n",
       "136062      YKW      SJS      YKW       70.0          0          0  \n",
       "142085      YKW      BAL      BAL       29.0          0          6  \n",
       "142084      YKW      BAL      BAL       33.0          0          6  \n",
       "142083      YKW      BAL      BAL       50.0          0          6  \n",
       "142082      YKW      BAL      BAL       53.0          0          6  \n",
       "...         ...      ...      ...        ...        ...        ...  \n",
       "236929      AUS      HON      AUS       62.0          0          0  \n",
       "236930      AUS      HON      AUS       44.0          0          0  \n",
       "236931      AUS      HON      AUS        2.0          0          0  \n",
       "236919       NO       AZ       AZ       21.0         16         24  \n",
       "239456      YKW      BAL      YKW       39.0          6         23  \n",
       "\n",
       "[342142 rows x 19 columns]"
      ]
     },
     "execution_count": 9,
     "metadata": {},
     "output_type": "execute_result"
    }
   ],
   "source": [
    "allDF"
   ]
  },
  {
   "cell_type": "code",
   "execution_count": 6,
   "metadata": {},
   "outputs": [
    {
     "data": {
      "text/html": [
       "<div>\n",
       "<style scoped>\n",
       "    .dataframe tbody tr th:only-of-type {\n",
       "        vertical-align: middle;\n",
       "    }\n",
       "\n",
       "    .dataframe tbody tr th {\n",
       "        vertical-align: top;\n",
       "    }\n",
       "\n",
       "    .dataframe thead th {\n",
       "        text-align: right;\n",
       "    }\n",
       "</style>\n",
       "<table border=\"1\" class=\"dataframe\">\n",
       "  <thead>\n",
       "    <tr style=\"text-align: right;\">\n",
       "      <th></th>\n",
       "      <th>Unnamed: 0</th>\n",
       "      <th>teamID</th>\n",
       "      <th>Q</th>\n",
       "      <th>time</th>\n",
       "      <th>totTime</th>\n",
       "      <th>down</th>\n",
       "      <th>distance</th>\n",
       "      <th>side</th>\n",
       "      <th>yard</th>\n",
       "      <th>play</th>\n",
       "      <th>gameID</th>\n",
       "      <th>S</th>\n",
       "      <th>homeTeam</th>\n",
       "      <th>awayTeam</th>\n",
       "      <th>teamPoss</th>\n",
       "      <th>dist2goal</th>\n",
       "      <th>awayScore</th>\n",
       "      <th>homeScore</th>\n",
       "    </tr>\n",
       "  </thead>\n",
       "  <tbody>\n",
       "    <tr>\n",
       "      <th>0</th>\n",
       "      <td>0</td>\n",
       "      <td>1</td>\n",
       "      <td>1</td>\n",
       "      <td>15:00</td>\n",
       "      <td>3600</td>\n",
       "      <td>NaN</td>\n",
       "      <td>NaN</td>\n",
       "      <td>BAL</td>\n",
       "      <td>30.0</td>\n",
       "      <td>Brand, F. kicks off.</td>\n",
       "      <td>5154</td>\n",
       "      <td>21</td>\n",
       "      <td>BAL</td>\n",
       "      <td>YKW</td>\n",
       "      <td>BAL</td>\n",
       "      <td>70.0</td>\n",
       "      <td>0</td>\n",
       "      <td>0</td>\n",
       "    </tr>\n",
       "    <tr>\n",
       "      <th>1</th>\n",
       "      <td>1</td>\n",
       "      <td>2</td>\n",
       "      <td>1</td>\n",
       "      <td>15:00</td>\n",
       "      <td>3600</td>\n",
       "      <td>NaN</td>\n",
       "      <td>NaN</td>\n",
       "      <td>NaN</td>\n",
       "      <td>NaN</td>\n",
       "      <td>The kick sails into the endzone.</td>\n",
       "      <td>5154</td>\n",
       "      <td>21</td>\n",
       "      <td>BAL</td>\n",
       "      <td>YKW</td>\n",
       "      <td>YKW</td>\n",
       "      <td>NaN</td>\n",
       "      <td>0</td>\n",
       "      <td>0</td>\n",
       "    </tr>\n",
       "    <tr>\n",
       "      <th>2</th>\n",
       "      <td>2</td>\n",
       "      <td>2</td>\n",
       "      <td>1</td>\n",
       "      <td>15:00</td>\n",
       "      <td>3600</td>\n",
       "      <td>NaN</td>\n",
       "      <td>NaN</td>\n",
       "      <td>NaN</td>\n",
       "      <td>NaN</td>\n",
       "      <td>Snuggles, J. takes it out of the endzone!</td>\n",
       "      <td>5154</td>\n",
       "      <td>21</td>\n",
       "      <td>BAL</td>\n",
       "      <td>YKW</td>\n",
       "      <td>YKW</td>\n",
       "      <td>NaN</td>\n",
       "      <td>0</td>\n",
       "      <td>0</td>\n",
       "    </tr>\n",
       "    <tr>\n",
       "      <th>3</th>\n",
       "      <td>3</td>\n",
       "      <td>2</td>\n",
       "      <td>1</td>\n",
       "      <td>15:00</td>\n",
       "      <td>3600</td>\n",
       "      <td>NaN</td>\n",
       "      <td>NaN</td>\n",
       "      <td>YKW</td>\n",
       "      <td>9.0</td>\n",
       "      <td>Kickoff of 74 yards. Returned by Snuggles, J. ...</td>\n",
       "      <td>5154</td>\n",
       "      <td>21</td>\n",
       "      <td>BAL</td>\n",
       "      <td>YKW</td>\n",
       "      <td>YKW</td>\n",
       "      <td>91.0</td>\n",
       "      <td>0</td>\n",
       "      <td>0</td>\n",
       "    </tr>\n",
       "    <tr>\n",
       "      <th>4</th>\n",
       "      <td>4</td>\n",
       "      <td>2</td>\n",
       "      <td>1</td>\n",
       "      <td>14:55</td>\n",
       "      <td>3595</td>\n",
       "      <td>1.0</td>\n",
       "      <td>10.0</td>\n",
       "      <td>YKW</td>\n",
       "      <td>9.0</td>\n",
       "      <td>Rush by Hanyadi, M. for 3 yds. Tackle by Nikko...</td>\n",
       "      <td>5154</td>\n",
       "      <td>21</td>\n",
       "      <td>BAL</td>\n",
       "      <td>YKW</td>\n",
       "      <td>YKW</td>\n",
       "      <td>91.0</td>\n",
       "      <td>0</td>\n",
       "      <td>0</td>\n",
       "    </tr>\n",
       "    <tr>\n",
       "      <th>...</th>\n",
       "      <td>...</td>\n",
       "      <td>...</td>\n",
       "      <td>...</td>\n",
       "      <td>...</td>\n",
       "      <td>...</td>\n",
       "      <td>...</td>\n",
       "      <td>...</td>\n",
       "      <td>...</td>\n",
       "      <td>...</td>\n",
       "      <td>...</td>\n",
       "      <td>...</td>\n",
       "      <td>...</td>\n",
       "      <td>...</td>\n",
       "      <td>...</td>\n",
       "      <td>...</td>\n",
       "      <td>...</td>\n",
       "      <td>...</td>\n",
       "      <td>...</td>\n",
       "    </tr>\n",
       "    <tr>\n",
       "      <th>15171</th>\n",
       "      <td>217</td>\n",
       "      <td>2</td>\n",
       "      <td>4</td>\n",
       "      <td>0:53</td>\n",
       "      <td>53</td>\n",
       "      <td>2.0</td>\n",
       "      <td>2.0</td>\n",
       "      <td>YKW</td>\n",
       "      <td>28.0</td>\n",
       "      <td>Pass by Bigsby, C. to Hanyadi, M. was dropped!...</td>\n",
       "      <td>5225</td>\n",
       "      <td>21</td>\n",
       "      <td>NO</td>\n",
       "      <td>YKW</td>\n",
       "      <td>YKW</td>\n",
       "      <td>72.0</td>\n",
       "      <td>13</td>\n",
       "      <td>33</td>\n",
       "    </tr>\n",
       "    <tr>\n",
       "      <th>15172</th>\n",
       "      <td>218</td>\n",
       "      <td>2</td>\n",
       "      <td>4</td>\n",
       "      <td>0:46</td>\n",
       "      <td>46</td>\n",
       "      <td>3.0</td>\n",
       "      <td>2.0</td>\n",
       "      <td>YKW</td>\n",
       "      <td>28.0</td>\n",
       "      <td>Pass by Bigsby, C., complete to Hanyadi, M. fo...</td>\n",
       "      <td>5225</td>\n",
       "      <td>21</td>\n",
       "      <td>NO</td>\n",
       "      <td>YKW</td>\n",
       "      <td>YKW</td>\n",
       "      <td>72.0</td>\n",
       "      <td>13</td>\n",
       "      <td>33</td>\n",
       "    </tr>\n",
       "    <tr>\n",
       "      <th>15173</th>\n",
       "      <td>219</td>\n",
       "      <td>2</td>\n",
       "      <td>4</td>\n",
       "      <td>0:46</td>\n",
       "      <td>46</td>\n",
       "      <td>1.0</td>\n",
       "      <td>10.0</td>\n",
       "      <td>YKW</td>\n",
       "      <td>48.0</td>\n",
       "      <td>Yellowknife Wraiths : Timeout</td>\n",
       "      <td>5225</td>\n",
       "      <td>21</td>\n",
       "      <td>NO</td>\n",
       "      <td>YKW</td>\n",
       "      <td>YKW</td>\n",
       "      <td>52.0</td>\n",
       "      <td>13</td>\n",
       "      <td>33</td>\n",
       "    </tr>\n",
       "    <tr>\n",
       "      <th>15174</th>\n",
       "      <td>220</td>\n",
       "      <td>2</td>\n",
       "      <td>4</td>\n",
       "      <td>0:12</td>\n",
       "      <td>12</td>\n",
       "      <td>1.0</td>\n",
       "      <td>10.0</td>\n",
       "      <td>YKW</td>\n",
       "      <td>48.0</td>\n",
       "      <td>Pass by Bigsby, C. to Drake, O. was dropped! I...</td>\n",
       "      <td>5225</td>\n",
       "      <td>21</td>\n",
       "      <td>NO</td>\n",
       "      <td>YKW</td>\n",
       "      <td>YKW</td>\n",
       "      <td>52.0</td>\n",
       "      <td>13</td>\n",
       "      <td>33</td>\n",
       "    </tr>\n",
       "    <tr>\n",
       "      <th>15175</th>\n",
       "      <td>221</td>\n",
       "      <td>2</td>\n",
       "      <td>4</td>\n",
       "      <td>0:08</td>\n",
       "      <td>8</td>\n",
       "      <td>2.0</td>\n",
       "      <td>10.0</td>\n",
       "      <td>YKW</td>\n",
       "      <td>48.0</td>\n",
       "      <td>Bigsby, C. throws the ball away to avoid the s...</td>\n",
       "      <td>5225</td>\n",
       "      <td>21</td>\n",
       "      <td>NO</td>\n",
       "      <td>YKW</td>\n",
       "      <td>YKW</td>\n",
       "      <td>52.0</td>\n",
       "      <td>13</td>\n",
       "      <td>33</td>\n",
       "    </tr>\n",
       "  </tbody>\n",
       "</table>\n",
       "<p>15176 rows × 18 columns</p>\n",
       "</div>"
      ],
      "text/plain": [
       "       Unnamed: 0  teamID  Q   time  totTime  down  distance side  yard  \\\n",
       "0               0       1  1  15:00     3600   NaN       NaN  BAL  30.0   \n",
       "1               1       2  1  15:00     3600   NaN       NaN  NaN   NaN   \n",
       "2               2       2  1  15:00     3600   NaN       NaN  NaN   NaN   \n",
       "3               3       2  1  15:00     3600   NaN       NaN  YKW   9.0   \n",
       "4               4       2  1  14:55     3595   1.0      10.0  YKW   9.0   \n",
       "...           ...     ... ..    ...      ...   ...       ...  ...   ...   \n",
       "15171         217       2  4   0:53       53   2.0       2.0  YKW  28.0   \n",
       "15172         218       2  4   0:46       46   3.0       2.0  YKW  28.0   \n",
       "15173         219       2  4   0:46       46   1.0      10.0  YKW  48.0   \n",
       "15174         220       2  4   0:12       12   1.0      10.0  YKW  48.0   \n",
       "15175         221       2  4   0:08        8   2.0      10.0  YKW  48.0   \n",
       "\n",
       "                                                    play  gameID   S homeTeam  \\\n",
       "0                                   Brand, F. kicks off.    5154  21      BAL   \n",
       "1                       The kick sails into the endzone.    5154  21      BAL   \n",
       "2              Snuggles, J. takes it out of the endzone!    5154  21      BAL   \n",
       "3      Kickoff of 74 yards. Returned by Snuggles, J. ...    5154  21      BAL   \n",
       "4      Rush by Hanyadi, M. for 3 yds. Tackle by Nikko...    5154  21      BAL   \n",
       "...                                                  ...     ...  ..      ...   \n",
       "15171  Pass by Bigsby, C. to Hanyadi, M. was dropped!...    5225  21       NO   \n",
       "15172  Pass by Bigsby, C., complete to Hanyadi, M. fo...    5225  21       NO   \n",
       "15173                      Yellowknife Wraiths : Timeout    5225  21       NO   \n",
       "15174  Pass by Bigsby, C. to Drake, O. was dropped! I...    5225  21       NO   \n",
       "15175  Bigsby, C. throws the ball away to avoid the s...    5225  21       NO   \n",
       "\n",
       "      awayTeam teamPoss  dist2goal  awayScore  homeScore  \n",
       "0          YKW      BAL       70.0          0          0  \n",
       "1          YKW      YKW        NaN          0          0  \n",
       "2          YKW      YKW        NaN          0          0  \n",
       "3          YKW      YKW       91.0          0          0  \n",
       "4          YKW      YKW       91.0          0          0  \n",
       "...        ...      ...        ...        ...        ...  \n",
       "15171      YKW      YKW       72.0         13         33  \n",
       "15172      YKW      YKW       72.0         13         33  \n",
       "15173      YKW      YKW       52.0         13         33  \n",
       "15174      YKW      YKW       52.0         13         33  \n",
       "15175      YKW      YKW       52.0         13         33  \n",
       "\n",
       "[15176 rows x 18 columns]"
      ]
     },
     "execution_count": 6,
     "metadata": {},
     "output_type": "execute_result"
    }
   ],
   "source": [
    "pd.read_csv('PBP/S21PBP.csv')"
   ]
  },
  {
   "cell_type": "code",
   "execution_count": null,
   "metadata": {},
   "outputs": [],
   "source": []
  }
 ],
 "metadata": {
  "kernelspec": {
   "display_name": "Python 3",
   "language": "python",
   "name": "python3"
  },
  "language_info": {
   "codemirror_mode": {
    "name": "ipython",
    "version": 3
   },
   "file_extension": ".py",
   "mimetype": "text/x-python",
   "name": "python",
   "nbconvert_exporter": "python",
   "pygments_lexer": "ipython3",
   "version": "3.7.7"
  }
 },
 "nbformat": 4,
 "nbformat_minor": 4
}
