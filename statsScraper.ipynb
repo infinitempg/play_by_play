{
 "cells": [
  {
   "cell_type": "markdown",
   "metadata": {},
   "source": [
    "# Data Scraper"
   ]
  },
  {
   "cell_type": "code",
   "execution_count": 2,
   "metadata": {},
   "outputs": [],
   "source": [
    "import requests\n",
    "from bs4 import BeautifulSoup\n",
    "import pandas as pd\n",
    "import numpy as np\n",
    "import re\n",
    "from tqdm.notebook import tqdm\n",
    "from urllib.request import urlopen\n",
    "import matplotlib.pyplot as plt\n",
    "\n",
    "requestHead = {\"User-Agent\": \"Chrome/47.0.2526.111\"}"
   ]
  },
  {
   "cell_type": "code",
   "execution_count": 18,
   "metadata": {},
   "outputs": [],
   "source": [
    "def percentDist(row):\n",
    "    makeMiss = row[dist].split('/')\n",
    "    makeMiss = [int(m) for m in makeMiss]\n",
    "    if makeMiss[1] != 0:\n",
    "        pct = makeMiss[0]/makeMiss[1]\n",
    "    else:\n",
    "        pct = 0.\n",
    "    return pct*100\n",
    "\n",
    "def teamID(row,S):\n",
    "    if S < 5:\n",
    "        teamIDs = {'1':'BAL','2':'YKW','3':'COL','4':'ARI','5':'OCO','6':'SJS','7':'PHI','8':'LV','9':'CHI','10':'AUS'}\n",
    "    elif S == 5:\n",
    "        teamIDs = {'1':'BAL','2':'YKW','3':'COL','4':'AZ','5':'OCO','6':'SJS','7':'PHI','8':'LV','9':'CHI','10':'AUS'}\n",
    "    elif S <= 21:\n",
    "        teamIDs = {'1':'BAL','2':'YKW','3':'COL','4':'AZ','5':'OCO','6':'SJS','7':'PHI','8':'NO','9':'CHI','10':'AUS'}\n",
    "    else:\n",
    "        teamIDs = {'1':'BAL','2':'YKW','3':'COL','4':'AZ','5':'OCO','6':'SJS','7':'PHI','8':'NO','9':'CHI','10':'AUS','11':'SAR','12':'HON'}\n",
    "    \n",
    "    for ID,team in teamIDs.items():\n",
    "        if row.Team == team:\n",
    "            return int(ID)\n",
    "\n",
    "def standID(S,row):\n",
    "    if S <= 5:\n",
    "        teamIDs = {'1':'Baltimore Hawks','2':'Yellowknife Wraiths','3':'Colorado Yeti','4':'Arizona Outlaws','5':'Orange County Otters',\n",
    "                   '6':'San Jose SaberCats','7':'Philadelphia Liberty','8':'Las Vegas Legion','9':'Chicago Butchers','10':'Austin Copperheads'}\n",
    "    elif S<= 21:\n",
    "        teamIDs = {'1':'Baltimore Hawks','2':'Yellowknife Wraiths','3':'Colorado Yeti','4':'Arizona Outlaws','5':'Orange County Otters',\n",
    "                   '6':'San Jose SaberCats','7':'Philadelphia Liberty','8':'New Orleans Second Line','9':'Chicago Butchers','10':'Austin Copperheads'}\n",
    "    else:\n",
    "        teamIDs = {'1':'Baltimore Hawks','2':'Yellowknife Wraiths','3':'Colorado Yeti','4':'Arizona Outlaws','5':'Orange County Otters',\n",
    "                   '6':'San Jose SaberCats','7':'Philadelphia Liberty','8':'New Orleans Second Line','9':'Chicago Butchers','10':'Austin Copperheads',\n",
    "                   '11':'Sarasota Sailfish','12':'Honolulu Hahalua'}\n",
    "    \n",
    "    for ID,team in teamIDs.items():\n",
    "        if row.Team == team:\n",
    "            return int(ID)\n",
    "\n",
    "def getSeason(num,stat='Kicking'):\n",
    "    if num < 10:\n",
    "        strnum = '0%s'%num\n",
    "    else:\n",
    "        strnum = str(num)\n",
    "    \n",
    "    url = \"http://sim-football.com/indexes/NSFLS\"+strnum+\"/League%sStats.html\"%stat\n",
    "    page = requests.get(url, headers = requestHead)\n",
    "    soup = BeautifulSoup(page.text,'html.parser') \n",
    "    \n",
    "    kickTable = soup.find_all('table', class_ = 'tablesorter')[0]\n",
    "    kickCols=['Name','Pos','Team','G','XPM','XPA','XPpct','FGM','FGA','FGpct','<20','20-29','30-39','40-49','50+','Lng']\n",
    "    testList = []\n",
    "    for row in kickTable.find_all('tr'):\n",
    "        cols = row.find_all('td')\n",
    "        if len(cols) > 0:\n",
    "            testList.append([t.text for t in cols])\n",
    "    kickDF = pd.DataFrame(testList,columns=[t.text for t in kickTable.find_all('tr')[0].find_all('th')])\n",
    "    for i in kickDF.columns:\n",
    "        try:\n",
    "            kickDF[i] = pd.to_numeric(kickDF[i])\n",
    "        except ValueError:\n",
    "            continue\n",
    "    kickDF['teamID'] = kickDF.apply(lambda row: teamID(row,int(strnum)),axis=1)\n",
    "#     for dist in ['<20','20-29','30-39','40-49','50+']:\n",
    "#         kickDF[dist] = kickDF.apply(lambda row: percentDist(row),axis=1)\n",
    "    kickerDF = pd.DataFrame(columns = ['Player','Ovr', 'Str', 'Agi', 'Arm', 'Int', 'Acc', 'Tck', 'Spe','Hnd', 'PBl', 'RBl', 'KDi', 'KAc', 'End'])\n",
    "    for p in range(len(kickDF)):\n",
    "    #     print(p)\n",
    "        playerRow = kickDF.loc[p]\n",
    "        playerName = playerRow['Name']\n",
    "        playerTeam = playerRow['teamID']\n",
    "\n",
    "        urlTeam = 'http://sim-football.com/indexes/NSFLS%s/Teams/%s.html'%(strnum,str(playerTeam))\n",
    "        pageTeam = requests.get(urlTeam, headers = requestHead)\n",
    "        soupTeam = BeautifulSoup(pageTeam.text,'html.parser')\n",
    "        rosterSoup = soupTeam.find_all(id = 'tabs-2')[0]\n",
    "        rosterTable = rosterSoup.find_all('table',class_='Grid')[0]\n",
    "\n",
    "        playerList = []\n",
    "        for row in rosterTable.find_all('tr'):\n",
    "            cols = row.find_all('td')\n",
    "            if len(cols) > 0:\n",
    "                playerList.append([t.text for t in cols])\n",
    "        teamDF = pd.DataFrame(playerList)\n",
    "        teamDF.columns = teamDF.iloc[0]\n",
    "        teamDF = teamDF[1:]\n",
    "        try:\n",
    "            playerDF = teamDF[teamDF['Player'] == playerName][['Player','Ovr', 'Str', 'Agi', 'Arm', 'Int', 'Acc', 'Tck', 'Spe','Hnd', 'PBl', 'RBl', 'KDi', 'KAc', 'End']]\n",
    "            playerDF.index = [p]\n",
    "            kickerDF = pd.concat([kickerDF,playerDF])\n",
    "        except ValueError:\n",
    "            kickDF = kickDF.drop([p],axis=0)\n",
    "    for i in ['Ovr', 'Str', 'Agi', 'Arm', 'Int', 'Acc', 'Tck', 'Spe','Hnd', 'PBl', 'RBl', 'KDi', 'KAc', 'End']:\n",
    "        kickerDF[i] = pd.to_numeric(kickerDF[i])\n",
    "    kickerDF.columns = ['Player','OVR','STR','AGI','ARM','INT','ACC','TCK','SPE','HND','PBl','RBl','KDi','KAc','END']\n",
    "    kickDF = pd.concat([kickDF,kickerDF],axis=1)\n",
    "    kickDF = kickDF.sort_values('teamID').set_index('teamID')\n",
    "    urlStand = 'http://sim-football.com/indexes/NSFLS%s/Index.html'%strnum\n",
    "    pageStand = requests.get(urlStand,headers=requestHead)\n",
    "    soupStand = BeautifulSoup(pageStand.text,'html.parser')\n",
    "    standList = soupStand.find_all('table', class_='Grid')\n",
    "    NSFCstand = standList[0]\n",
    "    ASFCstand = standList[1]\n",
    "    teamList = []\n",
    "    for stand in [NSFCstand,ASFCstand]:\n",
    "        for row in stand.find_all('tr'):\n",
    "            cols = row.find_all('td')\n",
    "            links = row.find_all('a')\n",
    "            if len(links) > 0:\n",
    "    #             print(links)\n",
    "    #             print(cols)\n",
    "                teamList.append([t.text for t in cols])\n",
    "    standDF = pd.DataFrame(teamList,columns=['Team','W','L','T','Pct','PF','PA','Home','Road','Conf','Div','Str'])\n",
    "    for i in ['W','L','T','Pct','PF','PA']:\n",
    "        standDF[i] = pd.to_numeric(standDF[i])\n",
    "    standDF['teamID'] = standDF.apply(lambda row: standID(int(strnum),row),axis=1)\n",
    "    standDF = standDF.sort_values('teamID').set_index('teamID')\n",
    "    standDF = standDF[['W','L','T','Pct','PF','PA']]\n",
    "    standDF.columns = ['W','L','T','WPct','PF','PA']\n",
    "    kickDF = pd.concat([kickDF,standDF],axis=1)\n",
    "    kickDF['S'] = int(strnum)\n",
    "    \n",
    "    return kickDF\n",
    "\n",
    "def getAllStats(statistic):\n",
    "    statDF = getSeason(1,stat=statistic)\n",
    "    progBar = tqdm(total=22,desc='Season')\n",
    "    progBar.update(1)\n",
    "    for s in range(1,23):\n",
    "        statDF = pd.concat([statDF,getSeason(s,stat=statistic)],sort=True)\n",
    "        progBar.update(1)\n",
    "    \n",
    "    statDF2 = statDF.reset_index().dropna()\n",
    "    statDF2.to_csv('Stats/%sDF.csv'%(statistic))\n",
    "    return statDF"
   ]
  },
  {
   "cell_type": "code",
   "execution_count": 20,
   "metadata": {},
   "outputs": [
    {
     "name": "stdout",
     "output_type": "stream",
     "text": [
      "Passing\n"
     ]
    },
    {
     "data": {
      "application/vnd.jupyter.widget-view+json": {
       "model_id": "4b3a88054c4c435bba4798aac4daf260",
       "version_major": 2,
       "version_minor": 0
      },
      "text/plain": [
       "HBox(children=(FloatProgress(value=0.0, description='Season', max=22.0, style=ProgressStyle(description_width=…"
      ]
     },
     "metadata": {},
     "output_type": "display_data"
    },
    {
     "name": "stdout",
     "output_type": "stream",
     "text": [
      "Rushing\n"
     ]
    },
    {
     "data": {
      "application/vnd.jupyter.widget-view+json": {
       "model_id": "997ee92664d048be91348bcec9176b4b",
       "version_major": 2,
       "version_minor": 0
      },
      "text/plain": [
       "HBox(children=(FloatProgress(value=0.0, description='Season', max=22.0, style=ProgressStyle(description_width=…"
      ]
     },
     "metadata": {},
     "output_type": "display_data"
    },
    {
     "name": "stdout",
     "output_type": "stream",
     "text": [
      "Receiving\n"
     ]
    },
    {
     "data": {
      "application/vnd.jupyter.widget-view+json": {
       "model_id": "134b21908ff34483b5a407db1e21f321",
       "version_major": 2,
       "version_minor": 0
      },
      "text/plain": [
       "HBox(children=(FloatProgress(value=0.0, description='Season', max=22.0, style=ProgressStyle(description_width=…"
      ]
     },
     "metadata": {},
     "output_type": "display_data"
    },
    {
     "name": "stdout",
     "output_type": "stream",
     "text": [
      "Defensive\n"
     ]
    },
    {
     "data": {
      "application/vnd.jupyter.widget-view+json": {
       "model_id": "30c10784d5064109929c7b3ab5ee722e",
       "version_major": 2,
       "version_minor": 0
      },
      "text/plain": [
       "HBox(children=(FloatProgress(value=0.0, description='Season', max=22.0, style=ProgressStyle(description_width=…"
      ]
     },
     "metadata": {},
     "output_type": "display_data"
    },
    {
     "name": "stdout",
     "output_type": "stream",
     "text": [
      "Kicking\n"
     ]
    },
    {
     "data": {
      "application/vnd.jupyter.widget-view+json": {
       "model_id": "d6f33dac66dc4e7f8a7ea2f2c35426f7",
       "version_major": 2,
       "version_minor": 0
      },
      "text/plain": [
       "HBox(children=(FloatProgress(value=0.0, description='Season', max=22.0, style=ProgressStyle(description_width=…"
      ]
     },
     "metadata": {},
     "output_type": "display_data"
    },
    {
     "name": "stdout",
     "output_type": "stream",
     "text": [
      "Punting\n"
     ]
    },
    {
     "data": {
      "application/vnd.jupyter.widget-view+json": {
       "model_id": "9dc367a9852549a6bdf13b3760dfb953",
       "version_major": 2,
       "version_minor": 0
      },
      "text/plain": [
       "HBox(children=(FloatProgress(value=0.0, description='Season', max=22.0, style=ProgressStyle(description_width=…"
      ]
     },
     "metadata": {},
     "output_type": "display_data"
    },
    {
     "name": "stdout",
     "output_type": "stream",
     "text": [
      "OffensiveLine\n"
     ]
    },
    {
     "data": {
      "application/vnd.jupyter.widget-view+json": {
       "model_id": "962b6559300848e7b8cd9881f8a1e303",
       "version_major": 2,
       "version_minor": 0
      },
      "text/plain": [
       "HBox(children=(FloatProgress(value=0.0, description='Season', max=22.0, style=ProgressStyle(description_width=…"
      ]
     },
     "metadata": {},
     "output_type": "display_data"
    },
    {
     "name": "stdout",
     "output_type": "stream",
     "text": [
      "SpecialTeams\n"
     ]
    },
    {
     "data": {
      "application/vnd.jupyter.widget-view+json": {
       "model_id": "bfc6326b2d2d4971a13855aa3c00a648",
       "version_major": 2,
       "version_minor": 0
      },
      "text/plain": [
       "HBox(children=(FloatProgress(value=0.0, description='Season', max=22.0, style=ProgressStyle(description_width=…"
      ]
     },
     "metadata": {},
     "output_type": "display_data"
    }
   ],
   "source": [
    "statList = ['Passing','Rushing','Receiving','Defensive','Kicking','Punting','OffensiveLine','SpecialTeams']\n",
    "\n",
    "for stat in statList:\n",
    "    print(stat)\n",
    "    getAllStats(stat)"
   ]
  }
 ],
 "metadata": {
  "kernelspec": {
   "display_name": "Python 3",
   "language": "python",
   "name": "python3"
  },
  "language_info": {
   "codemirror_mode": {
    "name": "ipython",
    "version": 3
   },
   "file_extension": ".py",
   "mimetype": "text/x-python",
   "name": "python",
   "nbconvert_exporter": "python",
   "pygments_lexer": "ipython3",
   "version": "3.7.7"
  }
 },
 "nbformat": 4,
 "nbformat_minor": 4
}
