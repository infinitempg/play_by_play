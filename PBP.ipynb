{
 "cells": [
  {
   "cell_type": "markdown",
   "metadata": {},
   "source": [
    "# Play by Play Gatherer - ISFL"
   ]
  },
  {
   "cell_type": "code",
   "execution_count": 1,
   "metadata": {},
   "outputs": [],
   "source": [
    "import pandas as pd\n",
    "import numpy as np\n",
    "from tqdm.notebook import tqdm\n",
    "from simFootballPBP import *\n",
    "import warnings\n",
    "warnings.filterwarnings('ignore')"
   ]
  },
  {
   "cell_type": "code",
   "execution_count": 2,
   "metadata": {},
   "outputs": [
    {
     "data": {
      "text/html": [
       "<div>\n",
       "<style scoped>\n",
       "    .dataframe tbody tr th:only-of-type {\n",
       "        vertical-align: middle;\n",
       "    }\n",
       "\n",
       "    .dataframe tbody tr th {\n",
       "        vertical-align: top;\n",
       "    }\n",
       "\n",
       "    .dataframe thead th {\n",
       "        text-align: right;\n",
       "    }\n",
       "</style>\n",
       "<table border=\"1\" class=\"dataframe\">\n",
       "  <thead>\n",
       "    <tr style=\"text-align: right;\">\n",
       "      <th></th>\n",
       "      <th>teamID</th>\n",
       "      <th>Q</th>\n",
       "      <th>time</th>\n",
       "      <th>totTime</th>\n",
       "      <th>down</th>\n",
       "      <th>distance</th>\n",
       "      <th>side</th>\n",
       "      <th>yard</th>\n",
       "      <th>play</th>\n",
       "      <th>gameID</th>\n",
       "      <th>S</th>\n",
       "      <th>homeTeam</th>\n",
       "      <th>awayTeam</th>\n",
       "      <th>teamPoss</th>\n",
       "      <th>dist2goal</th>\n",
       "      <th>awayScore</th>\n",
       "      <th>homeScore</th>\n",
       "    </tr>\n",
       "  </thead>\n",
       "  <tbody>\n",
       "    <tr>\n",
       "      <th>0</th>\n",
       "      <td>6</td>\n",
       "      <td>1</td>\n",
       "      <td>15:00</td>\n",
       "      <td>3600</td>\n",
       "      <td></td>\n",
       "      <td></td>\n",
       "      <td>SJS</td>\n",
       "      <td>30</td>\n",
       "      <td>Laces, K. kicks off.</td>\n",
       "      <td>43</td>\n",
       "      <td>1</td>\n",
       "      <td>SJS</td>\n",
       "      <td>OCO</td>\n",
       "      <td>SJS</td>\n",
       "      <td>70</td>\n",
       "      <td>0</td>\n",
       "      <td>0</td>\n",
       "    </tr>\n",
       "    <tr>\n",
       "      <th>1</th>\n",
       "      <td>5</td>\n",
       "      <td>1</td>\n",
       "      <td>15:00</td>\n",
       "      <td>3600</td>\n",
       "      <td></td>\n",
       "      <td></td>\n",
       "      <td></td>\n",
       "      <td></td>\n",
       "      <td>Wright, O. takes it down the right side.</td>\n",
       "      <td>43</td>\n",
       "      <td>1</td>\n",
       "      <td>SJS</td>\n",
       "      <td>OCO</td>\n",
       "      <td>OCO</td>\n",
       "      <td></td>\n",
       "      <td>0</td>\n",
       "      <td>0</td>\n",
       "    </tr>\n",
       "    <tr>\n",
       "      <th>2</th>\n",
       "      <td>5</td>\n",
       "      <td>1</td>\n",
       "      <td>15:00</td>\n",
       "      <td>3600</td>\n",
       "      <td></td>\n",
       "      <td></td>\n",
       "      <td></td>\n",
       "      <td></td>\n",
       "      <td>Wright, O. cuts across the field.</td>\n",
       "      <td>43</td>\n",
       "      <td>1</td>\n",
       "      <td>SJS</td>\n",
       "      <td>OCO</td>\n",
       "      <td>OCO</td>\n",
       "      <td></td>\n",
       "      <td>0</td>\n",
       "      <td>0</td>\n",
       "    </tr>\n",
       "    <tr>\n",
       "      <th>3</th>\n",
       "      <td>5</td>\n",
       "      <td>1</td>\n",
       "      <td>15:00</td>\n",
       "      <td>3600</td>\n",
       "      <td></td>\n",
       "      <td></td>\n",
       "      <td></td>\n",
       "      <td></td>\n",
       "      <td>It's a footrace!</td>\n",
       "      <td>43</td>\n",
       "      <td>1</td>\n",
       "      <td>SJS</td>\n",
       "      <td>OCO</td>\n",
       "      <td>OCO</td>\n",
       "      <td></td>\n",
       "      <td>0</td>\n",
       "      <td>0</td>\n",
       "    </tr>\n",
       "    <tr>\n",
       "      <th>4</th>\n",
       "      <td>5</td>\n",
       "      <td>1</td>\n",
       "      <td>15:00</td>\n",
       "      <td>3600</td>\n",
       "      <td></td>\n",
       "      <td></td>\n",
       "      <td></td>\n",
       "      <td></td>\n",
       "      <td>A 63 yard return.</td>\n",
       "      <td>43</td>\n",
       "      <td>1</td>\n",
       "      <td>SJS</td>\n",
       "      <td>OCO</td>\n",
       "      <td>OCO</td>\n",
       "      <td></td>\n",
       "      <td>0</td>\n",
       "      <td>0</td>\n",
       "    </tr>\n",
       "    <tr>\n",
       "      <th>...</th>\n",
       "      <td>...</td>\n",
       "      <td>...</td>\n",
       "      <td>...</td>\n",
       "      <td>...</td>\n",
       "      <td>...</td>\n",
       "      <td>...</td>\n",
       "      <td>...</td>\n",
       "      <td>...</td>\n",
       "      <td>...</td>\n",
       "      <td>...</td>\n",
       "      <td>...</td>\n",
       "      <td>...</td>\n",
       "      <td>...</td>\n",
       "      <td>...</td>\n",
       "      <td>...</td>\n",
       "      <td>...</td>\n",
       "      <td>...</td>\n",
       "    </tr>\n",
       "    <tr>\n",
       "      <th>179</th>\n",
       "      <td>6</td>\n",
       "      <td>4</td>\n",
       "      <td>2:20</td>\n",
       "      <td>140</td>\n",
       "      <td>1</td>\n",
       "      <td>10</td>\n",
       "      <td>SJS</td>\n",
       "      <td>15</td>\n",
       "      <td>Rush by Bowers Jr, V. for 6 yds. Tackle by Bav...</td>\n",
       "      <td>43</td>\n",
       "      <td>1</td>\n",
       "      <td>SJS</td>\n",
       "      <td>OCO</td>\n",
       "      <td>SJS</td>\n",
       "      <td>85</td>\n",
       "      <td>17</td>\n",
       "      <td>6</td>\n",
       "    </tr>\n",
       "    <tr>\n",
       "      <th>180</th>\n",
       "      <td>6</td>\n",
       "      <td>4</td>\n",
       "      <td>1:50</td>\n",
       "      <td>110</td>\n",
       "      <td>2</td>\n",
       "      <td>4</td>\n",
       "      <td>SJS</td>\n",
       "      <td>21</td>\n",
       "      <td>Pass by Christ, J., to Bottles, B.. INTERCEPTI...</td>\n",
       "      <td>43</td>\n",
       "      <td>1</td>\n",
       "      <td>SJS</td>\n",
       "      <td>OCO</td>\n",
       "      <td>SJS</td>\n",
       "      <td>79</td>\n",
       "      <td>17</td>\n",
       "      <td>6</td>\n",
       "    </tr>\n",
       "    <tr>\n",
       "      <th>181</th>\n",
       "      <td>5</td>\n",
       "      <td>4</td>\n",
       "      <td>1:23</td>\n",
       "      <td>83</td>\n",
       "      <td>1</td>\n",
       "      <td>10</td>\n",
       "      <td>SJS</td>\n",
       "      <td>29</td>\n",
       "      <td>Rush by Wright, O. for 2 yds. Tackle by Miller...</td>\n",
       "      <td>43</td>\n",
       "      <td>1</td>\n",
       "      <td>SJS</td>\n",
       "      <td>OCO</td>\n",
       "      <td>OCO</td>\n",
       "      <td>29</td>\n",
       "      <td>17</td>\n",
       "      <td>6</td>\n",
       "    </tr>\n",
       "    <tr>\n",
       "      <th>182</th>\n",
       "      <td>5</td>\n",
       "      <td>4</td>\n",
       "      <td>0:54</td>\n",
       "      <td>54</td>\n",
       "      <td>2</td>\n",
       "      <td>8</td>\n",
       "      <td>SJS</td>\n",
       "      <td>27</td>\n",
       "      <td>Rush by Wright, O. for 2 yds. Tackle by Brill,...</td>\n",
       "      <td>43</td>\n",
       "      <td>1</td>\n",
       "      <td>SJS</td>\n",
       "      <td>OCO</td>\n",
       "      <td>OCO</td>\n",
       "      <td>27</td>\n",
       "      <td>17</td>\n",
       "      <td>6</td>\n",
       "    </tr>\n",
       "    <tr>\n",
       "      <th>183</th>\n",
       "      <td>5</td>\n",
       "      <td>4</td>\n",
       "      <td>0:24</td>\n",
       "      <td>24</td>\n",
       "      <td>3</td>\n",
       "      <td>6</td>\n",
       "      <td>SJS</td>\n",
       "      <td>25</td>\n",
       "      <td>Rush by Jenkins, L. for 9 yds. Tackle by Canto...</td>\n",
       "      <td>43</td>\n",
       "      <td>1</td>\n",
       "      <td>SJS</td>\n",
       "      <td>OCO</td>\n",
       "      <td>OCO</td>\n",
       "      <td>25</td>\n",
       "      <td>17</td>\n",
       "      <td>6</td>\n",
       "    </tr>\n",
       "  </tbody>\n",
       "</table>\n",
       "<p>184 rows × 17 columns</p>\n",
       "</div>"
      ],
      "text/plain": [
       "    teamID  Q   time  totTime down distance side yard  \\\n",
       "0        6  1  15:00     3600                SJS   30   \n",
       "1        5  1  15:00     3600                           \n",
       "2        5  1  15:00     3600                           \n",
       "3        5  1  15:00     3600                           \n",
       "4        5  1  15:00     3600                           \n",
       "..     ... ..    ...      ...  ...      ...  ...  ...   \n",
       "179      6  4   2:20      140    1       10  SJS   15   \n",
       "180      6  4   1:50      110    2        4  SJS   21   \n",
       "181      5  4   1:23       83    1       10  SJS   29   \n",
       "182      5  4   0:54       54    2        8  SJS   27   \n",
       "183      5  4   0:24       24    3        6  SJS   25   \n",
       "\n",
       "                                                  play  gameID  S homeTeam  \\\n",
       "0                                 Laces, K. kicks off.      43  1      SJS   \n",
       "1             Wright, O. takes it down the right side.      43  1      SJS   \n",
       "2                    Wright, O. cuts across the field.      43  1      SJS   \n",
       "3                                     It's a footrace!      43  1      SJS   \n",
       "4                                    A 63 yard return.      43  1      SJS   \n",
       "..                                                 ...     ... ..      ...   \n",
       "179  Rush by Bowers Jr, V. for 6 yds. Tackle by Bav...      43  1      SJS   \n",
       "180  Pass by Christ, J., to Bottles, B.. INTERCEPTI...      43  1      SJS   \n",
       "181  Rush by Wright, O. for 2 yds. Tackle by Miller...      43  1      SJS   \n",
       "182  Rush by Wright, O. for 2 yds. Tackle by Brill,...      43  1      SJS   \n",
       "183  Rush by Jenkins, L. for 9 yds. Tackle by Canto...      43  1      SJS   \n",
       "\n",
       "    awayTeam teamPoss dist2goal  awayScore  homeScore  \n",
       "0        OCO      SJS        70          0          0  \n",
       "1        OCO      OCO                    0          0  \n",
       "2        OCO      OCO                    0          0  \n",
       "3        OCO      OCO                    0          0  \n",
       "4        OCO      OCO                    0          0  \n",
       "..       ...      ...       ...        ...        ...  \n",
       "179      OCO      SJS        85         17          6  \n",
       "180      OCO      SJS        79         17          6  \n",
       "181      OCO      OCO        29         17          6  \n",
       "182      OCO      OCO        27         17          6  \n",
       "183      OCO      OCO        25         17          6  \n",
       "\n",
       "[184 rows x 17 columns]"
      ]
     },
     "execution_count": 2,
     "metadata": {},
     "output_type": "execute_result"
    }
   ],
   "source": [
    "getGameData(1,43)"
   ]
  },
  {
   "cell_type": "code",
   "execution_count": 3,
   "metadata": {},
   "outputs": [],
   "source": [
    "indexList = [1,2,3,4,5,6,7,8,9,10,11,12,13,14,15,16,17,18,19,20,21,22]"
   ]
  },
  {
   "cell_type": "code",
   "execution_count": 4,
   "metadata": {},
   "outputs": [
    {
     "data": {
      "application/vnd.jupyter.widget-view+json": {
       "model_id": "b79c95170230413f9681a67e5431b4b9",
       "version_major": 2,
       "version_minor": 0
      },
      "text/plain": [
       "HBox(children=(FloatProgress(value=0.0, description='S', max=22.0, style=ProgressStyle(description_width='init…"
      ]
     },
     "metadata": {},
     "output_type": "display_data"
    },
    {
     "data": {
      "application/vnd.jupyter.widget-view+json": {
       "model_id": "11c34324f6f34604a03febb7a71a89c1",
       "version_major": 2,
       "version_minor": 0
      },
      "text/plain": [
       "HBox(children=(FloatProgress(value=0.0, description='id', max=45.0, style=ProgressStyle(description_width='ini…"
      ]
     },
     "metadata": {},
     "output_type": "display_data"
    },
    {
     "data": {
      "application/vnd.jupyter.widget-view+json": {
       "model_id": "a88cebb3e10d489383592286012772f8",
       "version_major": 2,
       "version_minor": 0
      },
      "text/plain": [
       "HBox(children=(FloatProgress(value=0.0, description='id', max=59.0, style=ProgressStyle(description_width='ini…"
      ]
     },
     "metadata": {},
     "output_type": "display_data"
    },
    {
     "data": {
      "application/vnd.jupyter.widget-view+json": {
       "model_id": "0e4e580a06024635b404c1b5d650430f",
       "version_major": 2,
       "version_minor": 0
      },
      "text/plain": [
       "HBox(children=(FloatProgress(value=0.0, description='id', max=59.0, style=ProgressStyle(description_width='ini…"
      ]
     },
     "metadata": {},
     "output_type": "display_data"
    },
    {
     "data": {
      "application/vnd.jupyter.widget-view+json": {
       "model_id": "e6a74b38792f45e5bd4b6124b5123caf",
       "version_major": 2,
       "version_minor": 0
      },
      "text/plain": [
       "HBox(children=(FloatProgress(value=0.0, description='id', max=59.0, style=ProgressStyle(description_width='ini…"
      ]
     },
     "metadata": {},
     "output_type": "display_data"
    },
    {
     "data": {
      "application/vnd.jupyter.widget-view+json": {
       "model_id": "7aa414e126b44c639f5c045ef7f08d44",
       "version_major": 2,
       "version_minor": 0
      },
      "text/plain": [
       "HBox(children=(FloatProgress(value=0.0, description='id', max=59.0, style=ProgressStyle(description_width='ini…"
      ]
     },
     "metadata": {},
     "output_type": "display_data"
    },
    {
     "data": {
      "application/vnd.jupyter.widget-view+json": {
       "model_id": "9ce437da2ea04f75b8856fde7e4e0e01",
       "version_major": 2,
       "version_minor": 0
      },
      "text/plain": [
       "HBox(children=(FloatProgress(value=0.0, description='id', max=59.0, style=ProgressStyle(description_width='ini…"
      ]
     },
     "metadata": {},
     "output_type": "display_data"
    },
    {
     "data": {
      "application/vnd.jupyter.widget-view+json": {
       "model_id": "1b6dae2960634af288627cf5185b63b2",
       "version_major": 2,
       "version_minor": 0
      },
      "text/plain": [
       "HBox(children=(FloatProgress(value=0.0, description='id', max=59.0, style=ProgressStyle(description_width='ini…"
      ]
     },
     "metadata": {},
     "output_type": "display_data"
    },
    {
     "data": {
      "application/vnd.jupyter.widget-view+json": {
       "model_id": "871c61bb0e3d46e294b1cb61d23c576f",
       "version_major": 2,
       "version_minor": 0
      },
      "text/plain": [
       "HBox(children=(FloatProgress(value=0.0, description='id', max=59.0, style=ProgressStyle(description_width='ini…"
      ]
     },
     "metadata": {},
     "output_type": "display_data"
    },
    {
     "data": {
      "application/vnd.jupyter.widget-view+json": {
       "model_id": "f996ee100af245a4ba4b0aac68df6dbf",
       "version_major": 2,
       "version_minor": 0
      },
      "text/plain": [
       "HBox(children=(FloatProgress(value=0.0, description='id', max=59.0, style=ProgressStyle(description_width='ini…"
      ]
     },
     "metadata": {},
     "output_type": "display_data"
    },
    {
     "data": {
      "application/vnd.jupyter.widget-view+json": {
       "model_id": "8327071fc1994dd1b6bdfdd612c4294c",
       "version_major": 2,
       "version_minor": 0
      },
      "text/plain": [
       "HBox(children=(FloatProgress(value=0.0, description='id', max=59.0, style=ProgressStyle(description_width='ini…"
      ]
     },
     "metadata": {},
     "output_type": "display_data"
    },
    {
     "data": {
      "application/vnd.jupyter.widget-view+json": {
       "model_id": "457736b7b73b41e5b96b107fad0feda4",
       "version_major": 2,
       "version_minor": 0
      },
      "text/plain": [
       "HBox(children=(FloatProgress(value=0.0, description='id', max=59.0, style=ProgressStyle(description_width='ini…"
      ]
     },
     "metadata": {},
     "output_type": "display_data"
    },
    {
     "data": {
      "application/vnd.jupyter.widget-view+json": {
       "model_id": "27b596187ee649bb880cbf20301c25f8",
       "version_major": 2,
       "version_minor": 0
      },
      "text/plain": [
       "HBox(children=(FloatProgress(value=0.0, description='id', max=59.0, style=ProgressStyle(description_width='ini…"
      ]
     },
     "metadata": {},
     "output_type": "display_data"
    },
    {
     "data": {
      "application/vnd.jupyter.widget-view+json": {
       "model_id": "9dad19afe0354dc297c41ad2a51c470f",
       "version_major": 2,
       "version_minor": 0
      },
      "text/plain": [
       "HBox(children=(FloatProgress(value=0.0, description='id', max=59.0, style=ProgressStyle(description_width='ini…"
      ]
     },
     "metadata": {},
     "output_type": "display_data"
    },
    {
     "data": {
      "application/vnd.jupyter.widget-view+json": {
       "model_id": "29271f75f2fe488899cdc0ded009404c",
       "version_major": 2,
       "version_minor": 0
      },
      "text/plain": [
       "HBox(children=(FloatProgress(value=0.0, description='id', max=59.0, style=ProgressStyle(description_width='ini…"
      ]
     },
     "metadata": {},
     "output_type": "display_data"
    },
    {
     "data": {
      "application/vnd.jupyter.widget-view+json": {
       "model_id": "b1f80878b68b4a98870912f16cfeded3",
       "version_major": 2,
       "version_minor": 0
      },
      "text/plain": [
       "HBox(children=(FloatProgress(value=0.0, description='id', max=59.0, style=ProgressStyle(description_width='ini…"
      ]
     },
     "metadata": {},
     "output_type": "display_data"
    },
    {
     "data": {
      "application/vnd.jupyter.widget-view+json": {
       "model_id": "ceebaeb6f8a847d395fb5b9b1bb7a068",
       "version_major": 2,
       "version_minor": 0
      },
      "text/plain": [
       "HBox(children=(FloatProgress(value=0.0, description='id', max=72.0, style=ProgressStyle(description_width='ini…"
      ]
     },
     "metadata": {},
     "output_type": "display_data"
    },
    {
     "data": {
      "application/vnd.jupyter.widget-view+json": {
       "model_id": "a424efc581fa4b1a84b6b82db0148208",
       "version_major": 2,
       "version_minor": 0
      },
      "text/plain": [
       "HBox(children=(FloatProgress(value=0.0, description='id', max=72.0, style=ProgressStyle(description_width='ini…"
      ]
     },
     "metadata": {},
     "output_type": "display_data"
    },
    {
     "data": {
      "application/vnd.jupyter.widget-view+json": {
       "model_id": "986871075655447ca7d4ca92af246cda",
       "version_major": 2,
       "version_minor": 0
      },
      "text/plain": [
       "HBox(children=(FloatProgress(value=0.0, description='id', max=72.0, style=ProgressStyle(description_width='ini…"
      ]
     },
     "metadata": {},
     "output_type": "display_data"
    },
    {
     "data": {
      "application/vnd.jupyter.widget-view+json": {
       "model_id": "0fb066661b814917964f0d2da3419412",
       "version_major": 2,
       "version_minor": 0
      },
      "text/plain": [
       "HBox(children=(FloatProgress(value=0.0, description='id', max=72.0, style=ProgressStyle(description_width='ini…"
      ]
     },
     "metadata": {},
     "output_type": "display_data"
    },
    {
     "data": {
      "application/vnd.jupyter.widget-view+json": {
       "model_id": "9bec59d4dc1b4c4d8b01e5912efe9d7c",
       "version_major": 2,
       "version_minor": 0
      },
      "text/plain": [
       "HBox(children=(FloatProgress(value=0.0, description='id', max=71.0, style=ProgressStyle(description_width='ini…"
      ]
     },
     "metadata": {},
     "output_type": "display_data"
    },
    {
     "data": {
      "application/vnd.jupyter.widget-view+json": {
       "model_id": "486cba241c4f4ade9c2e295071f606d4",
       "version_major": 2,
       "version_minor": 0
      },
      "text/plain": [
       "HBox(children=(FloatProgress(value=0.0, description='id', max=72.0, style=ProgressStyle(description_width='ini…"
      ]
     },
     "metadata": {},
     "output_type": "display_data"
    },
    {
     "data": {
      "application/vnd.jupyter.widget-view+json": {
       "model_id": "5c943d211edf440891521acea5def581",
       "version_major": 2,
       "version_minor": 0
      },
      "text/plain": [
       "HBox(children=(FloatProgress(value=0.0, description='id', max=42.0, style=ProgressStyle(description_width='ini…"
      ]
     },
     "metadata": {},
     "output_type": "display_data"
    }
   ],
   "source": [
    "sBar = tqdm(total=len(indexList),desc='S')\n",
    "for s in indexList:\n",
    "    sData = []\n",
    "    sBar.set_description('S'+str(s))\n",
    "    idList = getSeasonIDs(s)\n",
    "    idBar = tqdm(total=len(idList),desc='id')\n",
    "    for i in idList:\n",
    "        idBar.set_description(i)\n",
    "        sData.append(getGameData(s,i))\n",
    "        idBar.update(1)\n",
    "    sDF = pd.concat(sData)\n",
    "    sDF.to_csv('PBP/S%sPBP.csv'%s)\n",
    "    sBar.update(1)"
   ]
  },
  {
   "cell_type": "code",
   "execution_count": 5,
   "metadata": {},
   "outputs": [],
   "source": [
    "import os\n",
    "allDF = pd.concat([pd.read_csv('PBP/%s'%p) for p in next(os.walk('PBP'))[2] if '.csv' in p])\n",
    "allDF = allDF.reset_index()\n",
    "allDF.to_csv('allPBP.csv')"
   ]
  },
  {
   "cell_type": "code",
   "execution_count": 6,
   "metadata": {},
   "outputs": [
    {
     "data": {
      "text/html": [
       "<div>\n",
       "<style scoped>\n",
       "    .dataframe tbody tr th:only-of-type {\n",
       "        vertical-align: middle;\n",
       "    }\n",
       "\n",
       "    .dataframe tbody tr th {\n",
       "        vertical-align: top;\n",
       "    }\n",
       "\n",
       "    .dataframe thead th {\n",
       "        text-align: right;\n",
       "    }\n",
       "</style>\n",
       "<table border=\"1\" class=\"dataframe\">\n",
       "  <thead>\n",
       "    <tr style=\"text-align: right;\">\n",
       "      <th></th>\n",
       "      <th>Unnamed: 0</th>\n",
       "      <th>teamID</th>\n",
       "      <th>Q</th>\n",
       "      <th>time</th>\n",
       "      <th>totTime</th>\n",
       "      <th>down</th>\n",
       "      <th>distance</th>\n",
       "      <th>side</th>\n",
       "      <th>yard</th>\n",
       "      <th>play</th>\n",
       "      <th>gameID</th>\n",
       "      <th>S</th>\n",
       "      <th>homeTeam</th>\n",
       "      <th>awayTeam</th>\n",
       "      <th>teamPoss</th>\n",
       "      <th>dist2goal</th>\n",
       "      <th>awayScore</th>\n",
       "      <th>homeScore</th>\n",
       "    </tr>\n",
       "  </thead>\n",
       "  <tbody>\n",
       "    <tr>\n",
       "      <th>0</th>\n",
       "      <td>0</td>\n",
       "      <td>1</td>\n",
       "      <td>1</td>\n",
       "      <td>15:00</td>\n",
       "      <td>3600</td>\n",
       "      <td>NaN</td>\n",
       "      <td>NaN</td>\n",
       "      <td>BAL</td>\n",
       "      <td>30.0</td>\n",
       "      <td>Brand, F. kicks off.</td>\n",
       "      <td>5154</td>\n",
       "      <td>21</td>\n",
       "      <td>BAL</td>\n",
       "      <td>YKW</td>\n",
       "      <td>BAL</td>\n",
       "      <td>70.0</td>\n",
       "      <td>0</td>\n",
       "      <td>0</td>\n",
       "    </tr>\n",
       "    <tr>\n",
       "      <th>1</th>\n",
       "      <td>1</td>\n",
       "      <td>2</td>\n",
       "      <td>1</td>\n",
       "      <td>15:00</td>\n",
       "      <td>3600</td>\n",
       "      <td>NaN</td>\n",
       "      <td>NaN</td>\n",
       "      <td>NaN</td>\n",
       "      <td>NaN</td>\n",
       "      <td>The kick sails into the endzone.</td>\n",
       "      <td>5154</td>\n",
       "      <td>21</td>\n",
       "      <td>BAL</td>\n",
       "      <td>YKW</td>\n",
       "      <td>YKW</td>\n",
       "      <td>NaN</td>\n",
       "      <td>0</td>\n",
       "      <td>0</td>\n",
       "    </tr>\n",
       "    <tr>\n",
       "      <th>2</th>\n",
       "      <td>2</td>\n",
       "      <td>2</td>\n",
       "      <td>1</td>\n",
       "      <td>15:00</td>\n",
       "      <td>3600</td>\n",
       "      <td>NaN</td>\n",
       "      <td>NaN</td>\n",
       "      <td>NaN</td>\n",
       "      <td>NaN</td>\n",
       "      <td>Snuggles, J. takes it out of the endzone!</td>\n",
       "      <td>5154</td>\n",
       "      <td>21</td>\n",
       "      <td>BAL</td>\n",
       "      <td>YKW</td>\n",
       "      <td>YKW</td>\n",
       "      <td>NaN</td>\n",
       "      <td>0</td>\n",
       "      <td>0</td>\n",
       "    </tr>\n",
       "    <tr>\n",
       "      <th>3</th>\n",
       "      <td>3</td>\n",
       "      <td>2</td>\n",
       "      <td>1</td>\n",
       "      <td>15:00</td>\n",
       "      <td>3600</td>\n",
       "      <td>NaN</td>\n",
       "      <td>NaN</td>\n",
       "      <td>YKW</td>\n",
       "      <td>9.0</td>\n",
       "      <td>Kickoff of 74 yards. Returned by Snuggles, J. ...</td>\n",
       "      <td>5154</td>\n",
       "      <td>21</td>\n",
       "      <td>BAL</td>\n",
       "      <td>YKW</td>\n",
       "      <td>YKW</td>\n",
       "      <td>91.0</td>\n",
       "      <td>0</td>\n",
       "      <td>0</td>\n",
       "    </tr>\n",
       "    <tr>\n",
       "      <th>4</th>\n",
       "      <td>4</td>\n",
       "      <td>2</td>\n",
       "      <td>1</td>\n",
       "      <td>14:55</td>\n",
       "      <td>3595</td>\n",
       "      <td>1.0</td>\n",
       "      <td>10.0</td>\n",
       "      <td>YKW</td>\n",
       "      <td>9.0</td>\n",
       "      <td>Rush by Hanyadi, M. for 3 yds. Tackle by Nikko...</td>\n",
       "      <td>5154</td>\n",
       "      <td>21</td>\n",
       "      <td>BAL</td>\n",
       "      <td>YKW</td>\n",
       "      <td>YKW</td>\n",
       "      <td>91.0</td>\n",
       "      <td>0</td>\n",
       "      <td>0</td>\n",
       "    </tr>\n",
       "    <tr>\n",
       "      <th>...</th>\n",
       "      <td>...</td>\n",
       "      <td>...</td>\n",
       "      <td>...</td>\n",
       "      <td>...</td>\n",
       "      <td>...</td>\n",
       "      <td>...</td>\n",
       "      <td>...</td>\n",
       "      <td>...</td>\n",
       "      <td>...</td>\n",
       "      <td>...</td>\n",
       "      <td>...</td>\n",
       "      <td>...</td>\n",
       "      <td>...</td>\n",
       "      <td>...</td>\n",
       "      <td>...</td>\n",
       "      <td>...</td>\n",
       "      <td>...</td>\n",
       "      <td>...</td>\n",
       "    </tr>\n",
       "    <tr>\n",
       "      <th>15171</th>\n",
       "      <td>217</td>\n",
       "      <td>2</td>\n",
       "      <td>4</td>\n",
       "      <td>0:53</td>\n",
       "      <td>53</td>\n",
       "      <td>2.0</td>\n",
       "      <td>2.0</td>\n",
       "      <td>YKW</td>\n",
       "      <td>28.0</td>\n",
       "      <td>Pass by Bigsby, C. to Hanyadi, M. was dropped!...</td>\n",
       "      <td>5225</td>\n",
       "      <td>21</td>\n",
       "      <td>NO</td>\n",
       "      <td>YKW</td>\n",
       "      <td>YKW</td>\n",
       "      <td>72.0</td>\n",
       "      <td>13</td>\n",
       "      <td>33</td>\n",
       "    </tr>\n",
       "    <tr>\n",
       "      <th>15172</th>\n",
       "      <td>218</td>\n",
       "      <td>2</td>\n",
       "      <td>4</td>\n",
       "      <td>0:46</td>\n",
       "      <td>46</td>\n",
       "      <td>3.0</td>\n",
       "      <td>2.0</td>\n",
       "      <td>YKW</td>\n",
       "      <td>28.0</td>\n",
       "      <td>Pass by Bigsby, C., complete to Hanyadi, M. fo...</td>\n",
       "      <td>5225</td>\n",
       "      <td>21</td>\n",
       "      <td>NO</td>\n",
       "      <td>YKW</td>\n",
       "      <td>YKW</td>\n",
       "      <td>72.0</td>\n",
       "      <td>13</td>\n",
       "      <td>33</td>\n",
       "    </tr>\n",
       "    <tr>\n",
       "      <th>15173</th>\n",
       "      <td>219</td>\n",
       "      <td>2</td>\n",
       "      <td>4</td>\n",
       "      <td>0:46</td>\n",
       "      <td>46</td>\n",
       "      <td>1.0</td>\n",
       "      <td>10.0</td>\n",
       "      <td>YKW</td>\n",
       "      <td>48.0</td>\n",
       "      <td>Yellowknife Wraiths : Timeout</td>\n",
       "      <td>5225</td>\n",
       "      <td>21</td>\n",
       "      <td>NO</td>\n",
       "      <td>YKW</td>\n",
       "      <td>YKW</td>\n",
       "      <td>52.0</td>\n",
       "      <td>13</td>\n",
       "      <td>33</td>\n",
       "    </tr>\n",
       "    <tr>\n",
       "      <th>15174</th>\n",
       "      <td>220</td>\n",
       "      <td>2</td>\n",
       "      <td>4</td>\n",
       "      <td>0:12</td>\n",
       "      <td>12</td>\n",
       "      <td>1.0</td>\n",
       "      <td>10.0</td>\n",
       "      <td>YKW</td>\n",
       "      <td>48.0</td>\n",
       "      <td>Pass by Bigsby, C. to Drake, O. was dropped! I...</td>\n",
       "      <td>5225</td>\n",
       "      <td>21</td>\n",
       "      <td>NO</td>\n",
       "      <td>YKW</td>\n",
       "      <td>YKW</td>\n",
       "      <td>52.0</td>\n",
       "      <td>13</td>\n",
       "      <td>33</td>\n",
       "    </tr>\n",
       "    <tr>\n",
       "      <th>15175</th>\n",
       "      <td>221</td>\n",
       "      <td>2</td>\n",
       "      <td>4</td>\n",
       "      <td>0:08</td>\n",
       "      <td>8</td>\n",
       "      <td>2.0</td>\n",
       "      <td>10.0</td>\n",
       "      <td>YKW</td>\n",
       "      <td>48.0</td>\n",
       "      <td>Bigsby, C. throws the ball away to avoid the s...</td>\n",
       "      <td>5225</td>\n",
       "      <td>21</td>\n",
       "      <td>NO</td>\n",
       "      <td>YKW</td>\n",
       "      <td>YKW</td>\n",
       "      <td>52.0</td>\n",
       "      <td>13</td>\n",
       "      <td>33</td>\n",
       "    </tr>\n",
       "  </tbody>\n",
       "</table>\n",
       "<p>15176 rows × 18 columns</p>\n",
       "</div>"
      ],
      "text/plain": [
       "       Unnamed: 0  teamID  Q   time  totTime  down  distance side  yard  \\\n",
       "0               0       1  1  15:00     3600   NaN       NaN  BAL  30.0   \n",
       "1               1       2  1  15:00     3600   NaN       NaN  NaN   NaN   \n",
       "2               2       2  1  15:00     3600   NaN       NaN  NaN   NaN   \n",
       "3               3       2  1  15:00     3600   NaN       NaN  YKW   9.0   \n",
       "4               4       2  1  14:55     3595   1.0      10.0  YKW   9.0   \n",
       "...           ...     ... ..    ...      ...   ...       ...  ...   ...   \n",
       "15171         217       2  4   0:53       53   2.0       2.0  YKW  28.0   \n",
       "15172         218       2  4   0:46       46   3.0       2.0  YKW  28.0   \n",
       "15173         219       2  4   0:46       46   1.0      10.0  YKW  48.0   \n",
       "15174         220       2  4   0:12       12   1.0      10.0  YKW  48.0   \n",
       "15175         221       2  4   0:08        8   2.0      10.0  YKW  48.0   \n",
       "\n",
       "                                                    play  gameID   S homeTeam  \\\n",
       "0                                   Brand, F. kicks off.    5154  21      BAL   \n",
       "1                       The kick sails into the endzone.    5154  21      BAL   \n",
       "2              Snuggles, J. takes it out of the endzone!    5154  21      BAL   \n",
       "3      Kickoff of 74 yards. Returned by Snuggles, J. ...    5154  21      BAL   \n",
       "4      Rush by Hanyadi, M. for 3 yds. Tackle by Nikko...    5154  21      BAL   \n",
       "...                                                  ...     ...  ..      ...   \n",
       "15171  Pass by Bigsby, C. to Hanyadi, M. was dropped!...    5225  21       NO   \n",
       "15172  Pass by Bigsby, C., complete to Hanyadi, M. fo...    5225  21       NO   \n",
       "15173                      Yellowknife Wraiths : Timeout    5225  21       NO   \n",
       "15174  Pass by Bigsby, C. to Drake, O. was dropped! I...    5225  21       NO   \n",
       "15175  Bigsby, C. throws the ball away to avoid the s...    5225  21       NO   \n",
       "\n",
       "      awayTeam teamPoss  dist2goal  awayScore  homeScore  \n",
       "0          YKW      BAL       70.0          0          0  \n",
       "1          YKW      YKW        NaN          0          0  \n",
       "2          YKW      YKW        NaN          0          0  \n",
       "3          YKW      YKW       91.0          0          0  \n",
       "4          YKW      YKW       91.0          0          0  \n",
       "...        ...      ...        ...        ...        ...  \n",
       "15171      YKW      YKW       72.0         13         33  \n",
       "15172      YKW      YKW       72.0         13         33  \n",
       "15173      YKW      YKW       52.0         13         33  \n",
       "15174      YKW      YKW       52.0         13         33  \n",
       "15175      YKW      YKW       52.0         13         33  \n",
       "\n",
       "[15176 rows x 18 columns]"
      ]
     },
     "execution_count": 6,
     "metadata": {},
     "output_type": "execute_result"
    }
   ],
   "source": [
    "pd.read_csv('PBP/S21PBP.csv')"
   ]
  },
  {
   "cell_type": "code",
   "execution_count": null,
   "metadata": {},
   "outputs": [],
   "source": []
  }
 ],
 "metadata": {
  "kernelspec": {
   "display_name": "Python 3",
   "language": "python",
   "name": "python3"
  },
  "language_info": {
   "codemirror_mode": {
    "name": "ipython",
    "version": 3
   },
   "file_extension": ".py",
   "mimetype": "text/x-python",
   "name": "python",
   "nbconvert_exporter": "python",
   "pygments_lexer": "ipython3",
   "version": "3.7.7"
  }
 },
 "nbformat": 4,
 "nbformat_minor": 4
}
