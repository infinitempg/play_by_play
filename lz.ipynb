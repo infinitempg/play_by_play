{
 "cells": [
  {
   "cell_type": "code",
   "execution_count": 1,
   "metadata": {},
   "outputs": [
    {
     "name": "stdout",
     "output_type": "stream",
     "text": [
      "The history saving thread hit an unexpected error (DatabaseError('database disk image is malformed')).History will not be written to the database.\n"
     ]
    }
   ],
   "source": [
    "from lzstring import LZString\n",
    "import pandas as pd\n",
    "import os\n",
    "from tqdm.notebook import tqdm\n",
    "import requests\n",
    "from bs4 import BeautifulSoup\n",
    "import numpy as np\n",
    "import re\n",
    "# pd.set_option('display.max_rows', None)\n",
    "pd.set_option('display.max_columns', None)"
   ]
  },
  {
   "cell_type": "code",
   "execution_count": 2,
   "metadata": {},
   "outputs": [],
   "source": [
    "requestHead = {\"User-Agent\": \"Chrome/47.0.2526.111\"}"
   ]
  },
  {
   "cell_type": "code",
   "execution_count": 3,
   "metadata": {},
   "outputs": [],
   "source": [
    "def getSeasonIDs(num,online = True,prefix = None,post=True):\n",
    "    if online:\n",
    "        if num < 10:\n",
    "            strnum = '0' + str(num)\n",
    "        elif num >= 10:\n",
    "            strnum = str(num)\n",
    "        if num < 24:\n",
    "            url = \"http://www.mikemakmur.com/isfl/S\"+strnum+\"/GameResults.html\"\n",
    "        else:\n",
    "            url = \"http://www.mikemakmur.com/isfl/S\"+strnum+\"/GameResults.html\"\n",
    "        page = requests.get(url, headers = requestHead)\n",
    "        soup = BeautifulSoup(page.text,'html.parser')\n",
    "        \n",
    "#         if num < 5:\n",
    "#             gpwk = 3\n",
    "#         elif num == 5:\n",
    "#             gpwk = 4\n",
    "#         elif num <= 21:\n",
    "#             gpwk = 5\n",
    "#         elif num <= 24:\n",
    "#             gpwk = 6\n",
    "#         else:\n",
    "#             gpwk = 7\n",
    "    else:\n",
    "        with open(prefix+'/GameResults.html') as f:\n",
    "            soup = BeautifulSoup(f,'html.parser')\n",
    "    preseason = 28\n",
    "    postseason = 13\n",
    "    wks = 16\n",
    "    gpwk = 7\n",
    "#     if num > 24:\n",
    "#         preseason = 28\n",
    "#         postseason = 7\n",
    "#     elif num > 21:\n",
    "#         preseason=24\n",
    "#         postseason=7\n",
    "#     elif num > 15:\n",
    "#         preseason = 20\n",
    "#         postseason= 7\n",
    "#     elif num > 1:\n",
    "#         preseason = 16\n",
    "#         postseason= 3\n",
    "#     else:\n",
    "#         preseason = 12\n",
    "#         postseason= 3\n",
    "    \n",
    "#     if num <= 15:\n",
    "#         wks = 14\n",
    "#     elif num <= 22:\n",
    "#         wks = 13\n",
    "#     else:\n",
    "#         wks = 16\n",
    "        \n",
    "    wkList = np.repeat(range(1,wks+1),gpwk)\n",
    "    \n",
    "    pbplist = soup.find_all('a',href=re.compile('Logs'))\n",
    "    pbpURLs = [p.get('href') for p in pbplist]\n",
    "    if len(pbpURLs[preseason:-postseason]) == 55:\n",
    "        preseason = preseason-1\n",
    "    if post:\n",
    "        idList = [int(p[5:].split('id=')[1]) for p in pbpURLs[preseason:]]\n",
    "    else:\n",
    "        idList = [int(p[5:].split('id=')[1]) for p in pbpURLs[preseason:-postseason]]\n",
    "    return idList, wkList"
   ]
  },
  {
   "cell_type": "markdown",
   "metadata": {},
   "source": [
    "```python\n",
    "f = open(\"boxscoreData6.txt\", \"r\",encoding='utf-8-sig')\n",
    "box = f.read()\n",
    "f.close()\n",
    "\n",
    "\n",
    "pd.read_json(LZString.decompressFromEncodedURIComponent(box))\n",
    "\n",
    "f = open(\"pbpData6.txt\", \"r\",encoding='utf-8-sig')\n",
    "pbpData6 = f.read()\n",
    "f.close()\n",
    "\n",
    "\n",
    "pbpData6DF = pd.read_json(LZString.decompressFromEncodedURIComponent(pbpData6))\n",
    "\n",
    "pd.DataFrame(pbpData6DF.loc[0,'Q1'])\n",
    "```"
   ]
  },
  {
   "cell_type": "code",
   "execution_count": 4,
   "metadata": {},
   "outputs": [],
   "source": [
    "S = 1\n",
    "if S < 10:\n",
    "    strnum = '0' + str(S)\n",
    "elif S >= 10:\n",
    "    strnum = str(S)"
   ]
  },
  {
   "cell_type": "markdown",
   "metadata": {},
   "source": [
    "Downloading files from index:"
   ]
  },
  {
   "cell_type": "code",
   "execution_count": 14,
   "metadata": {},
   "outputs": [
    {
     "name": "stdout",
     "output_type": "stream",
     "text": [
      "2.3 s ± 260 ms per loop (mean ± std. dev. of 7 runs, 1 loop each)\n"
     ]
    }
   ],
   "source": [
    "%%timeit\n",
    "for i in range(1,11):\n",
    "#     print(i)\n",
    "    os.system('wget -q -O \"testLZ/S%s/pbpData%i.txt\" \"http://www.mikemakmur.com/isfl/S%s/Logs/pbpData%s.txt\"'%(strnum,i,strnum,i))\n",
    "    os.system('wget -q -O \"testLZ/S%s/boxscoreData%i.txt\" \"http://www.mikemakmur.com/isfl/S%s/Boxscores/boxscoreData%s.txt\"'%(strnum,i,strnum,i))"
   ]
  },
  {
   "cell_type": "code",
   "execution_count": 279,
   "metadata": {},
   "outputs": [
    {
     "data": {
      "application/vnd.jupyter.widget-view+json": {
       "model_id": "a34453fc6871400da2b05f0fc84251f0",
       "version_major": 2,
       "version_minor": 0
      },
      "text/plain": [
       "HBox(children=(HTML(value=''), FloatProgress(value=0.0, max=10.0), HTML(value='')))"
      ]
     },
     "metadata": {},
     "output_type": "display_data"
    },
    {
     "data": {
      "application/vnd.jupyter.widget-view+json": {
       "model_id": "",
       "version_major": 2,
       "version_minor": 0
      },
      "text/plain": [
       "HBox(children=(HTML(value=''), FloatProgress(value=0.0, max=10.0), HTML(value='')))"
      ]
     },
     "metadata": {},
     "output_type": "display_data"
    },
    {
     "data": {
      "application/vnd.jupyter.widget-view+json": {
       "model_id": "",
       "version_major": 2,
       "version_minor": 0
      },
      "text/plain": [
       "HBox(children=(HTML(value=''), FloatProgress(value=0.0, max=10.0), HTML(value='')))"
      ]
     },
     "metadata": {},
     "output_type": "display_data"
    },
    {
     "data": {
      "application/vnd.jupyter.widget-view+json": {
       "model_id": "",
       "version_major": 2,
       "version_minor": 0
      },
      "text/plain": [
       "HBox(children=(HTML(value=''), FloatProgress(value=0.0, max=10.0), HTML(value='')))"
      ]
     },
     "metadata": {},
     "output_type": "display_data"
    },
    {
     "data": {
      "application/vnd.jupyter.widget-view+json": {
       "model_id": "",
       "version_major": 2,
       "version_minor": 0
      },
      "text/plain": [
       "HBox(children=(HTML(value=''), FloatProgress(value=0.0, max=10.0), HTML(value='')))"
      ]
     },
     "metadata": {},
     "output_type": "display_data"
    },
    {
     "data": {
      "application/vnd.jupyter.widget-view+json": {
       "model_id": "",
       "version_major": 2,
       "version_minor": 0
      },
      "text/plain": [
       "HBox(children=(HTML(value=''), FloatProgress(value=0.0, max=10.0), HTML(value='')))"
      ]
     },
     "metadata": {},
     "output_type": "display_data"
    },
    {
     "data": {
      "application/vnd.jupyter.widget-view+json": {
       "model_id": "",
       "version_major": 2,
       "version_minor": 0
      },
      "text/plain": [
       "HBox(children=(HTML(value=''), FloatProgress(value=0.0, max=10.0), HTML(value='')))"
      ]
     },
     "metadata": {},
     "output_type": "display_data"
    },
    {
     "data": {
      "application/vnd.jupyter.widget-view+json": {
       "model_id": "",
       "version_major": 2,
       "version_minor": 0
      },
      "text/plain": [
       "HBox(children=(HTML(value=''), FloatProgress(value=0.0, max=10.0), HTML(value='')))"
      ]
     },
     "metadata": {},
     "output_type": "display_data"
    },
    {
     "data": {
      "application/vnd.jupyter.widget-view+json": {
       "model_id": "",
       "version_major": 2,
       "version_minor": 0
      },
      "text/plain": [
       "HBox(children=(HTML(value=''), FloatProgress(value=0.0, max=10.0), HTML(value='')))"
      ]
     },
     "metadata": {},
     "output_type": "display_data"
    },
    {
     "data": {
      "application/vnd.jupyter.widget-view+json": {
       "model_id": "",
       "version_major": 2,
       "version_minor": 0
      },
      "text/plain": [
       "HBox(children=(HTML(value=''), FloatProgress(value=0.0, max=10.0), HTML(value='')))"
      ]
     },
     "metadata": {},
     "output_type": "display_data"
    },
    {
     "data": {
      "application/vnd.jupyter.widget-view+json": {
       "model_id": "",
       "version_major": 2,
       "version_minor": 0
      },
      "text/plain": [
       "HBox(children=(HTML(value=''), FloatProgress(value=0.0, max=10.0), HTML(value='')))"
      ]
     },
     "metadata": {},
     "output_type": "display_data"
    }
   ],
   "source": [
    "sBar = tqdm(total=10)\n",
    "for S in range(1,11):\n",
    "    if S < 10:\n",
    "        strnum = '0' + str(S)\n",
    "    elif S >= 10:\n",
    "        strnum = str(S)\n",
    "    sBar.set_description('S%i'%S)\n",
    "    \n",
    "    iBar = tqdm(total=10,leave=False)\n",
    "    for i in range(1,11):\n",
    "    #     print(i)\n",
    "        os.system('wget -q -O \"testLZ/S%s/pbpData%i.txt\" \"http://www.mikemakmur.com/isfl/S%s/Logs/pbpData%s.txt\"'%(strnum,i,strnum,i))\n",
    "        os.system('wget -q -O \"testLZ/S%s/boxscoreData%i.txt\" \"http://www.mikemakmur.com/isfl/S%s/Boxscores/boxscoreData%s.txt\"'%(strnum,i,strnum,i))\n",
    "        iBar.update(1)\n",
    "    sBar.update(1)"
   ]
  },
  {
   "cell_type": "markdown",
   "metadata": {},
   "source": [
    "Reading in files to DF:"
   ]
  },
  {
   "cell_type": "code",
   "execution_count": 58,
   "metadata": {},
   "outputs": [
    {
     "name": "stdout",
     "output_type": "stream",
     "text": [
      "33.7 s ± 18.5 s per loop (mean ± std. dev. of 7 runs, 1 loop each)\n"
     ]
    }
   ],
   "source": [
    "%%timeit\n",
    "pbpDF = pd.DataFrame()\n",
    "boxDF = pd.DataFrame()\n",
    "\n",
    "for i in range(1,11):\n",
    "#     print(i)\n",
    "    f = open(\"testLZ/S%s/pbpData%i.txt\"%(strnum,i), \"r\",encoding='utf-8-sig')\n",
    "    pbp = f.read()\n",
    "    f.close()\n",
    "    pbpDF = pd.concat([pbpDF,pd.read_json(LZString.decompressFromEncodedURIComponent(pbp))])\n",
    "    \n",
    "    g = open(\"testLZ/S%s/boxscoreData%i.txt\"%(strnum,i), \"r\",encoding='utf-8-sig')\n",
    "    box = g.read()\n",
    "    g.close()\n",
    "    boxDF = pd.concat([boxDF,pd.read_json(LZString.decompressFromEncodedURIComponent(box))])"
   ]
  },
  {
   "cell_type": "code",
   "execution_count": 5,
   "metadata": {},
   "outputs": [
    {
     "data": {
      "application/vnd.jupyter.widget-view+json": {
       "model_id": "6a091bf085e444499f6a1d73a8da7978",
       "version_major": 2,
       "version_minor": 0
      },
      "text/plain": [
       "HBox(children=(HTML(value=''), FloatProgress(value=0.0, max=10.0), HTML(value='')))"
      ]
     },
     "metadata": {},
     "output_type": "display_data"
    },
    {
     "data": {
      "application/vnd.jupyter.widget-view+json": {
       "model_id": "726062bba5ec4a3e8fb20c46f8da12c4",
       "version_major": 2,
       "version_minor": 0
      },
      "text/plain": [
       "HBox(children=(HTML(value=''), FloatProgress(value=0.0, max=10.0), HTML(value='')))"
      ]
     },
     "metadata": {},
     "output_type": "display_data"
    },
    {
     "data": {
      "application/vnd.jupyter.widget-view+json": {
       "model_id": "95c1fba1e9de4407af9d07ad5d3a4d69",
       "version_major": 2,
       "version_minor": 0
      },
      "text/plain": [
       "HBox(children=(HTML(value=''), FloatProgress(value=0.0, max=10.0), HTML(value='')))"
      ]
     },
     "metadata": {},
     "output_type": "display_data"
    },
    {
     "name": "stdout",
     "output_type": "stream",
     "text": [
      "\n"
     ]
    },
    {
     "data": {
      "application/vnd.jupyter.widget-view+json": {
       "model_id": "4de50011c0a74be5967af908a5db0b7f",
       "version_major": 2,
       "version_minor": 0
      },
      "text/plain": [
       "HBox(children=(HTML(value=''), FloatProgress(value=0.0, max=10.0), HTML(value='')))"
      ]
     },
     "metadata": {},
     "output_type": "display_data"
    },
    {
     "data": {
      "application/vnd.jupyter.widget-view+json": {
       "model_id": "58f9b2a8b49d4158a2da327a3b0d183d",
       "version_major": 2,
       "version_minor": 0
      },
      "text/plain": [
       "HBox(children=(HTML(value=''), FloatProgress(value=0.0, max=10.0), HTML(value='')))"
      ]
     },
     "metadata": {},
     "output_type": "display_data"
    },
    {
     "data": {
      "application/vnd.jupyter.widget-view+json": {
       "model_id": "d9ca446b44a54d78aad27cfc0d1121c5",
       "version_major": 2,
       "version_minor": 0
      },
      "text/plain": [
       "HBox(children=(HTML(value=''), FloatProgress(value=0.0, max=10.0), HTML(value='')))"
      ]
     },
     "metadata": {},
     "output_type": "display_data"
    },
    {
     "data": {
      "application/vnd.jupyter.widget-view+json": {
       "model_id": "757b08504989423b912ae7f2096bb82e",
       "version_major": 2,
       "version_minor": 0
      },
      "text/plain": [
       "HBox(children=(HTML(value=''), FloatProgress(value=0.0, max=10.0), HTML(value='')))"
      ]
     },
     "metadata": {},
     "output_type": "display_data"
    },
    {
     "name": "stdout",
     "output_type": "stream",
     "text": [
      "\n",
      "\n",
      "\n",
      "\n"
     ]
    },
    {
     "data": {
      "application/vnd.jupyter.widget-view+json": {
       "model_id": "e1bf12e2e99b44a0900137ca207d6132",
       "version_major": 2,
       "version_minor": 0
      },
      "text/plain": [
       "HBox(children=(HTML(value=''), FloatProgress(value=0.0, max=10.0), HTML(value='')))"
      ]
     },
     "metadata": {},
     "output_type": "display_data"
    },
    {
     "data": {
      "application/vnd.jupyter.widget-view+json": {
       "model_id": "eb5d3ee4b39d4fbd887f65f2a8d4bb64",
       "version_major": 2,
       "version_minor": 0
      },
      "text/plain": [
       "HBox(children=(HTML(value=''), FloatProgress(value=0.0, max=10.0), HTML(value='')))"
      ]
     },
     "metadata": {},
     "output_type": "display_data"
    },
    {
     "data": {
      "application/vnd.jupyter.widget-view+json": {
       "model_id": "de8b1b344f1044b9aef4cda0bd73ffbb",
       "version_major": 2,
       "version_minor": 0
      },
      "text/plain": [
       "HBox(children=(HTML(value=''), FloatProgress(value=0.0, max=10.0), HTML(value='')))"
      ]
     },
     "metadata": {},
     "output_type": "display_data"
    },
    {
     "data": {
      "application/vnd.jupyter.widget-view+json": {
       "model_id": "883ce5ef2f964b339571dd48b36d7fdb",
       "version_major": 2,
       "version_minor": 0
      },
      "text/plain": [
       "HBox(children=(HTML(value=''), FloatProgress(value=0.0, max=10.0), HTML(value='')))"
      ]
     },
     "metadata": {},
     "output_type": "display_data"
    }
   ],
   "source": [
    "sBar = tqdm(total=10)\n",
    "for S in range(1,11):\n",
    "    if S < 10:\n",
    "        strnum = '0' + str(S)\n",
    "    elif S >= 10:\n",
    "        strnum = str(S)\n",
    "    sBar.set_description('S%i'%S)\n",
    "    \n",
    "    pbpDF = pd.DataFrame()\n",
    "    boxDF = pd.DataFrame()\n",
    "    \n",
    "    iBar = tqdm(total=10)\n",
    "    for i in range(1,11):\n",
    "        f = open(\"testLZ/S%s/pbpData%i.txt\"%(strnum,i), \"r\",encoding='utf-8-sig')\n",
    "        pbp = f.read()\n",
    "        f.close()\n",
    "        pbpDF = pd.concat([pbpDF,pd.read_json(LZString.decompressFromEncodedURIComponent(pbp))])\n",
    "\n",
    "        g = open(\"testLZ/S%s/boxscoreData%i.txt\"%(strnum,i), \"r\",encoding='utf-8-sig')\n",
    "        box = g.read()\n",
    "        g.close()\n",
    "        boxDF = pd.concat([boxDF,pd.read_json(LZString.decompressFromEncodedURIComponent(box))])\n",
    "        \n",
    "        iBar.update(1)\n",
    "        \n",
    "    pbpDF.to_csv('testLZ/S%s/pbpDF.csv'%strnum)\n",
    "    boxDF.to_csv('testLZ/S%s/boxDF.csv'%strnum)\n",
    "    sBar.update(1)"
   ]
  },
  {
   "cell_type": "markdown",
   "metadata": {},
   "source": [
    "Boxscores:"
   ]
  },
  {
   "cell_type": "code",
   "execution_count": 83,
   "metadata": {},
   "outputs": [],
   "source": [
    "boxDF = pd.read_csv('testLZ/S%s/boxDF.csv'%strnum)\n",
    "# boxDF = boxDF.reset_index()"
   ]
  },
  {
   "cell_type": "code",
   "execution_count": 85,
   "metadata": {},
   "outputs": [
    {
     "data": {
      "text/html": [
       "<div>\n",
       "<style scoped>\n",
       "    .dataframe tbody tr th:only-of-type {\n",
       "        vertical-align: middle;\n",
       "    }\n",
       "\n",
       "    .dataframe tbody tr th {\n",
       "        vertical-align: top;\n",
       "    }\n",
       "\n",
       "    .dataframe thead th {\n",
       "        text-align: right;\n",
       "    }\n",
       "</style>\n",
       "<table border=\"1\" class=\"dataframe\">\n",
       "  <thead>\n",
       "    <tr style=\"text-align: right;\">\n",
       "      <th></th>\n",
       "      <th>Unnamed: 0</th>\n",
       "      <th>Unnamed: 0.1</th>\n",
       "      <th>level_0</th>\n",
       "      <th>index</th>\n",
       "      <th>id</th>\n",
       "      <th>hId</th>\n",
       "      <th>aId</th>\n",
       "      <th>weather</th>\n",
       "      <th>hMascot</th>\n",
       "      <th>aMascot</th>\n",
       "      <th>hAbb</th>\n",
       "      <th>aAbb</th>\n",
       "      <th>hRec</th>\n",
       "      <th>aRec</th>\n",
       "      <th>h1Q</th>\n",
       "      <th>h2Q</th>\n",
       "      <th>h3Q</th>\n",
       "      <th>h4Q</th>\n",
       "      <th>hF</th>\n",
       "      <th>a1Q</th>\n",
       "      <th>a3Q</th>\n",
       "      <th>a4Q</th>\n",
       "      <th>aF</th>\n",
       "      <th>oPOGId</th>\n",
       "      <th>dPOGId</th>\n",
       "      <th>oPOG</th>\n",
       "      <th>dPOG</th>\n",
       "      <th>aFD</th>\n",
       "      <th>a3rdM</th>\n",
       "      <th>a3rdA</th>\n",
       "      <th>aYds</th>\n",
       "      <th>aPassing</th>\n",
       "      <th>aComp</th>\n",
       "      <th>aAtt</th>\n",
       "      <th>aYPP</th>\n",
       "      <th>aRushing</th>\n",
       "      <th>aRushes</th>\n",
       "      <th>aYPR</th>\n",
       "      <th>aPen</th>\n",
       "      <th>aPenYds</th>\n",
       "      <th>aTO</th>\n",
       "      <th>aFum</th>\n",
       "      <th>aFumL</th>\n",
       "      <th>aTOP</th>\n",
       "      <th>hFD</th>\n",
       "      <th>h3rdM</th>\n",
       "      <th>h3rdA</th>\n",
       "      <th>hYds</th>\n",
       "      <th>hPassing</th>\n",
       "      <th>hComp</th>\n",
       "      <th>hAtt</th>\n",
       "      <th>hYPP</th>\n",
       "      <th>hRushing</th>\n",
       "      <th>hRushes</th>\n",
       "      <th>hYPR</th>\n",
       "      <th>hPen</th>\n",
       "      <th>hPenYds</th>\n",
       "      <th>hTO</th>\n",
       "      <th>hInt</th>\n",
       "      <th>hFum</th>\n",
       "      <th>hFumL</th>\n",
       "      <th>hTOP</th>\n",
       "      <th>scoring1Q</th>\n",
       "      <th>scoring2Q</th>\n",
       "      <th>scoring3Q</th>\n",
       "      <th>scoring4Q</th>\n",
       "      <th>scoringOT</th>\n",
       "      <th>aStatsPassing</th>\n",
       "      <th>hStatsPassing</th>\n",
       "      <th>aStatsRushing</th>\n",
       "      <th>hStatsRushing</th>\n",
       "      <th>aStatsReceiving</th>\n",
       "      <th>hStatsReceiving</th>\n",
       "      <th>aStatsKicking</th>\n",
       "      <th>hStatsKicking</th>\n",
       "      <th>aStatsPunting</th>\n",
       "      <th>hStatsPunting</th>\n",
       "      <th>aStatsST</th>\n",
       "      <th>hStatsST</th>\n",
       "      <th>aStatsDef</th>\n",
       "      <th>hStatsDef</th>\n",
       "      <th>aStatsOther</th>\n",
       "      <th>hStatsOther</th>\n",
       "      <th>a2Q</th>\n",
       "      <th>h4thA</th>\n",
       "      <th>a4thM</th>\n",
       "      <th>a4thA</th>\n",
       "      <th>aInt</th>\n",
       "      <th>h4thM</th>\n",
       "      <th>hOT</th>\n",
       "      <th>aOT</th>\n",
       "    </tr>\n",
       "  </thead>\n",
       "  <tbody>\n",
       "    <tr>\n",
       "      <th>0</th>\n",
       "      <td>0</td>\n",
       "      <td>0</td>\n",
       "      <td>0</td>\n",
       "      <td>0</td>\n",
       "      <td>20</td>\n",
       "      <td>1</td>\n",
       "      <td>7</td>\n",
       "      <td>72° F, Wind 9 mph</td>\n",
       "      <td>Hawks</td>\n",
       "      <td>Liberty</td>\n",
       "      <td>BAL</td>\n",
       "      <td>PHI</td>\n",
       "      <td>(5-11-0)</td>\n",
       "      <td>(7-9-0)</td>\n",
       "      <td>7.0</td>\n",
       "      <td>21.0</td>\n",
       "      <td>7.0</td>\n",
       "      <td>7.0</td>\n",
       "      <td>42.0</td>\n",
       "      <td>21.0</td>\n",
       "      <td>7.0</td>\n",
       "      <td>20.0</td>\n",
       "      <td>48</td>\n",
       "      <td>9822</td>\n",
       "      <td>12566</td>\n",
       "      <td>Sam Torenson - RB (PHI): 23 att, 109 yds, 4 TD</td>\n",
       "      <td>Matt Cross - FS (PHI): 3 Tck, 2 Int, 1 Def TD,...</td>\n",
       "      <td>14</td>\n",
       "      <td>3.0</td>\n",
       "      <td>11</td>\n",
       "      <td>406</td>\n",
       "      <td>229</td>\n",
       "      <td>20</td>\n",
       "      <td>32</td>\n",
       "      <td>7.2</td>\n",
       "      <td>177</td>\n",
       "      <td>29</td>\n",
       "      <td>6.1</td>\n",
       "      <td>5.0</td>\n",
       "      <td>57.0</td>\n",
       "      <td>1.0</td>\n",
       "      <td>1.0</td>\n",
       "      <td>1.0</td>\n",
       "      <td>30:03</td>\n",
       "      <td>18</td>\n",
       "      <td>4.0</td>\n",
       "      <td>7</td>\n",
       "      <td>561</td>\n",
       "      <td>435</td>\n",
       "      <td>28</td>\n",
       "      <td>42</td>\n",
       "      <td>10.4</td>\n",
       "      <td>126</td>\n",
       "      <td>19</td>\n",
       "      <td>6.6</td>\n",
       "      <td>1.0</td>\n",
       "      <td>15.0</td>\n",
       "      <td>6.0</td>\n",
       "      <td>4.0</td>\n",
       "      <td>2.0</td>\n",
       "      <td>2.0</td>\n",
       "      <td>29:57</td>\n",
       "      <td>[{'team': 7, 'type': 'TD', 'time': '12:44', 'p...</td>\n",
       "      <td>[{'team': 1, 'type': 'TD', 'time': '8:52', 'pl...</td>\n",
       "      <td>[{'team': 7, 'type': 'TD', 'time': '12:14', 'p...</td>\n",
       "      <td>[{'team': 7, 'type': 'TD', 'time': '14:13', 'p...</td>\n",
       "      <td>[]</td>\n",
       "      <td>[{'id': 11605, 'name': 'Phoenix (C), B.', 'c':...</td>\n",
       "      <td>[{'id': 12526, 'name': 'Fujiwara (C), C.', 'c'...</td>\n",
       "      <td>[{'id': 9822, 'name': 'Torenson, S.', 'a': 23,...</td>\n",
       "      <td>[{'id': 13589, 'name': 'Fukushu, M.', 'a': 15,...</td>\n",
       "      <td>[{'id': 12563, 'name': 'Panda, F.', 'c': 5, 'y...</td>\n",
       "      <td>[{'id': 14283, 'name': 'Howlett (R), D.', 'c':...</td>\n",
       "      <td>[{'id': 14268, 'name': 'Fencik (R), J.', 'xpm'...</td>\n",
       "      <td>[{'id': 13082, 'name': 'Small, J.', 'xpm': 6, ...</td>\n",
       "      <td>[{'id': 911, 'name': 'PuntBot, Z.', 'p': 6, 'y...</td>\n",
       "      <td>[{'id': 13082, 'name': 'Small, J.', 'p': 3, 'y...</td>\n",
       "      <td>[{'id': 9822, 'name': 'Torenson, S.', 'kr': 2,...</td>\n",
       "      <td>[{'id': 13589, 'name': 'Fukushu, M.', 'kr': 3,...</td>\n",
       "      <td>[{'id': 11165, 'name': 'Howyanow, W.', 't': 7,...</td>\n",
       "      <td>[{'id': 12529, 'name': 'Avery, E.', 't': 6, 'p...</td>\n",
       "      <td>[{'id': 14271, 'name': 'Wrecks (R), T.', 'pen'...</td>\n",
       "      <td>[{'id': 746, 'name': 'Ash, R.', 'pen': 1, 'y':...</td>\n",
       "      <td>NaN</td>\n",
       "      <td>NaN</td>\n",
       "      <td>NaN</td>\n",
       "      <td>NaN</td>\n",
       "      <td>NaN</td>\n",
       "      <td>NaN</td>\n",
       "      <td>NaN</td>\n",
       "      <td>NaN</td>\n",
       "    </tr>\n",
       "    <tr>\n",
       "      <th>1</th>\n",
       "      <td>1</td>\n",
       "      <td>1</td>\n",
       "      <td>1</td>\n",
       "      <td>1</td>\n",
       "      <td>30</td>\n",
       "      <td>3</td>\n",
       "      <td>5</td>\n",
       "      <td>68° F, Wind 3 mph</td>\n",
       "      <td>Yeti</td>\n",
       "      <td>Otters</td>\n",
       "      <td>COL</td>\n",
       "      <td>OCO</td>\n",
       "      <td>(9-7-0)</td>\n",
       "      <td>(12-4-0)</td>\n",
       "      <td>NaN</td>\n",
       "      <td>7.0</td>\n",
       "      <td>3.0</td>\n",
       "      <td>7.0</td>\n",
       "      <td>17.0</td>\n",
       "      <td>17.0</td>\n",
       "      <td>7.0</td>\n",
       "      <td>17.0</td>\n",
       "      <td>44</td>\n",
       "      <td>14251</td>\n",
       "      <td>12037</td>\n",
       "      <td>Suleiman Ramza (R) - QB (OCO): 12/22, 220 yds,...</td>\n",
       "      <td>Inspectah Deck - LB (OCO): 2 Tck, 1 Int, 1 Def TD</td>\n",
       "      <td>8</td>\n",
       "      <td>3.0</td>\n",
       "      <td>11</td>\n",
       "      <td>349</td>\n",
       "      <td>264</td>\n",
       "      <td>13</td>\n",
       "      <td>26</td>\n",
       "      <td>10.2</td>\n",
       "      <td>85</td>\n",
       "      <td>23</td>\n",
       "      <td>3.7</td>\n",
       "      <td>5.0</td>\n",
       "      <td>60.0</td>\n",
       "      <td>NaN</td>\n",
       "      <td>2.0</td>\n",
       "      <td>NaN</td>\n",
       "      <td>29:37</td>\n",
       "      <td>12</td>\n",
       "      <td>5.0</td>\n",
       "      <td>13</td>\n",
       "      <td>282</td>\n",
       "      <td>200</td>\n",
       "      <td>22</td>\n",
       "      <td>35</td>\n",
       "      <td>5.7</td>\n",
       "      <td>82</td>\n",
       "      <td>28</td>\n",
       "      <td>2.9</td>\n",
       "      <td>3.0</td>\n",
       "      <td>25.0</td>\n",
       "      <td>4.0</td>\n",
       "      <td>1.0</td>\n",
       "      <td>4.0</td>\n",
       "      <td>3.0</td>\n",
       "      <td>30:23</td>\n",
       "      <td>[{'team': 5, 'type': 'TD', 'time': '12:10', 'p...</td>\n",
       "      <td>[{'team': 5, 'type': 'FG', 'time': '14:37', 'p...</td>\n",
       "      <td>[{'team': 5, 'type': 'TD', 'time': '9:52', 'pl...</td>\n",
       "      <td>[{'team': 5, 'type': 'TD', 'time': '14:34', 'p...</td>\n",
       "      <td>[]</td>\n",
       "      <td>[{'id': 14251, 'name': 'Ramza (R), S.', 'c': 1...</td>\n",
       "      <td>[{'id': 8221, 'name': 'McDummy (C), W.', 'c': ...</td>\n",
       "      <td>[{'id': 13578, 'name': 'McZeal, K.', 'a': 16, ...</td>\n",
       "      <td>[{'id': 11601, 'name': 'Williams, D.', 'a': 22...</td>\n",
       "      <td>[{'id': 12555, 'name': 'Phillips, J.', 'c': 3,...</td>\n",
       "      <td>[{'id': 11136, 'name': 'Sauce, E.', 'c': 5, 'y...</td>\n",
       "      <td>[{'id': 6859, 'name': 'Dasistwirklichseinnachn...</td>\n",
       "      <td>[{'id': 12016, 'name': 'Banana, S.', 'xpm': 2,...</td>\n",
       "      <td>[{'id': 6859, 'name': 'Dasistwirklichseinnachn...</td>\n",
       "      <td>[{'id': 12016, 'name': 'Banana, S.', 'p': 4, '...</td>\n",
       "      <td>[{'id': 11602, 'name': 'Beerus, L.', 'kr': 2, ...</td>\n",
       "      <td>[{'id': 10693, 'name': 'Purchase, L.', 'kr': 2...</td>\n",
       "      <td>[{'id': 12556, 'name': 'Jones (C), D.', 't': 9...</td>\n",
       "      <td>[{'id': 13638, 'name': 'de Pengu, A.', 't': 7,...</td>\n",
       "      <td>[{'id': 1626, 'name': 'Pak, Y.', 'pen': 1, 'y'...</td>\n",
       "      <td>[{'id': 11601, 'name': 'Williams, D.', 'pen': ...</td>\n",
       "      <td>3.0</td>\n",
       "      <td>2.0</td>\n",
       "      <td>NaN</td>\n",
       "      <td>NaN</td>\n",
       "      <td>NaN</td>\n",
       "      <td>NaN</td>\n",
       "      <td>NaN</td>\n",
       "      <td>NaN</td>\n",
       "    </tr>\n",
       "    <tr>\n",
       "      <th>2</th>\n",
       "      <td>2</td>\n",
       "      <td>2</td>\n",
       "      <td>2</td>\n",
       "      <td>2</td>\n",
       "      <td>40</td>\n",
       "      <td>5</td>\n",
       "      <td>2</td>\n",
       "      <td>79° F, Wind 3 mph</td>\n",
       "      <td>Otters</td>\n",
       "      <td>Wraiths</td>\n",
       "      <td>OCO</td>\n",
       "      <td>YKW</td>\n",
       "      <td>(12-4-0)</td>\n",
       "      <td>(8-8-0)</td>\n",
       "      <td>NaN</td>\n",
       "      <td>14.0</td>\n",
       "      <td>2.0</td>\n",
       "      <td>8.0</td>\n",
       "      <td>24.0</td>\n",
       "      <td>7.0</td>\n",
       "      <td>14.0</td>\n",
       "      <td>3.0</td>\n",
       "      <td>27</td>\n",
       "      <td>11929</td>\n",
       "      <td>13579</td>\n",
       "      <td>Future Trunks - WR (OCO): 4 rec, 124 yds, 1 TD</td>\n",
       "      <td>Bob Bob - SS (OCO): 6 Tck, 1 Sck, 1 Sfty, 1 FF</td>\n",
       "      <td>15</td>\n",
       "      <td>6.0</td>\n",
       "      <td>13</td>\n",
       "      <td>282</td>\n",
       "      <td>261</td>\n",
       "      <td>28</td>\n",
       "      <td>34</td>\n",
       "      <td>7.7</td>\n",
       "      <td>21</td>\n",
       "      <td>26</td>\n",
       "      <td>0.8</td>\n",
       "      <td>3.0</td>\n",
       "      <td>30.0</td>\n",
       "      <td>1.0</td>\n",
       "      <td>2.0</td>\n",
       "      <td>NaN</td>\n",
       "      <td>33:43</td>\n",
       "      <td>14</td>\n",
       "      <td>3.0</td>\n",
       "      <td>8</td>\n",
       "      <td>348</td>\n",
       "      <td>228</td>\n",
       "      <td>14</td>\n",
       "      <td>32</td>\n",
       "      <td>7.1</td>\n",
       "      <td>120</td>\n",
       "      <td>21</td>\n",
       "      <td>5.7</td>\n",
       "      <td>1.0</td>\n",
       "      <td>5.0</td>\n",
       "      <td>4.0</td>\n",
       "      <td>4.0</td>\n",
       "      <td>1.0</td>\n",
       "      <td>NaN</td>\n",
       "      <td>26:17</td>\n",
       "      <td>[{'team': 2, 'type': 'TD', 'time': '3:15', 'pl...</td>\n",
       "      <td>[{'team': 2, 'type': 'FG', 'time': '8:11', 'pl...</td>\n",
       "      <td>[{'team': 5, 'type': 'SF', 'time': '11:50', 'p...</td>\n",
       "      <td>[{'team': 2, 'type': 'FG', 'time': '5:42', 'pl...</td>\n",
       "      <td>[]</td>\n",
       "      <td>[{'id': 13570, 'name': 'Jack, C.', 'c': 28, 'a...</td>\n",
       "      <td>[{'id': 14251, 'name': 'Ramza (R), S.', 'c': 1...</td>\n",
       "      <td>[{'id': 13602, 'name': 'Z, D.', 'a': 18, 'y': ...</td>\n",
       "      <td>[{'id': 13578, 'name': 'McZeal, K.', 'a': 16, ...</td>\n",
       "      <td>[{'id': 13573, 'name': 'Sakura (C), K.', 'c': ...</td>\n",
       "      <td>[{'id': 13580, 'name': 'Despacito Jr., G.', 'c...</td>\n",
       "      <td>[{'id': 14205, 'name': 'Kokot (R), B.', 'xpm':...</td>\n",
       "      <td>[{'id': 6859, 'name': 'Dasistwirklichseinnachn...</td>\n",
       "      <td>[{'id': 14205, 'name': 'Kokot (R), B.', 'p': 4...</td>\n",
       "      <td>[{'id': 6859, 'name': 'Dasistwirklichseinnachn...</td>\n",
       "      <td>[{'id': 14201, 'name': 'Walker (R), M.', 'pr':...</td>\n",
       "      <td>[{'id': 13580, 'name': 'Despacito Jr., G.', 'k...</td>\n",
       "      <td>[{'id': 11882, 'name': 'Quaid, D.', 't': 8}, {...</td>\n",
       "      <td>[{'id': 12556, 'name': 'Jones (C), D.', 't': 9...</td>\n",
       "      <td>[{'id': 1611, 'name': 'Ones, B.', 'pen': 1, 'y...</td>\n",
       "      <td>[{'id': 13580, 'name': 'Despacito Jr., G.', 'p...</td>\n",
       "      <td>3.0</td>\n",
       "      <td>1.0</td>\n",
       "      <td>1.0</td>\n",
       "      <td>1.0</td>\n",
       "      <td>1.0</td>\n",
       "      <td>NaN</td>\n",
       "      <td>NaN</td>\n",
       "      <td>NaN</td>\n",
       "    </tr>\n",
       "    <tr>\n",
       "      <th>3</th>\n",
       "      <td>3</td>\n",
       "      <td>3</td>\n",
       "      <td>3</td>\n",
       "      <td>3</td>\n",
       "      <td>50</td>\n",
       "      <td>6</td>\n",
       "      <td>7</td>\n",
       "      <td>80° F, Wind 11 mph</td>\n",
       "      <td>SaberCats</td>\n",
       "      <td>Liberty</td>\n",
       "      <td>SJS</td>\n",
       "      <td>PHI</td>\n",
       "      <td>(7-9-0)</td>\n",
       "      <td>(7-9-0)</td>\n",
       "      <td>14.0</td>\n",
       "      <td>10.0</td>\n",
       "      <td>7.0</td>\n",
       "      <td>6.0</td>\n",
       "      <td>37.0</td>\n",
       "      <td>7.0</td>\n",
       "      <td>7.0</td>\n",
       "      <td>NaN</td>\n",
       "      <td>21</td>\n",
       "      <td>12148</td>\n",
       "      <td>13576</td>\n",
       "      <td>Jamar Lackson - RB (SJS): 25 att, 137 yds, 2 TD</td>\n",
       "      <td>Dorothy Zbornak - DE (PHI): 4 Tck, 1 Sck, 1 FF</td>\n",
       "      <td>16</td>\n",
       "      <td>2.0</td>\n",
       "      <td>9</td>\n",
       "      <td>380</td>\n",
       "      <td>299</td>\n",
       "      <td>27</td>\n",
       "      <td>40</td>\n",
       "      <td>7.5</td>\n",
       "      <td>81</td>\n",
       "      <td>17</td>\n",
       "      <td>4.8</td>\n",
       "      <td>4.0</td>\n",
       "      <td>20.0</td>\n",
       "      <td>NaN</td>\n",
       "      <td>1.0</td>\n",
       "      <td>NaN</td>\n",
       "      <td>25:54</td>\n",
       "      <td>20</td>\n",
       "      <td>5.0</td>\n",
       "      <td>10</td>\n",
       "      <td>422</td>\n",
       "      <td>278</td>\n",
       "      <td>24</td>\n",
       "      <td>34</td>\n",
       "      <td>8.2</td>\n",
       "      <td>144</td>\n",
       "      <td>27</td>\n",
       "      <td>5.3</td>\n",
       "      <td>4.0</td>\n",
       "      <td>35.0</td>\n",
       "      <td>1.0</td>\n",
       "      <td>1.0</td>\n",
       "      <td>1.0</td>\n",
       "      <td>NaN</td>\n",
       "      <td>34:06</td>\n",
       "      <td>[{'team': 7, 'type': 'TD', 'time': '13:58', 'p...</td>\n",
       "      <td>[{'team': 6, 'type': 'TD', 'time': '13:59', 'p...</td>\n",
       "      <td>[{'team': 7, 'type': 'TD', 'time': '12:00', 'p...</td>\n",
       "      <td>[{'team': 6, 'type': 'FG', 'time': '9:45', 'pl...</td>\n",
       "      <td>[]</td>\n",
       "      <td>[{'id': 11605, 'name': 'Phoenix (C), B.', 'c':...</td>\n",
       "      <td>[{'id': 12094, 'name': 'Jack, M.', 'c': 24, 'a...</td>\n",
       "      <td>[{'id': 9822, 'name': 'Torenson, S.', 'a': 14,...</td>\n",
       "      <td>[{'id': 12148, 'name': 'Lackson, J.', 'a': 25,...</td>\n",
       "      <td>[{'id': 12563, 'name': 'Panda, F.', 'c': 8, 'y...</td>\n",
       "      <td>[{'id': 13009, 'name': 'Hood, T.', 'c': 7, 'y'...</td>\n",
       "      <td>[{'id': 14268, 'name': 'Fencik (R), J.', 'xpm'...</td>\n",
       "      <td>[{'id': 12562, 'name': 'McDairmid (C), M.', 'x...</td>\n",
       "      <td>[{'id': 911, 'name': 'PuntBot, Z.', 'p': 4, 'y...</td>\n",
       "      <td>[{'id': 12562, 'name': 'McDairmid (C), M.', 'p...</td>\n",
       "      <td>[{'id': 9822, 'name': 'Torenson, S.', 'kr': 1,...</td>\n",
       "      <td>[{'id': 12148, 'name': 'Lackson, J.', 'kr': 2,...</td>\n",
       "      <td>[{'id': 12569, 'name': 'Booker (C), B.', 't': ...</td>\n",
       "      <td>[{'id': 14215, 'name': 'Hilliard (R), R.', 't'...</td>\n",
       "      <td>[{'id': 12571, 'name': 'Altidor, J.', 'pen': 2...</td>\n",
       "      <td>[{'id': 9849, 'name': 'Pest, T.', 'pen': 2, 'y...</td>\n",
       "      <td>7.0</td>\n",
       "      <td>NaN</td>\n",
       "      <td>NaN</td>\n",
       "      <td>1.0</td>\n",
       "      <td>NaN</td>\n",
       "      <td>NaN</td>\n",
       "      <td>NaN</td>\n",
       "      <td>NaN</td>\n",
       "    </tr>\n",
       "    <tr>\n",
       "      <th>4</th>\n",
       "      <td>4</td>\n",
       "      <td>4</td>\n",
       "      <td>4</td>\n",
       "      <td>4</td>\n",
       "      <td>60</td>\n",
       "      <td>8</td>\n",
       "      <td>12</td>\n",
       "      <td>85° F, Wind 7 mph</td>\n",
       "      <td>Second Line</td>\n",
       "      <td>Hahalua</td>\n",
       "      <td>NOLA</td>\n",
       "      <td>HON</td>\n",
       "      <td>(11-5-0)</td>\n",
       "      <td>(5-10-1)</td>\n",
       "      <td>9.0</td>\n",
       "      <td>NaN</td>\n",
       "      <td>7.0</td>\n",
       "      <td>7.0</td>\n",
       "      <td>23.0</td>\n",
       "      <td>NaN</td>\n",
       "      <td>NaN</td>\n",
       "      <td>3.0</td>\n",
       "      <td>10</td>\n",
       "      <td>13598</td>\n",
       "      <td>14248</td>\n",
       "      <td>Ben Slothlisberger - QB (NOLA): 22/25, 195 yds...</td>\n",
       "      <td>Three Foot Jeffrey (R) - DE (HON): 4 Tck, 2 Sc...</td>\n",
       "      <td>17</td>\n",
       "      <td>7.0</td>\n",
       "      <td>15</td>\n",
       "      <td>306</td>\n",
       "      <td>236</td>\n",
       "      <td>26</td>\n",
       "      <td>35</td>\n",
       "      <td>6.7</td>\n",
       "      <td>70</td>\n",
       "      <td>26</td>\n",
       "      <td>2.7</td>\n",
       "      <td>3.0</td>\n",
       "      <td>30.0</td>\n",
       "      <td>1.0</td>\n",
       "      <td>1.0</td>\n",
       "      <td>1.0</td>\n",
       "      <td>29:19</td>\n",
       "      <td>14</td>\n",
       "      <td>6.0</td>\n",
       "      <td>12</td>\n",
       "      <td>299</td>\n",
       "      <td>195</td>\n",
       "      <td>22</td>\n",
       "      <td>25</td>\n",
       "      <td>7.8</td>\n",
       "      <td>104</td>\n",
       "      <td>26</td>\n",
       "      <td>4.0</td>\n",
       "      <td>1.0</td>\n",
       "      <td>10.0</td>\n",
       "      <td>NaN</td>\n",
       "      <td>NaN</td>\n",
       "      <td>1.0</td>\n",
       "      <td>NaN</td>\n",
       "      <td>30:41</td>\n",
       "      <td>[{'team': 8, 'type': 'SF', 'time': '7:09', 'pl...</td>\n",
       "      <td>[{'team': 12, 'type': 'TD', 'time': '4:47', 'p...</td>\n",
       "      <td>[{'team': 8, 'type': 'TD', 'time': '12:46', 'p...</td>\n",
       "      <td>[{'team': 12, 'type': 'FG', 'time': '11:30', '...</td>\n",
       "      <td>[]</td>\n",
       "      <td>[{'id': 13593, 'name': 'Skywalker (C), L.', 'c...</td>\n",
       "      <td>[{'id': 13598, 'name': 'Slothlisberger, B.', '...</td>\n",
       "      <td>[{'id': 13595, 'name': 'Ayers, N.', 'a': 22, '...</td>\n",
       "      <td>[{'id': 10702, 'name': 'Toriki, M.', 'a': 24, ...</td>\n",
       "      <td>[{'id': 12595, 'name': 'Alexander, W.', 'c': 6...</td>\n",
       "      <td>[{'id': 12576, 'name': 'Barker, E.', 'c': 6, '...</td>\n",
       "      <td>[{'id': 11574, 'name': 'Powers, V.', 'xpm': 1,...</td>\n",
       "      <td>[{'id': 11742, 'name': 'Louis, L.', 'xpm': 3, ...</td>\n",
       "      <td>[{'id': 11574, 'name': 'Powers, V.', 'p': 5, '...</td>\n",
       "      <td>[{'id': 11742, 'name': 'Louis, L.', 'p': 5, 'y...</td>\n",
       "      <td>[{'id': 13073, 'name': 'Waters, J.', 'kr': 2, ...</td>\n",
       "      <td>[{'id': 10730, 'name': 'Rector, D.', 'kr': 1, ...</td>\n",
       "      <td>[{'id': 13091, 'name': 'Kackpoo, H.', 't': 8, ...</td>\n",
       "      <td>[{'id': 12573, 'name': 'Witten, A.', 't': 9, '...</td>\n",
       "      <td>[{'id': 12597, 'name': 'Dinkley, V.', 'pen': 1...</td>\n",
       "      <td>[{'id': 591, 'name': 'Spais, B.', 'pen': 1, 'y...</td>\n",
       "      <td>7.0</td>\n",
       "      <td>1.0</td>\n",
       "      <td>1.0</td>\n",
       "      <td>2.0</td>\n",
       "      <td>NaN</td>\n",
       "      <td>NaN</td>\n",
       "      <td>NaN</td>\n",
       "      <td>NaN</td>\n",
       "    </tr>\n",
       "  </tbody>\n",
       "</table>\n",
       "</div>"
      ],
      "text/plain": [
       "   Unnamed: 0  Unnamed: 0.1  level_0  index  id  hId  aId             weather  \\\n",
       "0           0             0        0      0  20    1    7   72° F, Wind 9 mph   \n",
       "1           1             1        1      1  30    3    5   68° F, Wind 3 mph   \n",
       "2           2             2        2      2  40    5    2   79° F, Wind 3 mph   \n",
       "3           3             3        3      3  50    6    7  80° F, Wind 11 mph   \n",
       "4           4             4        4      4  60    8   12   85° F, Wind 7 mph   \n",
       "\n",
       "       hMascot  aMascot  hAbb aAbb      hRec      aRec   h1Q   h2Q  h3Q  h4Q  \\\n",
       "0        Hawks  Liberty   BAL  PHI  (5-11-0)   (7-9-0)   7.0  21.0  7.0  7.0   \n",
       "1         Yeti   Otters   COL  OCO   (9-7-0)  (12-4-0)   NaN   7.0  3.0  7.0   \n",
       "2       Otters  Wraiths   OCO  YKW  (12-4-0)   (8-8-0)   NaN  14.0  2.0  8.0   \n",
       "3    SaberCats  Liberty   SJS  PHI   (7-9-0)   (7-9-0)  14.0  10.0  7.0  6.0   \n",
       "4  Second Line  Hahalua  NOLA  HON  (11-5-0)  (5-10-1)   9.0   NaN  7.0  7.0   \n",
       "\n",
       "     hF   a1Q   a3Q   a4Q  aF  oPOGId  dPOGId  \\\n",
       "0  42.0  21.0   7.0  20.0  48    9822   12566   \n",
       "1  17.0  17.0   7.0  17.0  44   14251   12037   \n",
       "2  24.0   7.0  14.0   3.0  27   11929   13579   \n",
       "3  37.0   7.0   7.0   NaN  21   12148   13576   \n",
       "4  23.0   NaN   NaN   3.0  10   13598   14248   \n",
       "\n",
       "                                                oPOG  \\\n",
       "0     Sam Torenson - RB (PHI): 23 att, 109 yds, 4 TD   \n",
       "1  Suleiman Ramza (R) - QB (OCO): 12/22, 220 yds,...   \n",
       "2     Future Trunks - WR (OCO): 4 rec, 124 yds, 1 TD   \n",
       "3    Jamar Lackson - RB (SJS): 25 att, 137 yds, 2 TD   \n",
       "4  Ben Slothlisberger - QB (NOLA): 22/25, 195 yds...   \n",
       "\n",
       "                                                dPOG  aFD  a3rdM  a3rdA  aYds  \\\n",
       "0  Matt Cross - FS (PHI): 3 Tck, 2 Int, 1 Def TD,...   14    3.0     11   406   \n",
       "1  Inspectah Deck - LB (OCO): 2 Tck, 1 Int, 1 Def TD    8    3.0     11   349   \n",
       "2     Bob Bob - SS (OCO): 6 Tck, 1 Sck, 1 Sfty, 1 FF   15    6.0     13   282   \n",
       "3     Dorothy Zbornak - DE (PHI): 4 Tck, 1 Sck, 1 FF   16    2.0      9   380   \n",
       "4  Three Foot Jeffrey (R) - DE (HON): 4 Tck, 2 Sc...   17    7.0     15   306   \n",
       "\n",
       "   aPassing  aComp  aAtt  aYPP  aRushing  aRushes  aYPR  aPen  aPenYds  aTO  \\\n",
       "0       229     20    32   7.2       177       29   6.1   5.0     57.0  1.0   \n",
       "1       264     13    26  10.2        85       23   3.7   5.0     60.0  NaN   \n",
       "2       261     28    34   7.7        21       26   0.8   3.0     30.0  1.0   \n",
       "3       299     27    40   7.5        81       17   4.8   4.0     20.0  NaN   \n",
       "4       236     26    35   6.7        70       26   2.7   3.0     30.0  1.0   \n",
       "\n",
       "   aFum  aFumL   aTOP  hFD  h3rdM  h3rdA  hYds  hPassing  hComp  hAtt  hYPP  \\\n",
       "0   1.0    1.0  30:03   18    4.0      7   561       435     28    42  10.4   \n",
       "1   2.0    NaN  29:37   12    5.0     13   282       200     22    35   5.7   \n",
       "2   2.0    NaN  33:43   14    3.0      8   348       228     14    32   7.1   \n",
       "3   1.0    NaN  25:54   20    5.0     10   422       278     24    34   8.2   \n",
       "4   1.0    1.0  29:19   14    6.0     12   299       195     22    25   7.8   \n",
       "\n",
       "   hRushing  hRushes  hYPR  hPen  hPenYds  hTO  hInt  hFum  hFumL   hTOP  \\\n",
       "0       126       19   6.6   1.0     15.0  6.0   4.0   2.0    2.0  29:57   \n",
       "1        82       28   2.9   3.0     25.0  4.0   1.0   4.0    3.0  30:23   \n",
       "2       120       21   5.7   1.0      5.0  4.0   4.0   1.0    NaN  26:17   \n",
       "3       144       27   5.3   4.0     35.0  1.0   1.0   1.0    NaN  34:06   \n",
       "4       104       26   4.0   1.0     10.0  NaN   NaN   1.0    NaN  30:41   \n",
       "\n",
       "                                           scoring1Q  \\\n",
       "0  [{'team': 7, 'type': 'TD', 'time': '12:44', 'p...   \n",
       "1  [{'team': 5, 'type': 'TD', 'time': '12:10', 'p...   \n",
       "2  [{'team': 2, 'type': 'TD', 'time': '3:15', 'pl...   \n",
       "3  [{'team': 7, 'type': 'TD', 'time': '13:58', 'p...   \n",
       "4  [{'team': 8, 'type': 'SF', 'time': '7:09', 'pl...   \n",
       "\n",
       "                                           scoring2Q  \\\n",
       "0  [{'team': 1, 'type': 'TD', 'time': '8:52', 'pl...   \n",
       "1  [{'team': 5, 'type': 'FG', 'time': '14:37', 'p...   \n",
       "2  [{'team': 2, 'type': 'FG', 'time': '8:11', 'pl...   \n",
       "3  [{'team': 6, 'type': 'TD', 'time': '13:59', 'p...   \n",
       "4  [{'team': 12, 'type': 'TD', 'time': '4:47', 'p...   \n",
       "\n",
       "                                           scoring3Q  \\\n",
       "0  [{'team': 7, 'type': 'TD', 'time': '12:14', 'p...   \n",
       "1  [{'team': 5, 'type': 'TD', 'time': '9:52', 'pl...   \n",
       "2  [{'team': 5, 'type': 'SF', 'time': '11:50', 'p...   \n",
       "3  [{'team': 7, 'type': 'TD', 'time': '12:00', 'p...   \n",
       "4  [{'team': 8, 'type': 'TD', 'time': '12:46', 'p...   \n",
       "\n",
       "                                           scoring4Q scoringOT  \\\n",
       "0  [{'team': 7, 'type': 'TD', 'time': '14:13', 'p...        []   \n",
       "1  [{'team': 5, 'type': 'TD', 'time': '14:34', 'p...        []   \n",
       "2  [{'team': 2, 'type': 'FG', 'time': '5:42', 'pl...        []   \n",
       "3  [{'team': 6, 'type': 'FG', 'time': '9:45', 'pl...        []   \n",
       "4  [{'team': 12, 'type': 'FG', 'time': '11:30', '...        []   \n",
       "\n",
       "                                       aStatsPassing  \\\n",
       "0  [{'id': 11605, 'name': 'Phoenix (C), B.', 'c':...   \n",
       "1  [{'id': 14251, 'name': 'Ramza (R), S.', 'c': 1...   \n",
       "2  [{'id': 13570, 'name': 'Jack, C.', 'c': 28, 'a...   \n",
       "3  [{'id': 11605, 'name': 'Phoenix (C), B.', 'c':...   \n",
       "4  [{'id': 13593, 'name': 'Skywalker (C), L.', 'c...   \n",
       "\n",
       "                                       hStatsPassing  \\\n",
       "0  [{'id': 12526, 'name': 'Fujiwara (C), C.', 'c'...   \n",
       "1  [{'id': 8221, 'name': 'McDummy (C), W.', 'c': ...   \n",
       "2  [{'id': 14251, 'name': 'Ramza (R), S.', 'c': 1...   \n",
       "3  [{'id': 12094, 'name': 'Jack, M.', 'c': 24, 'a...   \n",
       "4  [{'id': 13598, 'name': 'Slothlisberger, B.', '...   \n",
       "\n",
       "                                       aStatsRushing  \\\n",
       "0  [{'id': 9822, 'name': 'Torenson, S.', 'a': 23,...   \n",
       "1  [{'id': 13578, 'name': 'McZeal, K.', 'a': 16, ...   \n",
       "2  [{'id': 13602, 'name': 'Z, D.', 'a': 18, 'y': ...   \n",
       "3  [{'id': 9822, 'name': 'Torenson, S.', 'a': 14,...   \n",
       "4  [{'id': 13595, 'name': 'Ayers, N.', 'a': 22, '...   \n",
       "\n",
       "                                       hStatsRushing  \\\n",
       "0  [{'id': 13589, 'name': 'Fukushu, M.', 'a': 15,...   \n",
       "1  [{'id': 11601, 'name': 'Williams, D.', 'a': 22...   \n",
       "2  [{'id': 13578, 'name': 'McZeal, K.', 'a': 16, ...   \n",
       "3  [{'id': 12148, 'name': 'Lackson, J.', 'a': 25,...   \n",
       "4  [{'id': 10702, 'name': 'Toriki, M.', 'a': 24, ...   \n",
       "\n",
       "                                     aStatsReceiving  \\\n",
       "0  [{'id': 12563, 'name': 'Panda, F.', 'c': 5, 'y...   \n",
       "1  [{'id': 12555, 'name': 'Phillips, J.', 'c': 3,...   \n",
       "2  [{'id': 13573, 'name': 'Sakura (C), K.', 'c': ...   \n",
       "3  [{'id': 12563, 'name': 'Panda, F.', 'c': 8, 'y...   \n",
       "4  [{'id': 12595, 'name': 'Alexander, W.', 'c': 6...   \n",
       "\n",
       "                                     hStatsReceiving  \\\n",
       "0  [{'id': 14283, 'name': 'Howlett (R), D.', 'c':...   \n",
       "1  [{'id': 11136, 'name': 'Sauce, E.', 'c': 5, 'y...   \n",
       "2  [{'id': 13580, 'name': 'Despacito Jr., G.', 'c...   \n",
       "3  [{'id': 13009, 'name': 'Hood, T.', 'c': 7, 'y'...   \n",
       "4  [{'id': 12576, 'name': 'Barker, E.', 'c': 6, '...   \n",
       "\n",
       "                                       aStatsKicking  \\\n",
       "0  [{'id': 14268, 'name': 'Fencik (R), J.', 'xpm'...   \n",
       "1  [{'id': 6859, 'name': 'Dasistwirklichseinnachn...   \n",
       "2  [{'id': 14205, 'name': 'Kokot (R), B.', 'xpm':...   \n",
       "3  [{'id': 14268, 'name': 'Fencik (R), J.', 'xpm'...   \n",
       "4  [{'id': 11574, 'name': 'Powers, V.', 'xpm': 1,...   \n",
       "\n",
       "                                       hStatsKicking  \\\n",
       "0  [{'id': 13082, 'name': 'Small, J.', 'xpm': 6, ...   \n",
       "1  [{'id': 12016, 'name': 'Banana, S.', 'xpm': 2,...   \n",
       "2  [{'id': 6859, 'name': 'Dasistwirklichseinnachn...   \n",
       "3  [{'id': 12562, 'name': 'McDairmid (C), M.', 'x...   \n",
       "4  [{'id': 11742, 'name': 'Louis, L.', 'xpm': 3, ...   \n",
       "\n",
       "                                       aStatsPunting  \\\n",
       "0  [{'id': 911, 'name': 'PuntBot, Z.', 'p': 6, 'y...   \n",
       "1  [{'id': 6859, 'name': 'Dasistwirklichseinnachn...   \n",
       "2  [{'id': 14205, 'name': 'Kokot (R), B.', 'p': 4...   \n",
       "3  [{'id': 911, 'name': 'PuntBot, Z.', 'p': 4, 'y...   \n",
       "4  [{'id': 11574, 'name': 'Powers, V.', 'p': 5, '...   \n",
       "\n",
       "                                       hStatsPunting  \\\n",
       "0  [{'id': 13082, 'name': 'Small, J.', 'p': 3, 'y...   \n",
       "1  [{'id': 12016, 'name': 'Banana, S.', 'p': 4, '...   \n",
       "2  [{'id': 6859, 'name': 'Dasistwirklichseinnachn...   \n",
       "3  [{'id': 12562, 'name': 'McDairmid (C), M.', 'p...   \n",
       "4  [{'id': 11742, 'name': 'Louis, L.', 'p': 5, 'y...   \n",
       "\n",
       "                                            aStatsST  \\\n",
       "0  [{'id': 9822, 'name': 'Torenson, S.', 'kr': 2,...   \n",
       "1  [{'id': 11602, 'name': 'Beerus, L.', 'kr': 2, ...   \n",
       "2  [{'id': 14201, 'name': 'Walker (R), M.', 'pr':...   \n",
       "3  [{'id': 9822, 'name': 'Torenson, S.', 'kr': 1,...   \n",
       "4  [{'id': 13073, 'name': 'Waters, J.', 'kr': 2, ...   \n",
       "\n",
       "                                            hStatsST  \\\n",
       "0  [{'id': 13589, 'name': 'Fukushu, M.', 'kr': 3,...   \n",
       "1  [{'id': 10693, 'name': 'Purchase, L.', 'kr': 2...   \n",
       "2  [{'id': 13580, 'name': 'Despacito Jr., G.', 'k...   \n",
       "3  [{'id': 12148, 'name': 'Lackson, J.', 'kr': 2,...   \n",
       "4  [{'id': 10730, 'name': 'Rector, D.', 'kr': 1, ...   \n",
       "\n",
       "                                           aStatsDef  \\\n",
       "0  [{'id': 11165, 'name': 'Howyanow, W.', 't': 7,...   \n",
       "1  [{'id': 12556, 'name': 'Jones (C), D.', 't': 9...   \n",
       "2  [{'id': 11882, 'name': 'Quaid, D.', 't': 8}, {...   \n",
       "3  [{'id': 12569, 'name': 'Booker (C), B.', 't': ...   \n",
       "4  [{'id': 13091, 'name': 'Kackpoo, H.', 't': 8, ...   \n",
       "\n",
       "                                           hStatsDef  \\\n",
       "0  [{'id': 12529, 'name': 'Avery, E.', 't': 6, 'p...   \n",
       "1  [{'id': 13638, 'name': 'de Pengu, A.', 't': 7,...   \n",
       "2  [{'id': 12556, 'name': 'Jones (C), D.', 't': 9...   \n",
       "3  [{'id': 14215, 'name': 'Hilliard (R), R.', 't'...   \n",
       "4  [{'id': 12573, 'name': 'Witten, A.', 't': 9, '...   \n",
       "\n",
       "                                         aStatsOther  \\\n",
       "0  [{'id': 14271, 'name': 'Wrecks (R), T.', 'pen'...   \n",
       "1  [{'id': 1626, 'name': 'Pak, Y.', 'pen': 1, 'y'...   \n",
       "2  [{'id': 1611, 'name': 'Ones, B.', 'pen': 1, 'y...   \n",
       "3  [{'id': 12571, 'name': 'Altidor, J.', 'pen': 2...   \n",
       "4  [{'id': 12597, 'name': 'Dinkley, V.', 'pen': 1...   \n",
       "\n",
       "                                         hStatsOther  a2Q  h4thA  a4thM  \\\n",
       "0  [{'id': 746, 'name': 'Ash, R.', 'pen': 1, 'y':...  NaN    NaN    NaN   \n",
       "1  [{'id': 11601, 'name': 'Williams, D.', 'pen': ...  3.0    2.0    NaN   \n",
       "2  [{'id': 13580, 'name': 'Despacito Jr., G.', 'p...  3.0    1.0    1.0   \n",
       "3  [{'id': 9849, 'name': 'Pest, T.', 'pen': 2, 'y...  7.0    NaN    NaN   \n",
       "4  [{'id': 591, 'name': 'Spais, B.', 'pen': 1, 'y...  7.0    1.0    1.0   \n",
       "\n",
       "   a4thA  aInt  h4thM  hOT  aOT  \n",
       "0    NaN   NaN    NaN  NaN  NaN  \n",
       "1    NaN   NaN    NaN  NaN  NaN  \n",
       "2    1.0   1.0    NaN  NaN  NaN  \n",
       "3    1.0   NaN    NaN  NaN  NaN  \n",
       "4    2.0   NaN    NaN  NaN  NaN  "
      ]
     },
     "execution_count": 85,
     "metadata": {},
     "output_type": "execute_result"
    }
   ],
   "source": [
    "boxDF.head()"
   ]
  },
  {
   "cell_type": "code",
   "execution_count": 268,
   "metadata": {},
   "outputs": [
    {
     "data": {
      "text/plain": [
       "array([ 20,  30,  40,  50,  60,  70,  80,  90, 100, 110, 120, 130, 140,\n",
       "       150, 160,  21,  31,  41,  51,  61,  71,  81,  91, 101, 111, 121,\n",
       "       131, 141, 151, 171,  22,  32,  42,  52,  62,  72,  82,  92, 102,\n",
       "       112, 122, 132, 142, 152, 172,  23,  33,  43,  53,  63,  73,  83,\n",
       "        93, 103, 113, 123, 133, 143, 153,  24,  34,  44,  54,  64,  74,\n",
       "        84,  94, 104, 114, 124, 134, 144, 154, 174,  15,  25,  35,  45,\n",
       "        55,  65,  75,  85,  95, 105, 115, 125, 135, 145, 155, 165,  16,\n",
       "        26,  36,  46,  56,  66,  76,  86,  96, 106, 116, 126, 136, 146,\n",
       "       156, 166,  17,  27,  37,  47,  57,  67,  77,  87,  97, 107, 117,\n",
       "       127, 137, 147, 157, 167,  18,  28,  38,  48,  58,  68,  78,  88,\n",
       "        98, 108, 118, 128, 138, 148, 158, 168,  19,  29,  39,  49,  59,\n",
       "        69,  79,  89,  99, 109, 119, 129, 139, 149, 159])"
      ]
     },
     "execution_count": 268,
     "metadata": {},
     "output_type": "execute_result"
    }
   ],
   "source": [
    "boxDF.id.unique()"
   ]
  },
  {
   "cell_type": "code",
   "execution_count": 86,
   "metadata": {},
   "outputs": [
    {
     "data": {
      "text/plain": [
       "Index(['Unnamed: 0', 'Unnamed: 0.1', 'level_0', 'index', 'id', 'hId', 'aId',\n",
       "       'weather', 'hMascot', 'aMascot', 'hAbb', 'aAbb', 'hRec', 'aRec', 'h1Q',\n",
       "       'h2Q', 'h3Q', 'h4Q', 'hF', 'a1Q', 'a3Q', 'a4Q', 'aF', 'oPOGId',\n",
       "       'dPOGId', 'oPOG', 'dPOG', 'aFD', 'a3rdM', 'a3rdA', 'aYds', 'aPassing',\n",
       "       'aComp', 'aAtt', 'aYPP', 'aRushing', 'aRushes', 'aYPR', 'aPen',\n",
       "       'aPenYds', 'aTO', 'aFum', 'aFumL', 'aTOP', 'hFD', 'h3rdM', 'h3rdA',\n",
       "       'hYds', 'hPassing', 'hComp', 'hAtt', 'hYPP', 'hRushing', 'hRushes',\n",
       "       'hYPR', 'hPen', 'hPenYds', 'hTO', 'hInt', 'hFum', 'hFumL', 'hTOP',\n",
       "       'scoring1Q', 'scoring2Q', 'scoring3Q', 'scoring4Q', 'scoringOT',\n",
       "       'aStatsPassing', 'hStatsPassing', 'aStatsRushing', 'hStatsRushing',\n",
       "       'aStatsReceiving', 'hStatsReceiving', 'aStatsKicking', 'hStatsKicking',\n",
       "       'aStatsPunting', 'hStatsPunting', 'aStatsST', 'hStatsST', 'aStatsDef',\n",
       "       'hStatsDef', 'aStatsOther', 'hStatsOther', 'a2Q', 'h4thA', 'a4thM',\n",
       "       'a4thA', 'aInt', 'h4thM', 'hOT', 'aOT'],\n",
       "      dtype='object')"
      ]
     },
     "execution_count": 86,
     "metadata": {},
     "output_type": "execute_result"
    }
   ],
   "source": [
    "boxDF.columns"
   ]
  },
  {
   "cell_type": "code",
   "execution_count": 88,
   "metadata": {},
   "outputs": [
    {
     "data": {
      "text/html": [
       "<div>\n",
       "<style scoped>\n",
       "    .dataframe tbody tr th:only-of-type {\n",
       "        vertical-align: middle;\n",
       "    }\n",
       "\n",
       "    .dataframe tbody tr th {\n",
       "        vertical-align: top;\n",
       "    }\n",
       "\n",
       "    .dataframe thead th {\n",
       "        text-align: right;\n",
       "    }\n",
       "</style>\n",
       "<table border=\"1\" class=\"dataframe\">\n",
       "  <thead>\n",
       "    <tr style=\"text-align: right;\">\n",
       "      <th></th>\n",
       "      <th>id</th>\n",
       "      <th>name</th>\n",
       "      <th>a</th>\n",
       "      <th>y</th>\n",
       "      <th>avg</th>\n",
       "      <th>td</th>\n",
       "      <th>l</th>\n",
       "    </tr>\n",
       "  </thead>\n",
       "  <tbody>\n",
       "    <tr>\n",
       "      <th>0</th>\n",
       "      <td>13589</td>\n",
       "      <td>Fukushu, M.</td>\n",
       "      <td>15</td>\n",
       "      <td>119.0</td>\n",
       "      <td>7.9</td>\n",
       "      <td>3.0</td>\n",
       "      <td>41.0</td>\n",
       "    </tr>\n",
       "    <tr>\n",
       "      <th>1</th>\n",
       "      <td>884</td>\n",
       "      <td>Covey, J.</td>\n",
       "      <td>2</td>\n",
       "      <td>6.0</td>\n",
       "      <td>3.0</td>\n",
       "      <td>NaN</td>\n",
       "      <td>6.0</td>\n",
       "    </tr>\n",
       "    <tr>\n",
       "      <th>2</th>\n",
       "      <td>12526</td>\n",
       "      <td>Fujiwara (C), C.</td>\n",
       "      <td>1</td>\n",
       "      <td>NaN</td>\n",
       "      <td>NaN</td>\n",
       "      <td>NaN</td>\n",
       "      <td>NaN</td>\n",
       "    </tr>\n",
       "    <tr>\n",
       "      <th>3</th>\n",
       "      <td>13627</td>\n",
       "      <td>D, Z.</td>\n",
       "      <td>1</td>\n",
       "      <td>1.0</td>\n",
       "      <td>1.0</td>\n",
       "      <td>NaN</td>\n",
       "      <td>1.0</td>\n",
       "    </tr>\n",
       "  </tbody>\n",
       "</table>\n",
       "</div>"
      ],
      "text/plain": [
       "      id              name   a      y  avg   td     l\n",
       "0  13589       Fukushu, M.  15  119.0  7.9  3.0  41.0\n",
       "1    884         Covey, J.   2    6.0  3.0  NaN   6.0\n",
       "2  12526  Fujiwara (C), C.   1    NaN  NaN  NaN   NaN\n",
       "3  13627             D, Z.   1    1.0  1.0  NaN   1.0"
      ]
     },
     "execution_count": 88,
     "metadata": {},
     "output_type": "execute_result"
    }
   ],
   "source": [
    "pd.DataFrame(eval(boxDF[boxDF.id == 20].hStatsRushing.iloc[0]))"
   ]
  },
  {
   "cell_type": "markdown",
   "metadata": {},
   "source": [
    "***\n",
    "play by play"
   ]
  },
  {
   "cell_type": "code",
   "execution_count": 39,
   "metadata": {},
   "outputs": [
    {
     "data": {
      "text/html": [
       "<div>\n",
       "<style scoped>\n",
       "    .dataframe tbody tr th:only-of-type {\n",
       "        vertical-align: middle;\n",
       "    }\n",
       "\n",
       "    .dataframe tbody tr th {\n",
       "        vertical-align: top;\n",
       "    }\n",
       "\n",
       "    .dataframe thead th {\n",
       "        text-align: right;\n",
       "    }\n",
       "</style>\n",
       "<table border=\"1\" class=\"dataframe\">\n",
       "  <thead>\n",
       "    <tr style=\"text-align: right;\">\n",
       "      <th></th>\n",
       "      <th>Unnamed: 0</th>\n",
       "      <th>id</th>\n",
       "      <th>Q1</th>\n",
       "      <th>Q2</th>\n",
       "      <th>Q3</th>\n",
       "      <th>Q4</th>\n",
       "      <th>OT</th>\n",
       "    </tr>\n",
       "  </thead>\n",
       "  <tbody>\n",
       "    <tr>\n",
       "      <th>0</th>\n",
       "      <td>0</td>\n",
       "      <td>20</td>\n",
       "      <td>[{'s': 'PHI 0 - BAL 0', 'c': '15:00', 't': '--...</td>\n",
       "      <td>[{'s': 'PHI 21 - BAL 7', 'c': '15:00', 't': '2...</td>\n",
       "      <td>[{'s': 'PHI 21 - BAL 28', 'c': '15:00', 't': '...</td>\n",
       "      <td>[{'s': 'PHI 28 - BAL 35', 'c': '15:00', 't': '...</td>\n",
       "      <td>[]</td>\n",
       "    </tr>\n",
       "    <tr>\n",
       "      <th>1</th>\n",
       "      <td>1</td>\n",
       "      <td>30</td>\n",
       "      <td>[{'s': 'OCO 0 - COL 0', 'c': '15:00', 't': '--...</td>\n",
       "      <td>[{'s': 'OCO 17 - COL 0', 'c': '15:00', 't': '3...</td>\n",
       "      <td>[{'s': 'OCO 20 - COL 7', 'c': '15:00', 't': '2...</td>\n",
       "      <td>[{'s': 'OCO 27 - COL 10', 'c': '15:00', 't': '...</td>\n",
       "      <td>[]</td>\n",
       "    </tr>\n",
       "    <tr>\n",
       "      <th>2</th>\n",
       "      <td>2</td>\n",
       "      <td>40</td>\n",
       "      <td>[{'s': 'YKW 0 - OCO 0', 'c': '15:00', 't': '--...</td>\n",
       "      <td>[{'s': 'YKW 7 - OCO 0', 'c': '15:00', 't': '1s...</td>\n",
       "      <td>[{'s': 'YKW 10 - OCO 14', 'c': '15:00', 't': '...</td>\n",
       "      <td>[{'s': 'YKW 24 - OCO 16', 'c': '15:00', 't': '...</td>\n",
       "      <td>[]</td>\n",
       "    </tr>\n",
       "    <tr>\n",
       "      <th>3</th>\n",
       "      <td>3</td>\n",
       "      <td>50</td>\n",
       "      <td>[{'s': 'PHI 0 - SJS 0', 'c': '15:00', 't': '--...</td>\n",
       "      <td>[{'s': 'PHI 7 - SJS 14', 'c': '15:00', 't': '1...</td>\n",
       "      <td>[{'s': 'PHI 14 - SJS 24', 'c': '15:00', 't': '...</td>\n",
       "      <td>[{'s': 'PHI 21 - SJS 31', 'c': '15:00', 't': '...</td>\n",
       "      <td>[]</td>\n",
       "    </tr>\n",
       "    <tr>\n",
       "      <th>4</th>\n",
       "      <td>4</td>\n",
       "      <td>60</td>\n",
       "      <td>[{'s': 'HON 0 - NOLA 0', 'c': '15:00', 't': '-...</td>\n",
       "      <td>[{'s': 'HON 0 - NOLA 9', 'c': '15:00', 't': '2...</td>\n",
       "      <td>[{'s': 'HON 7 - NOLA 9', 'c': '15:00', 't': '1...</td>\n",
       "      <td>[{'s': 'HON 7 - NOLA 16', 'c': '15:00', 't': '...</td>\n",
       "      <td>[]</td>\n",
       "    </tr>\n",
       "  </tbody>\n",
       "</table>\n",
       "</div>"
      ],
      "text/plain": [
       "   Unnamed: 0  id                                                 Q1  \\\n",
       "0           0  20  [{'s': 'PHI 0 - BAL 0', 'c': '15:00', 't': '--...   \n",
       "1           1  30  [{'s': 'OCO 0 - COL 0', 'c': '15:00', 't': '--...   \n",
       "2           2  40  [{'s': 'YKW 0 - OCO 0', 'c': '15:00', 't': '--...   \n",
       "3           3  50  [{'s': 'PHI 0 - SJS 0', 'c': '15:00', 't': '--...   \n",
       "4           4  60  [{'s': 'HON 0 - NOLA 0', 'c': '15:00', 't': '-...   \n",
       "\n",
       "                                                  Q2  \\\n",
       "0  [{'s': 'PHI 21 - BAL 7', 'c': '15:00', 't': '2...   \n",
       "1  [{'s': 'OCO 17 - COL 0', 'c': '15:00', 't': '3...   \n",
       "2  [{'s': 'YKW 7 - OCO 0', 'c': '15:00', 't': '1s...   \n",
       "3  [{'s': 'PHI 7 - SJS 14', 'c': '15:00', 't': '1...   \n",
       "4  [{'s': 'HON 0 - NOLA 9', 'c': '15:00', 't': '2...   \n",
       "\n",
       "                                                  Q3  \\\n",
       "0  [{'s': 'PHI 21 - BAL 28', 'c': '15:00', 't': '...   \n",
       "1  [{'s': 'OCO 20 - COL 7', 'c': '15:00', 't': '2...   \n",
       "2  [{'s': 'YKW 10 - OCO 14', 'c': '15:00', 't': '...   \n",
       "3  [{'s': 'PHI 14 - SJS 24', 'c': '15:00', 't': '...   \n",
       "4  [{'s': 'HON 7 - NOLA 9', 'c': '15:00', 't': '1...   \n",
       "\n",
       "                                                  Q4  OT  \n",
       "0  [{'s': 'PHI 28 - BAL 35', 'c': '15:00', 't': '...  []  \n",
       "1  [{'s': 'OCO 27 - COL 10', 'c': '15:00', 't': '...  []  \n",
       "2  [{'s': 'YKW 24 - OCO 16', 'c': '15:00', 't': '...  []  \n",
       "3  [{'s': 'PHI 21 - SJS 31', 'c': '15:00', 't': '...  []  \n",
       "4  [{'s': 'HON 7 - NOLA 16', 'c': '15:00', 't': '...  []  "
      ]
     },
     "execution_count": 39,
     "metadata": {},
     "output_type": "execute_result"
    }
   ],
   "source": [
    "pbpDF = pd.read_csv('testLZ/S%s/pbpDF.csv'%strnum)\n",
    "pbpDF.head()"
   ]
  },
  {
   "cell_type": "code",
   "execution_count": 90,
   "metadata": {},
   "outputs": [
    {
     "data": {
      "text/html": [
       "<div>\n",
       "<style scoped>\n",
       "    .dataframe tbody tr th:only-of-type {\n",
       "        vertical-align: middle;\n",
       "    }\n",
       "\n",
       "    .dataframe tbody tr th {\n",
       "        vertical-align: top;\n",
       "    }\n",
       "\n",
       "    .dataframe thead th {\n",
       "        text-align: right;\n",
       "    }\n",
       "</style>\n",
       "<table border=\"1\" class=\"dataframe\">\n",
       "  <thead>\n",
       "    <tr style=\"text-align: right;\">\n",
       "      <th></th>\n",
       "      <th>s</th>\n",
       "      <th>c</th>\n",
       "      <th>t</th>\n",
       "      <th>o</th>\n",
       "      <th>m</th>\n",
       "      <th>css</th>\n",
       "      <th>id</th>\n",
       "    </tr>\n",
       "  </thead>\n",
       "  <tbody>\n",
       "    <tr>\n",
       "      <th>0</th>\n",
       "      <td>PHI 0 - BAL 0</td>\n",
       "      <td>15:00</td>\n",
       "      <td>---</td>\n",
       "      <td>--</td>\n",
       "      <td>15:00 - First Quarter</td>\n",
       "      <td></td>\n",
       "      <td>NaN</td>\n",
       "    </tr>\n",
       "    <tr>\n",
       "      <th>1</th>\n",
       "      <td>PHI 0 - BAL 0</td>\n",
       "      <td>15:00</td>\n",
       "      <td>---</td>\n",
       "      <td>PHI - 35</td>\n",
       "      <td>Fencik (R), J. kicks off.&lt;br/&gt;The kick sails i...</td>\n",
       "      <td>e</td>\n",
       "      <td>7.0</td>\n",
       "    </tr>\n",
       "    <tr>\n",
       "      <th>2</th>\n",
       "      <td>PHI 0 - BAL 0</td>\n",
       "      <td>14:51</td>\n",
       "      <td>1st and 10</td>\n",
       "      <td>BAL - 34</td>\n",
       "      <td>Rush by Fukushu, M. for 1 yds. Tackle by DeSot...</td>\n",
       "      <td></td>\n",
       "      <td>1.0</td>\n",
       "    </tr>\n",
       "    <tr>\n",
       "      <th>3</th>\n",
       "      <td>PHI 0 - BAL 0</td>\n",
       "      <td>14:31</td>\n",
       "      <td>2nd and 8</td>\n",
       "      <td>BAL - 35</td>\n",
       "      <td>Rush by Fukushu, M. for a short gain. Tackle b...</td>\n",
       "      <td></td>\n",
       "      <td>1.0</td>\n",
       "    </tr>\n",
       "    <tr>\n",
       "      <th>4</th>\n",
       "      <td>PHI 0 - BAL 0</td>\n",
       "      <td>14:14</td>\n",
       "      <td>3rd and 8</td>\n",
       "      <td>BAL - 36</td>\n",
       "      <td>Pass by Fujiwara (C), C., complete to Fukushu,...</td>\n",
       "      <td></td>\n",
       "      <td>1.0</td>\n",
       "    </tr>\n",
       "  </tbody>\n",
       "</table>\n",
       "</div>"
      ],
      "text/plain": [
       "               s      c           t         o  \\\n",
       "0  PHI 0 - BAL 0  15:00         ---        --   \n",
       "1  PHI 0 - BAL 0  15:00         ---  PHI - 35   \n",
       "2  PHI 0 - BAL 0  14:51  1st and 10  BAL - 34   \n",
       "3  PHI 0 - BAL 0  14:31   2nd and 8  BAL - 35   \n",
       "4  PHI 0 - BAL 0  14:14   3rd and 8  BAL - 36   \n",
       "\n",
       "                                                   m css   id  \n",
       "0                              15:00 - First Quarter      NaN  \n",
       "1  Fencik (R), J. kicks off.<br/>The kick sails i...   e  7.0  \n",
       "2  Rush by Fukushu, M. for 1 yds. Tackle by DeSot...      1.0  \n",
       "3  Rush by Fukushu, M. for a short gain. Tackle b...      1.0  \n",
       "4  Pass by Fujiwara (C), C., complete to Fukushu,...      1.0  "
      ]
     },
     "execution_count": 90,
     "metadata": {},
     "output_type": "execute_result"
    }
   ],
   "source": [
    "Q1 = pd.DataFrame(eval(pbpDF[pbpDF.id == 20]['Q1'].iloc[0]))\n",
    "\n",
    "Q1.head()"
   ]
  },
  {
   "cell_type": "code",
   "execution_count": 202,
   "metadata": {},
   "outputs": [],
   "source": [
    "gameID = 20\n",
    "\n",
    "i = 0\n",
    "gamePBP = pd.DataFrame()\n",
    "for q in ['Q1','Q2','Q3','Q4','OT']:\n",
    "    i += 1\n",
    "    qDF = pd.DataFrame(eval(pbpDF[pbpDF.id == gameID][q].iloc[0]))\n",
    "    qDF['Q'] = i\n",
    "    gamePBP = pd.concat([gamePBP,qDF])\n",
    "\n",
    "gamePBP = gamePBP.dropna()\n",
    "gamePBP['gameID'] = gameID\n",
    "gamePBP['S'] = S\n",
    "gamePBP['m'] = gamePBP.m.str.replace('<br/>',' ')\n",
    "gamePBP = gamePBP.rename(columns = {'id':'teamID','m':'play','c':'time'})\n",
    "gamePBP = gamePBP.reset_index(drop=True)"
   ]
  },
  {
   "cell_type": "code",
   "execution_count": 203,
   "metadata": {},
   "outputs": [
    {
     "data": {
      "text/html": [
       "<div>\n",
       "<style scoped>\n",
       "    .dataframe tbody tr th:only-of-type {\n",
       "        vertical-align: middle;\n",
       "    }\n",
       "\n",
       "    .dataframe tbody tr th {\n",
       "        vertical-align: top;\n",
       "    }\n",
       "\n",
       "    .dataframe thead th {\n",
       "        text-align: right;\n",
       "    }\n",
       "</style>\n",
       "<table border=\"1\" class=\"dataframe\">\n",
       "  <thead>\n",
       "    <tr style=\"text-align: right;\">\n",
       "      <th></th>\n",
       "      <th>s</th>\n",
       "      <th>time</th>\n",
       "      <th>t</th>\n",
       "      <th>o</th>\n",
       "      <th>play</th>\n",
       "      <th>css</th>\n",
       "      <th>teamID</th>\n",
       "      <th>Q</th>\n",
       "      <th>gameID</th>\n",
       "      <th>S</th>\n",
       "    </tr>\n",
       "  </thead>\n",
       "  <tbody>\n",
       "    <tr>\n",
       "      <th>0</th>\n",
       "      <td>PHI 0 - BAL 0</td>\n",
       "      <td>15:00</td>\n",
       "      <td>---</td>\n",
       "      <td>PHI - 35</td>\n",
       "      <td>Fencik (R), J. kicks off. The kick sails into ...</td>\n",
       "      <td>e</td>\n",
       "      <td>7.0</td>\n",
       "      <td>1</td>\n",
       "      <td>20</td>\n",
       "      <td>1</td>\n",
       "    </tr>\n",
       "    <tr>\n",
       "      <th>1</th>\n",
       "      <td>PHI 0 - BAL 0</td>\n",
       "      <td>14:51</td>\n",
       "      <td>1st and 10</td>\n",
       "      <td>BAL - 34</td>\n",
       "      <td>Rush by Fukushu, M. for 1 yds. Tackle by DeSot...</td>\n",
       "      <td></td>\n",
       "      <td>1.0</td>\n",
       "      <td>1</td>\n",
       "      <td>20</td>\n",
       "      <td>1</td>\n",
       "    </tr>\n",
       "    <tr>\n",
       "      <th>2</th>\n",
       "      <td>PHI 0 - BAL 0</td>\n",
       "      <td>14:31</td>\n",
       "      <td>2nd and 8</td>\n",
       "      <td>BAL - 35</td>\n",
       "      <td>Rush by Fukushu, M. for a short gain. Tackle b...</td>\n",
       "      <td></td>\n",
       "      <td>1.0</td>\n",
       "      <td>1</td>\n",
       "      <td>20</td>\n",
       "      <td>1</td>\n",
       "    </tr>\n",
       "    <tr>\n",
       "      <th>3</th>\n",
       "      <td>PHI 0 - BAL 0</td>\n",
       "      <td>14:14</td>\n",
       "      <td>3rd and 8</td>\n",
       "      <td>BAL - 36</td>\n",
       "      <td>Pass by Fujiwara (C), C., complete to Fukushu,...</td>\n",
       "      <td></td>\n",
       "      <td>1.0</td>\n",
       "      <td>1</td>\n",
       "      <td>20</td>\n",
       "      <td>1</td>\n",
       "    </tr>\n",
       "    <tr>\n",
       "      <th>4</th>\n",
       "      <td>PHI 0 - BAL 0</td>\n",
       "      <td>13:25</td>\n",
       "      <td>1st and 10</td>\n",
       "      <td>BAL - 48</td>\n",
       "      <td>Rush by Covey, J. for a short gain. Tackle by ...</td>\n",
       "      <td></td>\n",
       "      <td>1.0</td>\n",
       "      <td>1</td>\n",
       "      <td>20</td>\n",
       "      <td>1</td>\n",
       "    </tr>\n",
       "  </tbody>\n",
       "</table>\n",
       "</div>"
      ],
      "text/plain": [
       "               s   time           t         o  \\\n",
       "0  PHI 0 - BAL 0  15:00         ---  PHI - 35   \n",
       "1  PHI 0 - BAL 0  14:51  1st and 10  BAL - 34   \n",
       "2  PHI 0 - BAL 0  14:31   2nd and 8  BAL - 35   \n",
       "3  PHI 0 - BAL 0  14:14   3rd and 8  BAL - 36   \n",
       "4  PHI 0 - BAL 0  13:25  1st and 10  BAL - 48   \n",
       "\n",
       "                                                play css  teamID  Q  gameID  S  \n",
       "0  Fencik (R), J. kicks off. The kick sails into ...   e     7.0  1      20  1  \n",
       "1  Rush by Fukushu, M. for 1 yds. Tackle by DeSot...         1.0  1      20  1  \n",
       "2  Rush by Fukushu, M. for a short gain. Tackle b...         1.0  1      20  1  \n",
       "3  Pass by Fujiwara (C), C., complete to Fukushu,...         1.0  1      20  1  \n",
       "4  Rush by Covey, J. for a short gain. Tackle by ...         1.0  1      20  1  "
      ]
     },
     "execution_count": 203,
     "metadata": {},
     "output_type": "execute_result"
    }
   ],
   "source": [
    "gamePBP.head()"
   ]
  },
  {
   "cell_type": "code",
   "execution_count": 204,
   "metadata": {},
   "outputs": [],
   "source": [
    "gamePBP['awayTeam'],gamePBP['homeTeam'] = gamePBP.loc[0].s.replace(' 0','').replace(' ','').split('-')"
   ]
  },
  {
   "cell_type": "code",
   "execution_count": 205,
   "metadata": {},
   "outputs": [],
   "source": [
    "def getTeams(teamID):\n",
    "    teamIDs = {'1':'BAL','2':'YKW','3':'COL','4':'ARI','5':'OCO','6':'SJS',\n",
    "                   '7':'PHI','8':'NOLA','9':'CHI','10':'AUS','11':'SAR','12':'HON',\n",
    "                   '13':'BER','14':'NYS'}\n",
    "    return teamIDs[teamID]"
   ]
  },
  {
   "cell_type": "code",
   "execution_count": 206,
   "metadata": {},
   "outputs": [],
   "source": [
    "gamePBP['teamPoss'] = gamePBP.apply(lambda x: getTeams(str(int(x.teamID))),axis=1)"
   ]
  },
  {
   "cell_type": "code",
   "execution_count": 207,
   "metadata": {},
   "outputs": [],
   "source": [
    "gamePBP[['side', 'yard']] = gamePBP.o.str.split(' - ',expand=True)"
   ]
  },
  {
   "cell_type": "code",
   "execution_count": 208,
   "metadata": {},
   "outputs": [],
   "source": [
    "def dist2goal(team,side,yard):\n",
    "    if team == side:\n",
    "        dist = 100 - int(yard)\n",
    "    elif side != '':\n",
    "        dist = int(yard)\n",
    "    else:\n",
    "        dist = ''\n",
    "    return dist"
   ]
  },
  {
   "cell_type": "code",
   "execution_count": 209,
   "metadata": {},
   "outputs": [],
   "source": [
    "gamePBP['dist2goal'] = gamePBP.apply(lambda x: dist2goal(x.teamPoss,x.side,x.yard),axis=1)"
   ]
  },
  {
   "cell_type": "code",
   "execution_count": 253,
   "metadata": {},
   "outputs": [],
   "source": [
    "pattern = '|'.join(['st','nd','rd','th'])\n",
    "gamePBP[['down','distance']] = gamePBP.t.str.replace('---','0 and 0').str.replace('inches','1').str.replace(pattern,'').str.split(' a ',expand=True)\n",
    "gamePBP.loc[gamePBP.distance == 'Goal','distance'] = gamePBP.loc[gamePBP.distance == 'Goal','dist2goal']"
   ]
  },
  {
   "cell_type": "code",
   "execution_count": 254,
   "metadata": {},
   "outputs": [],
   "source": [
    "gamePBP[['minutes','seconds']] = gamePBP['time'].str.split(':',expand=True)\n",
    "def totTime(gamePBP):\n",
    "    return 15*60*(4-int(gamePBP.Q)) + int(gamePBP.minutes)*60 + int(gamePBP.seconds)\n",
    "gamePBP['totTime'] = gamePBP.apply(lambda x: totTime(x),axis=1)"
   ]
  },
  {
   "cell_type": "code",
   "execution_count": 255,
   "metadata": {},
   "outputs": [],
   "source": [
    "gamePBP[['awayStrScore','homeStrScore']] = gamePBP.s.str.split(' - ',expand=True)\n",
    "gamePBP['awayScore'] = gamePBP.awayStrScore.str.split(' ',expand=True).iloc[:,1]\n",
    "gamePBP['homeScore'] = gamePBP.homeStrScore.str.split(' ',expand=True).iloc[:,1]"
   ]
  },
  {
   "cell_type": "code",
   "execution_count": 258,
   "metadata": {},
   "outputs": [],
   "source": [
    "gamePBP = gamePBP.apply(pd.to_numeric,errors='ignore',downcast='integer')"
   ]
  },
  {
   "cell_type": "code",
   "execution_count": 263,
   "metadata": {},
   "outputs": [],
   "source": [
    "gamePBP = gamePBP[['gameID', 'S', 'teamID', 'Q', 'time', 'totTime', 'down', 'distance', 'side', 'yard', 'play', 'awayTeam', 'homeTeam', 'teamPoss', 'dist2goal', 'awayScore', 'homeScore']]"
   ]
  },
  {
   "cell_type": "code",
   "execution_count": 265,
   "metadata": {},
   "outputs": [
    {
     "data": {
      "text/html": [
       "<div>\n",
       "<style scoped>\n",
       "    .dataframe tbody tr th:only-of-type {\n",
       "        vertical-align: middle;\n",
       "    }\n",
       "\n",
       "    .dataframe tbody tr th {\n",
       "        vertical-align: top;\n",
       "    }\n",
       "\n",
       "    .dataframe thead th {\n",
       "        text-align: right;\n",
       "    }\n",
       "</style>\n",
       "<table border=\"1\" class=\"dataframe\">\n",
       "  <thead>\n",
       "    <tr style=\"text-align: right;\">\n",
       "      <th></th>\n",
       "      <th>gameID</th>\n",
       "      <th>S</th>\n",
       "      <th>teamID</th>\n",
       "      <th>Q</th>\n",
       "      <th>time</th>\n",
       "      <th>totTime</th>\n",
       "      <th>down</th>\n",
       "      <th>distance</th>\n",
       "      <th>side</th>\n",
       "      <th>yard</th>\n",
       "      <th>play</th>\n",
       "      <th>awayTeam</th>\n",
       "      <th>homeTeam</th>\n",
       "      <th>teamPoss</th>\n",
       "      <th>dist2goal</th>\n",
       "      <th>awayScore</th>\n",
       "      <th>homeScore</th>\n",
       "    </tr>\n",
       "  </thead>\n",
       "  <tbody>\n",
       "    <tr>\n",
       "      <th>0</th>\n",
       "      <td>20</td>\n",
       "      <td>1</td>\n",
       "      <td>7</td>\n",
       "      <td>1</td>\n",
       "      <td>15:00</td>\n",
       "      <td>3600</td>\n",
       "      <td>0</td>\n",
       "      <td>0</td>\n",
       "      <td>PHI</td>\n",
       "      <td>35</td>\n",
       "      <td>Fencik (R), J. kicks off. The kick sails into ...</td>\n",
       "      <td>PHI</td>\n",
       "      <td>BAL</td>\n",
       "      <td>PHI</td>\n",
       "      <td>65</td>\n",
       "      <td>0</td>\n",
       "      <td>0</td>\n",
       "    </tr>\n",
       "    <tr>\n",
       "      <th>1</th>\n",
       "      <td>20</td>\n",
       "      <td>1</td>\n",
       "      <td>1</td>\n",
       "      <td>1</td>\n",
       "      <td>14:51</td>\n",
       "      <td>3591</td>\n",
       "      <td>1</td>\n",
       "      <td>10</td>\n",
       "      <td>BAL</td>\n",
       "      <td>34</td>\n",
       "      <td>Rush by Fukushu, M. for 1 yds. Tackle by DeSot...</td>\n",
       "      <td>PHI</td>\n",
       "      <td>BAL</td>\n",
       "      <td>BAL</td>\n",
       "      <td>66</td>\n",
       "      <td>0</td>\n",
       "      <td>0</td>\n",
       "    </tr>\n",
       "    <tr>\n",
       "      <th>2</th>\n",
       "      <td>20</td>\n",
       "      <td>1</td>\n",
       "      <td>1</td>\n",
       "      <td>1</td>\n",
       "      <td>14:31</td>\n",
       "      <td>3571</td>\n",
       "      <td>2</td>\n",
       "      <td>8</td>\n",
       "      <td>BAL</td>\n",
       "      <td>35</td>\n",
       "      <td>Rush by Fukushu, M. for a short gain. Tackle b...</td>\n",
       "      <td>PHI</td>\n",
       "      <td>BAL</td>\n",
       "      <td>BAL</td>\n",
       "      <td>65</td>\n",
       "      <td>0</td>\n",
       "      <td>0</td>\n",
       "    </tr>\n",
       "    <tr>\n",
       "      <th>3</th>\n",
       "      <td>20</td>\n",
       "      <td>1</td>\n",
       "      <td>1</td>\n",
       "      <td>1</td>\n",
       "      <td>14:14</td>\n",
       "      <td>3554</td>\n",
       "      <td>3</td>\n",
       "      <td>8</td>\n",
       "      <td>BAL</td>\n",
       "      <td>36</td>\n",
       "      <td>Pass by Fujiwara (C), C., complete to Fukushu,...</td>\n",
       "      <td>PHI</td>\n",
       "      <td>BAL</td>\n",
       "      <td>BAL</td>\n",
       "      <td>64</td>\n",
       "      <td>0</td>\n",
       "      <td>0</td>\n",
       "    </tr>\n",
       "    <tr>\n",
       "      <th>4</th>\n",
       "      <td>20</td>\n",
       "      <td>1</td>\n",
       "      <td>1</td>\n",
       "      <td>1</td>\n",
       "      <td>13:25</td>\n",
       "      <td>3505</td>\n",
       "      <td>1</td>\n",
       "      <td>10</td>\n",
       "      <td>BAL</td>\n",
       "      <td>48</td>\n",
       "      <td>Rush by Covey, J. for a short gain. Tackle by ...</td>\n",
       "      <td>PHI</td>\n",
       "      <td>BAL</td>\n",
       "      <td>BAL</td>\n",
       "      <td>52</td>\n",
       "      <td>0</td>\n",
       "      <td>0</td>\n",
       "    </tr>\n",
       "  </tbody>\n",
       "</table>\n",
       "</div>"
      ],
      "text/plain": [
       "   gameID  S  teamID  Q   time  totTime  down  distance side  yard  \\\n",
       "0      20  1       7  1  15:00     3600     0         0  PHI    35   \n",
       "1      20  1       1  1  14:51     3591     1        10  BAL    34   \n",
       "2      20  1       1  1  14:31     3571     2         8  BAL    35   \n",
       "3      20  1       1  1  14:14     3554     3         8  BAL    36   \n",
       "4      20  1       1  1  13:25     3505     1        10  BAL    48   \n",
       "\n",
       "                                                play awayTeam homeTeam  \\\n",
       "0  Fencik (R), J. kicks off. The kick sails into ...      PHI      BAL   \n",
       "1  Rush by Fukushu, M. for 1 yds. Tackle by DeSot...      PHI      BAL   \n",
       "2  Rush by Fukushu, M. for a short gain. Tackle b...      PHI      BAL   \n",
       "3  Pass by Fujiwara (C), C., complete to Fukushu,...      PHI      BAL   \n",
       "4  Rush by Covey, J. for a short gain. Tackle by ...      PHI      BAL   \n",
       "\n",
       "  teamPoss  dist2goal  awayScore  homeScore  \n",
       "0      PHI         65          0          0  \n",
       "1      BAL         66          0          0  \n",
       "2      BAL         65          0          0  \n",
       "3      BAL         64          0          0  \n",
       "4      BAL         52          0          0  "
      ]
     },
     "execution_count": 265,
     "metadata": {},
     "output_type": "execute_result"
    }
   ],
   "source": [
    "gamePBP.head()"
   ]
  },
  {
   "cell_type": "code",
   "execution_count": 8,
   "metadata": {},
   "outputs": [],
   "source": [
    "def getTeams(teamID):\n",
    "    teamIDs = {'1':'BAL','2':'YKW','3':'COL','4':'ARI','5':'OCO','6':'SJS',\n",
    "                   '7':'PHI','8':'NOLA','9':'CHI','10':'AUS','11':'SAR','12':'HON',\n",
    "                   '13':'BER','14':'NYS'}\n",
    "    return teamIDs[teamID]\n",
    "\n",
    "def totTime(gamePBP):\n",
    "    return 15*60*(4-int(gamePBP.Q)) + int(gamePBP.minutes)*60 + int(gamePBP.seconds)\n",
    "\n",
    "def dist2goal(team,side,yard):\n",
    "    if team == side:\n",
    "        dist = 100 - int(yard)\n",
    "    elif side != '':\n",
    "        dist = int(yard)\n",
    "    else:\n",
    "        dist = ''\n",
    "    return dist\n",
    "\n",
    "def getGameDataLZ(S,gameID):\n",
    "    if S < 10:\n",
    "        strnum = '0' + str(S)\n",
    "    elif S >= 10:\n",
    "        strnum = str(S)\n",
    "    \n",
    "    pbpDF = pd.read_csv('testLZ/S%s/pbpDF.csv'%strnum)\n",
    "    \n",
    "    i = 0\n",
    "    gamePBP = pd.DataFrame()\n",
    "    for q in ['Q1','Q2','Q3','Q4','OT']:\n",
    "        i += 1\n",
    "        qDF = pd.DataFrame(eval(pbpDF[pbpDF.id == gameID][q].iloc[0]))\n",
    "        qDF['Q'] = i\n",
    "        gamePBP = pd.concat([gamePBP,qDF])\n",
    "\n",
    "    gamePBP = gamePBP.dropna()\n",
    "    gamePBP['gameID'] = gameID\n",
    "    gamePBP['S'] = S\n",
    "    gamePBP['m'] = gamePBP.m.str.replace('<br/>',' ')\n",
    "    gamePBP = gamePBP.rename(columns = {'id':'teamID','m':'play','c':'time'})\n",
    "    gamePBP = gamePBP.reset_index(drop=True)\n",
    "    \n",
    "    gamePBP['teamPoss'] = gamePBP.apply(lambda x: getTeams(str(int(x.teamID))),axis=1)\n",
    "    gamePBP[['side', 'yard']] = gamePBP.o.str.split(' - ',expand=True)    \n",
    "    gamePBP['awayTeam'],gamePBP['homeTeam'] = gamePBP.loc[0].s.replace(' 0','').replace(' ','').split('-')\n",
    "\n",
    "    gamePBP['dist2goal'] = gamePBP.apply(lambda x: dist2goal(x.teamPoss,x.side,x.yard),axis=1)\n",
    "\n",
    "    pattern = '|'.join(['st','nd','rd','th'])\n",
    "    gamePBP[['down','distance']] = gamePBP.t.str.replace('---','0 and 0').str.replace('inches','1').str.replace(pattern,'').str.split(' a ',expand=True)\n",
    "    gamePBP.loc[gamePBP.distance == 'Goal','distance'] = gamePBP.loc[gamePBP.distance == 'Goal','dist2goal']\n",
    "\n",
    "    gamePBP[['minutes','seconds']] = gamePBP['time'].str.split(':',expand=True)\n",
    "\n",
    "    gamePBP['totTime'] = gamePBP.apply(lambda x: totTime(x),axis=1)\n",
    "\n",
    "    gamePBP[['awayStrScore','homeStrScore']] = gamePBP.s.str.split(' - ',expand=True)\n",
    "    gamePBP['awayScore'] = gamePBP.awayStrScore.str.split(' ',expand=True).iloc[:,1]\n",
    "    gamePBP['homeScore'] = gamePBP.homeStrScore.str.split(' ',expand=True).iloc[:,1]\n",
    "\n",
    "    gamePBP = gamePBP.apply(pd.to_numeric,errors='ignore',downcast='integer')\n",
    "\n",
    "    return gamePBP[['gameID', 'S', 'teamID', 'Q', 'time', 'totTime', 'down', 'distance', 'side', 'yard', 'play', 'awayTeam', 'homeTeam', 'teamPoss', 'dist2goal', 'awayScore', 'homeScore']]"
   ]
  },
  {
   "cell_type": "code",
   "execution_count": 9,
   "metadata": {},
   "outputs": [
    {
     "data": {
      "application/vnd.jupyter.widget-view+json": {
       "model_id": "c31542cb19e243b395a68ddfd261bcc0",
       "version_major": 2,
       "version_minor": 0
      },
      "text/plain": [
       "HBox(children=(HTML(value=''), FloatProgress(value=0.0, max=10.0), HTML(value='')))"
      ]
     },
     "metadata": {},
     "output_type": "display_data"
    },
    {
     "data": {
      "application/vnd.jupyter.widget-view+json": {
       "model_id": "9991d55f00cd47958410882fa95ee692",
       "version_major": 2,
       "version_minor": 0
      },
      "text/plain": [
       "HBox(children=(HTML(value=''), FloatProgress(value=0.0, max=112.0), HTML(value='')))"
      ]
     },
     "metadata": {},
     "output_type": "display_data"
    },
    {
     "name": "stdout",
     "output_type": "stream",
     "text": [
      "\n",
      "\n",
      "\n"
     ]
    },
    {
     "data": {
      "application/vnd.jupyter.widget-view+json": {
       "model_id": "1ecb7717279a40cca6bbfae5a343fecf",
       "version_major": 2,
       "version_minor": 0
      },
      "text/plain": [
       "HBox(children=(HTML(value=''), FloatProgress(value=0.0, max=112.0), HTML(value='')))"
      ]
     },
     "metadata": {},
     "output_type": "display_data"
    },
    {
     "name": "stdout",
     "output_type": "stream",
     "text": [
      "\n"
     ]
    },
    {
     "data": {
      "application/vnd.jupyter.widget-view+json": {
       "model_id": "0bd1dc40e69446ea8409e7da895b99eb",
       "version_major": 2,
       "version_minor": 0
      },
      "text/plain": [
       "HBox(children=(HTML(value=''), FloatProgress(value=0.0, max=112.0), HTML(value='')))"
      ]
     },
     "metadata": {},
     "output_type": "display_data"
    },
    {
     "data": {
      "application/vnd.jupyter.widget-view+json": {
       "model_id": "be5d59de71c24ec1abe7b3cafc687258",
       "version_major": 2,
       "version_minor": 0
      },
      "text/plain": [
       "HBox(children=(HTML(value=''), FloatProgress(value=0.0, max=112.0), HTML(value='')))"
      ]
     },
     "metadata": {},
     "output_type": "display_data"
    },
    {
     "name": "stdout",
     "output_type": "stream",
     "text": [
      "\n",
      "\n"
     ]
    },
    {
     "data": {
      "application/vnd.jupyter.widget-view+json": {
       "model_id": "9b47422f132944b3850a45362dd4d852",
       "version_major": 2,
       "version_minor": 0
      },
      "text/plain": [
       "HBox(children=(HTML(value=''), FloatProgress(value=0.0, max=112.0), HTML(value='')))"
      ]
     },
     "metadata": {},
     "output_type": "display_data"
    },
    {
     "name": "stdout",
     "output_type": "stream",
     "text": [
      "\n"
     ]
    },
    {
     "data": {
      "application/vnd.jupyter.widget-view+json": {
       "model_id": "5060db950cb84ac89c04bd5aee22c12c",
       "version_major": 2,
       "version_minor": 0
      },
      "text/plain": [
       "HBox(children=(HTML(value=''), FloatProgress(value=0.0, max=112.0), HTML(value='')))"
      ]
     },
     "metadata": {},
     "output_type": "display_data"
    },
    {
     "data": {
      "application/vnd.jupyter.widget-view+json": {
       "model_id": "b77abcfcdc3740d1b3e2e4770cb130b9",
       "version_major": 2,
       "version_minor": 0
      },
      "text/plain": [
       "HBox(children=(HTML(value=''), FloatProgress(value=0.0, max=112.0), HTML(value='')))"
      ]
     },
     "metadata": {},
     "output_type": "display_data"
    },
    {
     "name": "stdout",
     "output_type": "stream",
     "text": [
      "\n",
      "\n"
     ]
    },
    {
     "data": {
      "application/vnd.jupyter.widget-view+json": {
       "model_id": "e6e5c3644dfd4b8394480e8fa9dc950f",
       "version_major": 2,
       "version_minor": 0
      },
      "text/plain": [
       "HBox(children=(HTML(value=''), FloatProgress(value=0.0, max=112.0), HTML(value='')))"
      ]
     },
     "metadata": {},
     "output_type": "display_data"
    },
    {
     "name": "stdout",
     "output_type": "stream",
     "text": [
      "\n"
     ]
    },
    {
     "data": {
      "application/vnd.jupyter.widget-view+json": {
       "model_id": "55ab9e7c15b844879bd6e8552fce71fb",
       "version_major": 2,
       "version_minor": 0
      },
      "text/plain": [
       "HBox(children=(HTML(value=''), FloatProgress(value=0.0, max=112.0), HTML(value='')))"
      ]
     },
     "metadata": {},
     "output_type": "display_data"
    },
    {
     "data": {
      "application/vnd.jupyter.widget-view+json": {
       "model_id": "d06190824bd84438b910275c8e7271ca",
       "version_major": 2,
       "version_minor": 0
      },
      "text/plain": [
       "HBox(children=(HTML(value=''), FloatProgress(value=0.0, max=112.0), HTML(value='')))"
      ]
     },
     "metadata": {},
     "output_type": "display_data"
    },
    {
     "name": "stdout",
     "output_type": "stream",
     "text": [
      "\n",
      "\n"
     ]
    }
   ],
   "source": [
    "sBar = tqdm(total=10)\n",
    "for S in range(1,11):\n",
    "    sBar.set_description('S%s'%S)\n",
    "    sIDList = getSeasonIDs(S,post=False)\n",
    "    sDF = pd.DataFrame()\n",
    "    iBar = tqdm(total=len(sIDList[0]))\n",
    "    for i in sIDList[0]:\n",
    "        iBar.set_description(str(i))\n",
    "        gDF = getGameDataLZ(S,i)\n",
    "        sDF = pd.concat([sDF,gDF])\n",
    "        iBar.update(1)\n",
    "    sDF.to_csv('testLZ/S%s.csv'%S)\n",
    "    sBar.update(1)"
   ]
  },
  {
   "cell_type": "code",
   "execution_count": null,
   "metadata": {},
   "outputs": [],
   "source": []
  }
 ],
 "metadata": {
  "kernelspec": {
   "display_name": "Python 3",
   "language": "python",
   "name": "python3"
  },
  "language_info": {
   "codemirror_mode": {
    "name": "ipython",
    "version": 3
   },
   "file_extension": ".py",
   "mimetype": "text/x-python",
   "name": "python",
   "nbconvert_exporter": "python",
   "pygments_lexer": "ipython3",
   "version": "3.7.9"
  }
 },
 "nbformat": 4,
 "nbformat_minor": 4
}
